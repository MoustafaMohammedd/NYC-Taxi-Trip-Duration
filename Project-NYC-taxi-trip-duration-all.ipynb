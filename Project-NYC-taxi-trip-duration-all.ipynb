{
 "cells": [
  {
   "cell_type": "code",
   "execution_count": 1,
   "id": "a6c0468b",
   "metadata": {},
   "outputs": [],
   "source": [
    "import numpy as np\n",
    "import pandas as pd \n",
    "import matplotlib.pyplot as plt \n",
    "import seaborn as sns"
   ]
  },
  {
   "cell_type": "code",
   "execution_count": 2,
   "id": "d2673855",
   "metadata": {},
   "outputs": [],
   "source": [
    "df_train =pd.read_csv(r\"D:\\Courses\\ML Dr Mostafa\\Projects_last\\1 project-nyc-taxi-trip-duration\\split\\train.csv\")\n",
    "df_val =pd.read_csv(r\"D:\\Courses\\ML Dr Mostafa\\Projects_last\\1 project-nyc-taxi-trip-duration\\split\\val.csv\")\n",
    "df_test=pd.read_csv(r\"D:\\Courses\\ML Dr Mostafa\\Projects_last\\1 project-nyc-taxi-trip-duration\\split\\test.csv\")\n",
    "pd.set_option(\"display.max_columns\",50)\n"
   ]
  },
  {
   "cell_type": "code",
   "execution_count": 3,
   "id": "596c5699-07be-4d7a-a304-3fdbac2271c1",
   "metadata": {},
   "outputs": [
    {
     "data": {
      "text/html": [
       "<div>\n",
       "<style scoped>\n",
       "    .dataframe tbody tr th:only-of-type {\n",
       "        vertical-align: middle;\n",
       "    }\n",
       "\n",
       "    .dataframe tbody tr th {\n",
       "        vertical-align: top;\n",
       "    }\n",
       "\n",
       "    .dataframe thead th {\n",
       "        text-align: right;\n",
       "    }\n",
       "</style>\n",
       "<table border=\"1\" class=\"dataframe\">\n",
       "  <thead>\n",
       "    <tr style=\"text-align: right;\">\n",
       "      <th></th>\n",
       "      <th>id</th>\n",
       "      <th>vendor_id</th>\n",
       "      <th>pickup_datetime</th>\n",
       "      <th>passenger_count</th>\n",
       "      <th>pickup_longitude</th>\n",
       "      <th>pickup_latitude</th>\n",
       "      <th>dropoff_longitude</th>\n",
       "      <th>dropoff_latitude</th>\n",
       "      <th>store_and_fwd_flag</th>\n",
       "      <th>trip_duration</th>\n",
       "    </tr>\n",
       "  </thead>\n",
       "  <tbody>\n",
       "    <tr>\n",
       "      <th>0</th>\n",
       "      <td>id2793718</td>\n",
       "      <td>2</td>\n",
       "      <td>2016-06-08 07:36:19</td>\n",
       "      <td>1</td>\n",
       "      <td>-73.985611</td>\n",
       "      <td>40.735943</td>\n",
       "      <td>-73.980331</td>\n",
       "      <td>40.760468</td>\n",
       "      <td>N</td>\n",
       "      <td>1040</td>\n",
       "    </tr>\n",
       "    <tr>\n",
       "      <th>1</th>\n",
       "      <td>id3485529</td>\n",
       "      <td>2</td>\n",
       "      <td>2016-04-03 12:58:11</td>\n",
       "      <td>1</td>\n",
       "      <td>-73.978394</td>\n",
       "      <td>40.764351</td>\n",
       "      <td>-73.991623</td>\n",
       "      <td>40.749859</td>\n",
       "      <td>N</td>\n",
       "      <td>827</td>\n",
       "    </tr>\n",
       "    <tr>\n",
       "      <th>2</th>\n",
       "      <td>id1816614</td>\n",
       "      <td>2</td>\n",
       "      <td>2016-06-05 02:49:13</td>\n",
       "      <td>5</td>\n",
       "      <td>-73.989059</td>\n",
       "      <td>40.744389</td>\n",
       "      <td>-73.973381</td>\n",
       "      <td>40.748692</td>\n",
       "      <td>N</td>\n",
       "      <td>614</td>\n",
       "    </tr>\n",
       "  </tbody>\n",
       "</table>\n",
       "</div>"
      ],
      "text/plain": [
       "          id  vendor_id      pickup_datetime  passenger_count  \\\n",
       "0  id2793718          2  2016-06-08 07:36:19                1   \n",
       "1  id3485529          2  2016-04-03 12:58:11                1   \n",
       "2  id1816614          2  2016-06-05 02:49:13                5   \n",
       "\n",
       "   pickup_longitude  pickup_latitude  dropoff_longitude  dropoff_latitude  \\\n",
       "0        -73.985611        40.735943         -73.980331         40.760468   \n",
       "1        -73.978394        40.764351         -73.991623         40.749859   \n",
       "2        -73.989059        40.744389         -73.973381         40.748692   \n",
       "\n",
       "  store_and_fwd_flag  trip_duration  \n",
       "0                  N           1040  \n",
       "1                  N            827  \n",
       "2                  N            614  "
      ]
     },
     "execution_count": 3,
     "metadata": {},
     "output_type": "execute_result"
    }
   ],
   "source": [
    "df_train.head(3)"
   ]
  },
  {
   "cell_type": "code",
   "execution_count": 4,
   "id": "134a95cb-8ebe-4763-b662-b22f36965449",
   "metadata": {},
   "outputs": [
    {
     "name": "stdout",
     "output_type": "stream",
     "text": [
      "<class 'pandas.core.frame.DataFrame'>\n",
      "RangeIndex: 1000000 entries, 0 to 999999\n",
      "Data columns (total 10 columns):\n",
      " #   Column              Non-Null Count    Dtype  \n",
      "---  ------              --------------    -----  \n",
      " 0   id                  1000000 non-null  object \n",
      " 1   vendor_id           1000000 non-null  int64  \n",
      " 2   pickup_datetime     1000000 non-null  object \n",
      " 3   passenger_count     1000000 non-null  int64  \n",
      " 4   pickup_longitude    1000000 non-null  float64\n",
      " 5   pickup_latitude     1000000 non-null  float64\n",
      " 6   dropoff_longitude   1000000 non-null  float64\n",
      " 7   dropoff_latitude    1000000 non-null  float64\n",
      " 8   store_and_fwd_flag  1000000 non-null  object \n",
      " 9   trip_duration       1000000 non-null  int64  \n",
      "dtypes: float64(4), int64(3), object(3)\n",
      "memory usage: 76.3+ MB\n"
     ]
    }
   ],
   "source": [
    "df_train.info()"
   ]
  },
  {
   "cell_type": "markdown",
   "id": "ace43f1d-4169-48e9-8e3d-ed7f5e1982ed",
   "metadata": {},
   "source": [
    "# 1-so we want to convert pickup_datetime from object to datetime\n",
    "# 2-extract some features from time like hour ,month and so on "
   ]
  },
  {
   "cell_type": "code",
   "execution_count": 5,
   "id": "155b933c-eabe-4905-9ddf-394fef35e605",
   "metadata": {},
   "outputs": [],
   "source": [
    "df_train[\"pickup_datetime\"]=pd.to_datetime(df_train[\"pickup_datetime\"])"
   ]
  },
  {
   "cell_type": "code",
   "execution_count": 6,
   "id": "0feef1f3-ec3b-43e6-a527-0705e7c8cc60",
   "metadata": {},
   "outputs": [],
   "source": [
    "df_train[\"pickup_hour\"]=df_train[\"pickup_datetime\"].dt.hour\n",
    "df_train[\"pickup_month\"]=df_train[\"pickup_datetime\"].dt.month\n",
    "df_train[\"pickup_day\"]=df_train[\"pickup_datetime\"].dt.day\n",
    "df_train[\"pickup_dayofweek\"]=df_train[\"pickup_datetime\"].dt.day_name()\n",
    "df_train[\"pickup_minute\"]=df_train[\"pickup_datetime\"].dt.minute"
   ]
  },
  {
   "cell_type": "code",
   "execution_count": 7,
   "id": "08f7533d-8d3c-4a6c-9b1a-daaba7ba1964",
   "metadata": {},
   "outputs": [
    {
     "data": {
      "text/plain": [
       "Index(['id', 'vendor_id', 'pickup_datetime', 'passenger_count',\n",
       "       'pickup_longitude', 'pickup_latitude', 'dropoff_longitude',\n",
       "       'dropoff_latitude', 'store_and_fwd_flag', 'trip_duration',\n",
       "       'pickup_hour', 'pickup_month', 'pickup_day', 'pickup_dayofweek',\n",
       "       'pickup_minute'],\n",
       "      dtype='object')"
      ]
     },
     "execution_count": 7,
     "metadata": {},
     "output_type": "execute_result"
    }
   ],
   "source": [
    "df_train.columns "
   ]
  },
  {
   "cell_type": "code",
   "execution_count": 8,
   "id": "57de3c65-03e2-4d86-b4d8-a0fddf9c7d73",
   "metadata": {},
   "outputs": [],
   "source": []
  },
  {
   "cell_type": "code",
   "execution_count": 9,
   "id": "aa3769b0-4a55-47d8-a33e-43807b7e4036",
   "metadata": {},
   "outputs": [
    {
     "data": {
      "text/html": [
       "<div>\n",
       "<style scoped>\n",
       "    .dataframe tbody tr th:only-of-type {\n",
       "        vertical-align: middle;\n",
       "    }\n",
       "\n",
       "    .dataframe tbody tr th {\n",
       "        vertical-align: top;\n",
       "    }\n",
       "\n",
       "    .dataframe thead th {\n",
       "        text-align: right;\n",
       "    }\n",
       "</style>\n",
       "<table border=\"1\" class=\"dataframe\">\n",
       "  <thead>\n",
       "    <tr style=\"text-align: right;\">\n",
       "      <th></th>\n",
       "      <th>count</th>\n",
       "      <th>mean</th>\n",
       "      <th>min</th>\n",
       "      <th>25%</th>\n",
       "      <th>50%</th>\n",
       "      <th>75%</th>\n",
       "      <th>max</th>\n",
       "      <th>std</th>\n",
       "    </tr>\n",
       "  </thead>\n",
       "  <tbody>\n",
       "    <tr>\n",
       "      <th>vendor_id</th>\n",
       "      <td>1000000.0</td>\n",
       "      <td>1.534793</td>\n",
       "      <td>1.0</td>\n",
       "      <td>1.0</td>\n",
       "      <td>2.0</td>\n",
       "      <td>2.0</td>\n",
       "      <td>2.0</td>\n",
       "      <td>0.498788</td>\n",
       "    </tr>\n",
       "    <tr>\n",
       "      <th>pickup_datetime</th>\n",
       "      <td>1000000</td>\n",
       "      <td>2016-04-01 08:53:15.180106752</td>\n",
       "      <td>2016-01-01 00:00:53</td>\n",
       "      <td>2016-02-17 15:26:08</td>\n",
       "      <td>2016-04-01 15:01:29.500000</td>\n",
       "      <td>2016-05-15 02:35:38.750000128</td>\n",
       "      <td>2016-06-30 23:59:37</td>\n",
       "      <td>NaN</td>\n",
       "    </tr>\n",
       "    <tr>\n",
       "      <th>passenger_count</th>\n",
       "      <td>1000000.0</td>\n",
       "      <td>1.665353</td>\n",
       "      <td>0.0</td>\n",
       "      <td>1.0</td>\n",
       "      <td>1.0</td>\n",
       "      <td>2.0</td>\n",
       "      <td>7.0</td>\n",
       "      <td>1.315723</td>\n",
       "    </tr>\n",
       "    <tr>\n",
       "      <th>pickup_longitude</th>\n",
       "      <td>1000000.0</td>\n",
       "      <td>-73.973475</td>\n",
       "      <td>-121.933342</td>\n",
       "      <td>-73.991852</td>\n",
       "      <td>-73.981728</td>\n",
       "      <td>-73.967346</td>\n",
       "      <td>-61.335529</td>\n",
       "      <td>0.065404</td>\n",
       "    </tr>\n",
       "    <tr>\n",
       "      <th>pickup_latitude</th>\n",
       "      <td>1000000.0</td>\n",
       "      <td>40.750947</td>\n",
       "      <td>34.359695</td>\n",
       "      <td>40.737372</td>\n",
       "      <td>40.754131</td>\n",
       "      <td>40.768379</td>\n",
       "      <td>51.881084</td>\n",
       "      <td>0.033745</td>\n",
       "    </tr>\n",
       "    <tr>\n",
       "      <th>dropoff_longitude</th>\n",
       "      <td>1000000.0</td>\n",
       "      <td>-73.973421</td>\n",
       "      <td>-121.933304</td>\n",
       "      <td>-73.991341</td>\n",
       "      <td>-73.979767</td>\n",
       "      <td>-73.963036</td>\n",
       "      <td>-61.335529</td>\n",
       "      <td>0.065432</td>\n",
       "    </tr>\n",
       "    <tr>\n",
       "      <th>dropoff_latitude</th>\n",
       "      <td>1000000.0</td>\n",
       "      <td>40.751829</td>\n",
       "      <td>34.359695</td>\n",
       "      <td>40.735928</td>\n",
       "      <td>40.754551</td>\n",
       "      <td>40.769833</td>\n",
       "      <td>43.921028</td>\n",
       "      <td>0.035782</td>\n",
       "    </tr>\n",
       "    <tr>\n",
       "      <th>trip_duration</th>\n",
       "      <td>1000000.0</td>\n",
       "      <td>954.884971</td>\n",
       "      <td>1.0</td>\n",
       "      <td>397.0</td>\n",
       "      <td>662.0</td>\n",
       "      <td>1074.0</td>\n",
       "      <td>2227612.0</td>\n",
       "      <td>3882.070116</td>\n",
       "    </tr>\n",
       "    <tr>\n",
       "      <th>pickup_hour</th>\n",
       "      <td>1000000.0</td>\n",
       "      <td>13.604165</td>\n",
       "      <td>0.0</td>\n",
       "      <td>9.0</td>\n",
       "      <td>14.0</td>\n",
       "      <td>19.0</td>\n",
       "      <td>23.0</td>\n",
       "      <td>6.400685</td>\n",
       "    </tr>\n",
       "    <tr>\n",
       "      <th>pickup_month</th>\n",
       "      <td>1000000.0</td>\n",
       "      <td>3.515209</td>\n",
       "      <td>1.0</td>\n",
       "      <td>2.0</td>\n",
       "      <td>4.0</td>\n",
       "      <td>5.0</td>\n",
       "      <td>6.0</td>\n",
       "      <td>1.681171</td>\n",
       "    </tr>\n",
       "    <tr>\n",
       "      <th>pickup_day</th>\n",
       "      <td>1000000.0</td>\n",
       "      <td>15.499299</td>\n",
       "      <td>1.0</td>\n",
       "      <td>8.0</td>\n",
       "      <td>15.0</td>\n",
       "      <td>23.0</td>\n",
       "      <td>31.0</td>\n",
       "      <td>8.698902</td>\n",
       "    </tr>\n",
       "    <tr>\n",
       "      <th>pickup_minute</th>\n",
       "      <td>1000000.0</td>\n",
       "      <td>29.586571</td>\n",
       "      <td>0.0</td>\n",
       "      <td>15.0</td>\n",
       "      <td>30.0</td>\n",
       "      <td>45.0</td>\n",
       "      <td>59.0</td>\n",
       "      <td>17.322829</td>\n",
       "    </tr>\n",
       "  </tbody>\n",
       "</table>\n",
       "</div>"
      ],
      "text/plain": [
       "                       count                           mean  \\\n",
       "vendor_id          1000000.0                       1.534793   \n",
       "pickup_datetime      1000000  2016-04-01 08:53:15.180106752   \n",
       "passenger_count    1000000.0                       1.665353   \n",
       "pickup_longitude   1000000.0                     -73.973475   \n",
       "pickup_latitude    1000000.0                      40.750947   \n",
       "dropoff_longitude  1000000.0                     -73.973421   \n",
       "dropoff_latitude   1000000.0                      40.751829   \n",
       "trip_duration      1000000.0                     954.884971   \n",
       "pickup_hour        1000000.0                      13.604165   \n",
       "pickup_month       1000000.0                       3.515209   \n",
       "pickup_day         1000000.0                      15.499299   \n",
       "pickup_minute      1000000.0                      29.586571   \n",
       "\n",
       "                                   min                  25%  \\\n",
       "vendor_id                          1.0                  1.0   \n",
       "pickup_datetime    2016-01-01 00:00:53  2016-02-17 15:26:08   \n",
       "passenger_count                    0.0                  1.0   \n",
       "pickup_longitude           -121.933342           -73.991852   \n",
       "pickup_latitude              34.359695            40.737372   \n",
       "dropoff_longitude          -121.933304           -73.991341   \n",
       "dropoff_latitude             34.359695            40.735928   \n",
       "trip_duration                      1.0                397.0   \n",
       "pickup_hour                        0.0                  9.0   \n",
       "pickup_month                       1.0                  2.0   \n",
       "pickup_day                         1.0                  8.0   \n",
       "pickup_minute                      0.0                 15.0   \n",
       "\n",
       "                                          50%                            75%  \\\n",
       "vendor_id                                 2.0                            2.0   \n",
       "pickup_datetime    2016-04-01 15:01:29.500000  2016-05-15 02:35:38.750000128   \n",
       "passenger_count                           1.0                            2.0   \n",
       "pickup_longitude                   -73.981728                     -73.967346   \n",
       "pickup_latitude                     40.754131                      40.768379   \n",
       "dropoff_longitude                  -73.979767                     -73.963036   \n",
       "dropoff_latitude                    40.754551                      40.769833   \n",
       "trip_duration                           662.0                         1074.0   \n",
       "pickup_hour                              14.0                           19.0   \n",
       "pickup_month                              4.0                            5.0   \n",
       "pickup_day                               15.0                           23.0   \n",
       "pickup_minute                            30.0                           45.0   \n",
       "\n",
       "                                   max          std  \n",
       "vendor_id                          2.0     0.498788  \n",
       "pickup_datetime    2016-06-30 23:59:37          NaN  \n",
       "passenger_count                    7.0     1.315723  \n",
       "pickup_longitude            -61.335529     0.065404  \n",
       "pickup_latitude              51.881084     0.033745  \n",
       "dropoff_longitude           -61.335529     0.065432  \n",
       "dropoff_latitude             43.921028     0.035782  \n",
       "trip_duration                2227612.0  3882.070116  \n",
       "pickup_hour                       23.0     6.400685  \n",
       "pickup_month                       6.0     1.681171  \n",
       "pickup_day                        31.0     8.698902  \n",
       "pickup_minute                     59.0    17.322829  "
      ]
     },
     "execution_count": 9,
     "metadata": {},
     "output_type": "execute_result"
    }
   ],
   "source": [
    "df_train.describe().T"
   ]
  },
  {
   "cell_type": "markdown",
   "id": "60d00ddf-1119-4e72-a6e4-2814906d4118",
   "metadata": {},
   "source": [
    "# 1-the max of trip_duration is 2227612.0 ,how??\n",
    "# 2-the min and max for passenger_count are 0 and 7 , how?"
   ]
  },
  {
   "cell_type": "code",
   "execution_count": null,
   "id": "3d7c0735-3a96-4c75-887c-6fd269e910dc",
   "metadata": {},
   "outputs": [],
   "source": [
    "# i will use log for it \n",
    "df_train[\"log_trip_duration\"]=np.log1p(df_train[\"trip_duration\"])"
   ]
  },
  {
   "cell_type": "code",
   "execution_count": 10,
   "id": "df66b31b-d445-471f-be3a-8bbfaab251eb",
   "metadata": {},
   "outputs": [
    {
     "name": "stdout",
     "output_type": "stream",
     "text": [
      "id                    0\n",
      "vendor_id             0\n",
      "pickup_datetime       0\n",
      "passenger_count       0\n",
      "pickup_longitude      0\n",
      "pickup_latitude       0\n",
      "dropoff_longitude     0\n",
      "dropoff_latitude      0\n",
      "store_and_fwd_flag    0\n",
      "trip_duration         0\n",
      "pickup_hour           0\n",
      "pickup_month          0\n",
      "pickup_day            0\n",
      "pickup_dayofweek      0\n",
      "pickup_minute         0\n",
      "dtype: int64\n",
      "id                    0\n",
      "vendor_id             0\n",
      "pickup_datetime       0\n",
      "passenger_count       0\n",
      "pickup_longitude      0\n",
      "pickup_latitude       0\n",
      "dropoff_longitude     0\n",
      "dropoff_latitude      0\n",
      "store_and_fwd_flag    0\n",
      "trip_duration         0\n",
      "pickup_hour           0\n",
      "pickup_month          0\n",
      "pickup_day            0\n",
      "pickup_dayofweek      0\n",
      "pickup_minute         0\n",
      "dtype: int64\n",
      "0\n"
     ]
    }
   ],
   "source": [
    "print(df_train.isna().sum())\n",
    "print(df_train.isnull().sum())\n",
    "print(df_train.duplicated().sum())"
   ]
  },
  {
   "cell_type": "markdown",
   "id": "b7eea7bc-029f-418c-a971-900a3c4187ef",
   "metadata": {},
   "source": [
    "# let's investigate pickup_datetime"
   ]
  },
  {
   "cell_type": "code",
   "execution_count": 11,
   "id": "ff0a1838-20ef-4e0b-89d5-87aa7aea09cf",
   "metadata": {},
   "outputs": [
    {
     "data": {
      "text/plain": [
       "Timestamp('2016-06-30 23:59:37')"
      ]
     },
     "execution_count": 11,
     "metadata": {},
     "output_type": "execute_result"
    }
   ],
   "source": [
    "df_train[\"pickup_datetime\"].max()"
   ]
  },
  {
   "cell_type": "code",
   "execution_count": 12,
   "id": "0a6653ed-cacb-4e63-af7a-b68a9e6e92f7",
   "metadata": {},
   "outputs": [
    {
     "data": {
      "text/plain": [
       "Timestamp('2016-01-01 00:00:53')"
      ]
     },
     "execution_count": 12,
     "metadata": {},
     "output_type": "execute_result"
    }
   ],
   "source": [
    "df_train[\"pickup_datetime\"].min()"
   ]
  },
  {
   "cell_type": "code",
   "execution_count": 13,
   "id": "5f9a2670-90b2-43a7-833e-9497aaa5b0f7",
   "metadata": {},
   "outputs": [
    {
     "data": {
      "text/plain": [
       "Timedelta('181 days 23:58:44')"
      ]
     },
     "execution_count": 13,
     "metadata": {},
     "output_type": "execute_result"
    }
   ],
   "source": [
    "df_train[\"pickup_datetime\"].max()-df_train[\"pickup_datetime\"].min() "
   ]
  },
  {
   "cell_type": "code",
   "execution_count": null,
   "id": "17ca0400-bc1d-4705-bb14-0b68688210fe",
   "metadata": {},
   "outputs": [],
   "source": []
  },
  {
   "cell_type": "markdown",
   "id": "546e4384-900b-4c3e-a75f-9d11114b595d",
   "metadata": {},
   "source": [
    "# let's investigate passenger_count"
   ]
  },
  {
   "cell_type": "code",
   "execution_count": 14,
   "id": "24a9ee21-f92e-43de-b102-985e3da10fa6",
   "metadata": {},
   "outputs": [
    {
     "data": {
      "text/plain": [
       "passenger_count\n",
       "1    708628\n",
       "2    143907\n",
       "5     53635\n",
       "3     41012\n",
       "6     33287\n",
       "4     19491\n",
       "0        38\n",
       "7         2\n",
       "Name: count, dtype: int64"
      ]
     },
     "execution_count": 14,
     "metadata": {},
     "output_type": "execute_result"
    }
   ],
   "source": [
    "df_train[\"passenger_count\"].value_counts()"
   ]
  },
  {
   "cell_type": "code",
   "execution_count": 15,
   "id": "3f5e2d84-e839-4570-8be1-a3cec5b14d91",
   "metadata": {},
   "outputs": [
    {
     "data": {
      "text/plain": [
       "<Axes: xlabel='passenger_count'>"
      ]
     },
     "execution_count": 15,
     "metadata": {},
     "output_type": "execute_result"
    },
    {
     "data": {
      "image/png": "[encoded data removed]",
      "text/plain": [
       "<Figure size 640x480 with 1 Axes>"
      ]
     },
     "metadata": {},
     "output_type": "display_data"
    }
   ],
   "source": [
    "df_train[\"passenger_count\"].value_counts().plot(kind=\"bar\")"
   ]
  },
  {
   "cell_type": "code",
   "execution_count": 16,
   "id": "8ff9275a-e2fc-41e0-a7b6-37edbe90aad3",
   "metadata": {},
   "outputs": [
    {
     "data": {
      "text/plain": [
       "passenger_count\n",
       "0         7022\n",
       "1    655497674\n",
       "2    143410183\n",
       "3     42253624\n",
       "4     20539344\n",
       "5     57516325\n",
       "6     35660759\n",
       "7           40\n",
       "Name: trip_duration, dtype: int64"
      ]
     },
     "execution_count": 16,
     "metadata": {},
     "output_type": "execute_result"
    }
   ],
   "source": [
    "gp=df_train.groupby([\"passenger_count\"])[\"trip_duration\"].sum()\n",
    "gp"
   ]
  },
  {
   "cell_type": "code",
   "execution_count": 17,
   "id": "dfe2b444-563f-4b9d-85b1-56c04efbad9c",
   "metadata": {},
   "outputs": [
    {
     "data": {
      "text/plain": [
       "passenger_count\n",
       "0     184.789474\n",
       "1     925.023671\n",
       "2     996.547652\n",
       "3    1030.274651\n",
       "4    1053.786055\n",
       "5    1072.365526\n",
       "6    1071.311894\n",
       "7      20.000000\n",
       "Name: trip_duration, dtype: float64"
      ]
     },
     "execution_count": 17,
     "metadata": {},
     "output_type": "execute_result"
    }
   ],
   "source": [
    "gp=df_train.groupby([\"passenger_count\"])[\"trip_duration\"].mean()\n",
    "gp      # pov : i think taht 7 is outlier but 0 for delivery trips IDK"
   ]
  },
  {
   "cell_type": "code",
   "execution_count": 34,
   "id": "1ab7614c-2013-41aa-8169-23946ec82ce6",
   "metadata": {},
   "outputs": [
    {
     "data": {
      "image/png": "[encoded data removed]",
      "text/plain": [
       "<Figure size 640x480 with 1 Axes>"
      ]
     },
     "metadata": {},
     "output_type": "display_data"
    }
   ],
   "source": [
    "sns.boxplot(data=df_train,x=df_train[\"passenger_count\"],y=df_train[\"log_trip_duration\"])\n",
    "plt.show()"
   ]
  },
  {
   "cell_type": "markdown",
   "id": "b6d847ca-fb0a-43bb-bc9b-ca266406e4d5",
   "metadata": {},
   "source": [
    "# let's investigate vendor_id\t"
   ]
  },
  {
   "cell_type": "code",
   "execution_count": 18,
   "id": "31c56963-54a9-42c6-ba40-01994db12f05",
   "metadata": {},
   "outputs": [
    {
     "data": {
      "text/plain": [
       "vendor_id\n",
       "2    534793\n",
       "1    465207\n",
       "Name: count, dtype: int64"
      ]
     },
     "execution_count": 18,
     "metadata": {},
     "output_type": "execute_result"
    }
   ],
   "source": [
    "df_train[\"vendor_id\"].value_counts()"
   ]
  },
  {
   "cell_type": "code",
   "execution_count": 19,
   "id": "bd84e24f-f6e6-4d4f-86e9-6def1c59edb0",
   "metadata": {},
   "outputs": [
    {
     "data": {
      "text/plain": [
       "<Axes: xlabel='vendor_id'>"
      ]
     },
     "execution_count": 19,
     "metadata": {},
     "output_type": "execute_result"
    },
    {
     "data": {
      "image/png": "[encoded data removed]",
      "text/plain": [
       "<Figure size 640x480 with 1 Axes>"
      ]
     },
     "metadata": {},
     "output_type": "display_data"
    }
   ],
   "source": [
    "df_train[\"vendor_id\"].value_counts().plot(kind=\"bar\")"
   ]
  },
  {
   "cell_type": "code",
   "execution_count": 20,
   "id": "7ee93ae9-3a07-41b5-9b0a-75685b4ef9d5",
   "metadata": {},
   "outputs": [
    {
     "data": {
      "text/plain": [
       "vendor_id\n",
       "1    388526070\n",
       "2    566358901\n",
       "Name: trip_duration, dtype: int64"
      ]
     },
     "execution_count": 20,
     "metadata": {},
     "output_type": "execute_result"
    }
   ],
   "source": [
    "gp=df_train.groupby([\"vendor_id\"])[\"trip_duration\"].sum()\n",
    "gp"
   ]
  },
  {
   "cell_type": "code",
   "execution_count": 21,
   "id": "702a18ed-10ce-4e0e-956a-35bf46c9dde8",
   "metadata": {},
   "outputs": [
    {
     "data": {
      "text/plain": [
       "vendor_id\n",
       "1     835.168151\n",
       "2    1059.024522\n",
       "Name: trip_duration, dtype: float64"
      ]
     },
     "execution_count": 21,
     "metadata": {},
     "output_type": "execute_result"
    }
   ],
   "source": [
    "gp=df_train.groupby([\"vendor_id\"])[\"trip_duration\"].mean()\n",
    "gp"
   ]
  },
  {
   "cell_type": "code",
   "execution_count": 33,
   "id": "80412378-40ce-4d50-951f-e739a0562471",
   "metadata": {},
   "outputs": [
    {
     "data": {
      "image/png": "[encoded data removed]",
      "text/plain": [
       "<Figure size 640x480 with 1 Axes>"
      ]
     },
     "metadata": {},
     "output_type": "display_data"
    }
   ],
   "source": [
    "sns.boxplot(data=df_train,x=df_train[\"vendor_id\"],y=df_train[\"log_trip_duration\"])\n",
    "plt.show()"
   ]
  },
  {
   "cell_type": "markdown",
   "id": "1f810a6d-2eb6-435e-8826-e1e8aaba15e1",
   "metadata": {},
   "source": [
    "# let's investigate store_and_fwd_flag"
   ]
  },
  {
   "cell_type": "code",
   "execution_count": 22,
   "id": "2ff3699c-8e47-409b-adc3-a3138c012c2c",
   "metadata": {},
   "outputs": [
    {
     "data": {
      "text/plain": [
       "store_and_fwd_flag\n",
       "N    994443\n",
       "Y      5557\n",
       "Name: count, dtype: int64"
      ]
     },
     "execution_count": 22,
     "metadata": {},
     "output_type": "execute_result"
    }
   ],
   "source": [
    "df_train[\"store_and_fwd_flag\"].value_counts()"
   ]
  },
  {
   "cell_type": "code",
   "execution_count": 23,
   "id": "91860755-fa0c-413a-b5de-1436f48b455f",
   "metadata": {},
   "outputs": [
    {
     "data": {
      "text/plain": [
       "<Axes: xlabel='store_and_fwd_flag'>"
      ]
     },
     "execution_count": 23,
     "metadata": {},
     "output_type": "execute_result"
    },
    {
     "data": {
      "image/png": "[encoded data removed]",
      "text/plain": [
       "<Figure size 640x480 with 1 Axes>"
      ]
     },
     "metadata": {},
     "output_type": "display_data"
    }
   ],
   "source": [
    "df_train[\"store_and_fwd_flag\"].value_counts().plot(kind=\"bar\")"
   ]
  },
  {
   "cell_type": "code",
   "execution_count": 24,
   "id": "3e917c07-1cfc-439e-ab94-eb40818b48de",
   "metadata": {},
   "outputs": [
    {
     "data": {
      "text/plain": [
       "store_and_fwd_flag\n",
       "N    948906877\n",
       "Y      5978094\n",
       "Name: trip_duration, dtype: int64"
      ]
     },
     "execution_count": 24,
     "metadata": {},
     "output_type": "execute_result"
    }
   ],
   "source": [
    "gp=df_train.groupby([\"store_and_fwd_flag\"])[\"trip_duration\"].sum()\n",
    "gp"
   ]
  },
  {
   "cell_type": "code",
   "execution_count": 25,
   "id": "08ebeec8-d7dc-47bb-912b-850e733d3a30",
   "metadata": {},
   "outputs": [
    {
     "data": {
      "text/plain": [
       "store_and_fwd_flag\n",
       "N     954.209419\n",
       "Y    1075.777218\n",
       "Name: trip_duration, dtype: float64"
      ]
     },
     "execution_count": 25,
     "metadata": {},
     "output_type": "execute_result"
    }
   ],
   "source": [
    "gp=df_train.groupby([\"store_and_fwd_flag\"])[\"trip_duration\"].mean()\n",
    "gp        # Y trips are longer than N "
   ]
  },
  {
   "cell_type": "markdown",
   "id": "ffced2cd-d3d4-44e4-9362-88fa2fbcd5f3",
   "metadata": {},
   "source": [
    "# let's investigate trip_duration\r\n"
   ]
  },
  {
   "cell_type": "code",
   "execution_count": null,
   "id": "51df7a5f-83c8-4c9d-aa29-d4b5e60926fd",
   "metadata": {},
   "outputs": [],
   "source": []
  },
  {
   "cell_type": "code",
   "execution_count": 27,
   "id": "ef745d1c-4b0f-4e16-967d-e532809cb5de",
   "metadata": {},
   "outputs": [
    {
     "data": {
      "text/plain": [
       "trip_duration\n",
       "348    1129\n",
       "424    1125\n",
       "417    1115\n",
       "388    1111\n",
       "386    1103\n",
       "368    1093\n",
       "367    1091\n",
       "358    1091\n",
       "408    1085\n",
       "327    1085\n",
       "Name: count, dtype: int64"
      ]
     },
     "execution_count": 27,
     "metadata": {},
     "output_type": "execute_result"
    }
   ],
   "source": [
    "df_train[\"trip_duration\"].value_counts().nlargest(10)"
   ]
  },
  {
   "cell_type": "code",
   "execution_count": 28,
   "id": "9629846c-c690-4b18-9e65-7713a194afb3",
   "metadata": {},
   "outputs": [
    {
     "data": {
      "image/png": "[encoded data removed]",
      "text/plain": [
       "<Figure size 640x480 with 1 Axes>"
      ]
     },
     "metadata": {},
     "output_type": "display_data"
    }
   ],
   "source": [
    "sns.histplot(df_train[\"log_trip_duration\"])\n",
    "plt.show()"
   ]
  },
  {
   "cell_type": "code",
   "execution_count": 30,
   "id": "0f7ed237-1a6a-42f5-9461-6ca1b2670a23",
   "metadata": {},
   "outputs": [
    {
     "data": {
      "image/png": "[encoded data removed]",
      "text/plain": [
       "<Figure size 640x480 with 1 Axes>"
      ]
     },
     "metadata": {},
     "output_type": "display_data"
    }
   ],
   "source": [
    "sns.boxplot(df_train[\"log_trip_duration\"])\n",
    "plt.show()  #see outliers "
   ]
  },
  {
   "cell_type": "markdown",
   "id": "2f2da184-e45e-4e9f-b54b-8665d3df2dca",
   "metadata": {},
   "source": [
    "# let's investigate some time features "
   ]
  },
  {
   "cell_type": "code",
   "execution_count": 41,
   "id": "b411cbf4-6e77-4fc7-a0d7-6a36b805beb9",
   "metadata": {},
   "outputs": [
    {
     "data": {
      "text/plain": [
       "<Axes: xlabel='pickup_month'>"
      ]
     },
     "execution_count": 41,
     "metadata": {},
     "output_type": "execute_result"
    },
    {
     "data": {
      "image/png": "[encoded data removed]",
      "text/plain": [
       "<Figure size 640x480 with 1 Axes>"
      ]
     },
     "metadata": {},
     "output_type": "display_data"
    }
   ],
   "source": [
    "gp=df_train.groupby([\"pickup_month\"])[\"trip_duration\"].sum()\n",
    "gp.sort_values().plot(kind=\"bar\")"
   ]
  },
  {
   "cell_type": "code",
   "execution_count": null,
   "id": "5e64f4e5-bcd7-471d-8a9d-c182d657d757",
   "metadata": {},
   "outputs": [],
   "source": []
  },
  {
   "cell_type": "code",
   "execution_count": 40,
   "id": "f53115b8-b911-457a-a18d-7f2b61ecf367",
   "metadata": {},
   "outputs": [
    {
     "data": {
      "text/plain": [
       "<Axes: xlabel='pickup_hour'>"
      ]
     },
     "execution_count": 40,
     "metadata": {},
     "output_type": "execute_result"
    },
    {
     "data": {
      "image/png": "[encoded data removed]",
      "text/plain": [
       "<Figure size 640x480 with 1 Axes>"
      ]
     },
     "metadata": {},
     "output_type": "display_data"
    }
   ],
   "source": [
    "gp=df_train.groupby([\"pickup_hour\"])[\"trip_duration\"].sum()\n",
    "gp.sort_values().plot(kind=\"bar\")"
   ]
  },
  {
   "cell_type": "code",
   "execution_count": 46,
   "id": "626c233a-bfca-4f1c-9bc2-750ba618d6dc",
   "metadata": {},
   "outputs": [
    {
     "data": {
      "text/plain": [
       "pickup_day\n",
       "16    34961\n",
       "14    34895\n",
       "12    34452\n",
       "5     34437\n",
       "4     33994\n",
       "6     33979\n",
       "9     33973\n",
       "15    33943\n",
       "13    33864\n",
       "20    33771\n",
       "17    33770\n",
       "19    33697\n",
       "10    33649\n",
       "7     33484\n",
       "11    33436\n",
       "8     33035\n",
       "18    33029\n",
       "21    33001\n",
       "3     32806\n",
       "2     32640\n",
       "26    32592\n",
       "22    32362\n",
       "27    32039\n",
       "29    31988\n",
       "1     31939\n",
       "25    31744\n",
       "28    31334\n",
       "24    30115\n",
       "23    28400\n",
       "30    26861\n",
       "31    15810\n",
       "Name: count, dtype: int64"
      ]
     },
     "execution_count": 46,
     "metadata": {},
     "output_type": "execute_result"
    }
   ],
   "source": [
    "df_train[\"pickup_day\"].value_counts()"
   ]
  },
  {
   "cell_type": "code",
   "execution_count": 43,
   "id": "7c1a2d21-cb35-4cae-a8ca-720c546ea419",
   "metadata": {},
   "outputs": [
    {
     "data": {
      "text/plain": [
       "<Axes: xlabel='pickup_day'>"
      ]
     },
     "execution_count": 43,
     "metadata": {},
     "output_type": "execute_result"
    },
    {
     "data": {
      "image/png": "[encoded data removed]",
      "text/plain": [
       "<Figure size 640x480 with 1 Axes>"
      ]
     },
     "metadata": {},
     "output_type": "display_data"
    }
   ],
   "source": [
    "gp=df_train.groupby([\"pickup_day\"])[\"trip_duration\"].sum()\n",
    "gp.sort_values().plot(kind=\"bar\")"
   ]
  },
  {
   "cell_type": "code",
   "execution_count": 52,
   "id": "bbc77a47-f438-4edc-be71-416d517a167e",
   "metadata": {},
   "outputs": [
    {
     "data": {
      "text/plain": [
       "<Axes: xlabel='pickup_dayofweek'>"
      ]
     },
     "execution_count": 52,
     "metadata": {},
     "output_type": "execute_result"
    },
    {
     "data": {
      "image/png": "[encoded data removed]",
      "text/plain": [
       "<Figure size 640x480 with 1 Axes>"
      ]
     },
     "metadata": {},
     "output_type": "display_data"
    }
   ],
   "source": [
    "gp=df_train.groupby([\"pickup_dayofweek\"])[\"trip_duration\"].sum()\n",
    "gp.sort_values().plot(kind=\"bar\")"
   ]
  },
  {
   "cell_type": "code",
   "execution_count": 61,
   "id": "d9028220-56a7-49b2-8e23-4c1c6bb74c4d",
   "metadata": {},
   "outputs": [],
   "source": [
    "df_train[\"is_weekend\"]=((df_train[\"pickup_dayofweek\"]==\"Sunday\") | (df_train[\"pickup_dayofweek\"]==\"Saturday\")).astype(int)"
   ]
  },
  {
   "cell_type": "code",
   "execution_count": 64,
   "id": "50f710bd-e210-40a0-a34d-43ddba0a276f",
   "metadata": {},
   "outputs": [
    {
     "data": {
      "text/plain": [
       "is_weekend\n",
       "0    714225\n",
       "1    285775\n",
       "Name: count, dtype: int64"
      ]
     },
     "execution_count": 64,
     "metadata": {},
     "output_type": "execute_result"
    }
   ],
   "source": [
    "df_train[\"is_weekend\"].value_counts()"
   ]
  },
  {
   "cell_type": "code",
   "execution_count": 66,
   "id": "c1fc4493-172c-4739-995a-c4da579771fd",
   "metadata": {},
   "outputs": [
    {
     "data": {
      "text/plain": [
       "<Axes: xlabel='is_weekend'>"
      ]
     },
     "execution_count": 66,
     "metadata": {},
     "output_type": "execute_result"
    },
    {
     "data": {
      "image/png": "[encoded data removed]",
      "text/plain": [
       "<Figure size 640x480 with 1 Axes>"
      ]
     },
     "metadata": {},
     "output_type": "display_data"
    }
   ],
   "source": [
    "gp=df_train.groupby([\"is_weekend\"])[\"trip_duration\"].mean()\n",
    "gp.sort_values().plot(kind=\"bar\")  # in weekends however 1 has 285775 and 0 has 714225 but equally in mean so in weekends the trips take long time"
   ]
  },
  {
   "cell_type": "code",
   "execution_count": 68,
   "id": "8ccc9d01-98ee-45cc-8c11-fc6daba50945",
   "metadata": {},
   "outputs": [
    {
     "data": {
      "text/plain": [
       "pickup_minute\n",
       "24    14941816\n",
       "58    14994296\n",
       "49    15010659\n",
       "56    15032934\n",
       "23    15151294\n",
       "59    15286711\n",
       "31    15306331\n",
       "52    15336365\n",
       "51    15337873\n",
       "57    15374094\n",
       "33    15491074\n",
       "22    15499109\n",
       "5     15501849\n",
       "10    15543332\n",
       "42    15546264\n",
       "35    15604431\n",
       "34    15643860\n",
       "27    15684390\n",
       "45    15694271\n",
       "16    15701059\n",
       "55    15721131\n",
       "28    15729138\n",
       "39    15753675\n",
       "1     15761512\n",
       "29    15781432\n",
       "0     15791310\n",
       "53    15799306\n",
       "11    15842967\n",
       "47    15858520\n",
       "44    15901266\n",
       "8     15964147\n",
       "21    15964241\n",
       "19    15971450\n",
       "41    15972632\n",
       "15    15982538\n",
       "54    16020438\n",
       "4     16032081\n",
       "32    16049624\n",
       "20    16050423\n",
       "50    16061470\n",
       "26    16091889\n",
       "43    16106706\n",
       "18    16107709\n",
       "37    16139458\n",
       "17    16156562\n",
       "38    16204919\n",
       "30    16228103\n",
       "12    16327746\n",
       "36    16333623\n",
       "25    16344885\n",
       "13    16360595\n",
       "7     16366760\n",
       "6     16438326\n",
       "48    16453202\n",
       "3     16460255\n",
       "2     16508845\n",
       "9     16525230\n",
       "46    16733967\n",
       "40    17229759\n",
       "14    18075119\n",
       "Name: trip_duration, dtype: int64"
      ]
     },
     "execution_count": 68,
     "metadata": {},
     "output_type": "execute_result"
    }
   ],
   "source": [
    "gp=df_train.groupby([\"pickup_minute\"])[\"trip_duration\"].sum()\n",
    "gp.sort_values()"
   ]
  },
  {
   "cell_type": "code",
   "execution_count": 78,
   "id": "2319998d-d984-49a8-9425-233a2c143dea",
   "metadata": {},
   "outputs": [],
   "source": [
    "def range_minutes(x): \n",
    "    if 1<=x<=15 : \n",
    "        return 0   #Q1\n",
    "    elif 16<=x<=30: \n",
    "        return 1   #Q2\n",
    "    elif 31<=x<=45:\n",
    "        return 2   #Q3\n",
    "    else: \n",
    "        return 3   #Q4"
   ]
  },
  {
   "cell_type": "code",
   "execution_count": 79,
   "id": "c3a1efff-4cce-45f5-a818-18eabf93a560",
   "metadata": {},
   "outputs": [],
   "source": [
    "df_train[\"range_minutes\"]=df_train[\"pickup_minute\"].apply(lambda x:range_minutes(x))"
   ]
  },
  {
   "cell_type": "code",
   "execution_count": 80,
   "id": "20313e29-dda4-4cd6-918b-bc9ab23fa0a1",
   "metadata": {},
   "outputs": [
    {
     "data": {
      "text/plain": [
       "range_minutes\n",
       "3    234812276\n",
       "1    237403500\n",
       "2    238977893\n",
       "0    243691302\n",
       "Name: trip_duration, dtype: int64"
      ]
     },
     "execution_count": 80,
     "metadata": {},
     "output_type": "execute_result"
    }
   ],
   "source": [
    "gp=df_train.groupby([\"range_minutes\"])[\"trip_duration\"].sum()\n",
    "gp.sort_values()  #almost no difference "
   ]
  },
  {
   "cell_type": "code",
   "execution_count": 81,
   "id": "c14df90e-fd81-44eb-83ce-bf2d55f88ed3",
   "metadata": {},
   "outputs": [
    {
     "data": {
      "text/plain": [
       "range_minutes\n",
       "3    931.543377\n",
       "2    954.990961\n",
       "1    955.384523\n",
       "0    977.890546\n",
       "Name: trip_duration, dtype: float64"
      ]
     },
     "execution_count": 81,
     "metadata": {},
     "output_type": "execute_result"
    }
   ],
   "source": [
    "gp=df_train.groupby([\"range_minutes\"])[\"trip_duration\"].mean()\n",
    "gp.sort_values()"
   ]
  },
  {
   "cell_type": "code",
   "execution_count": 82,
   "id": "66977e18-0a4c-479c-97da-af18b6c93f99",
   "metadata": {},
   "outputs": [],
   "source": [
    "def range_hours(x): \n",
    "    if 5<=x<12 : \n",
    "        return 0  # Morning\n",
    "    elif 12<=x<17: \n",
    "        return 1  # Afternoon\n",
    "    else: \n",
    "        return 2  # Night\n"
   ]
  },
  {
   "cell_type": "code",
   "execution_count": 83,
   "id": "dae5ea8f-0452-4b67-9dca-c3eb34ed97bc",
   "metadata": {},
   "outputs": [],
   "source": [
    "df_train[\"range_hours\"]=df_train[\"pickup_hour\"].apply(lambda x:range_hours(x))"
   ]
  },
  {
   "cell_type": "code",
   "execution_count": 86,
   "id": "713e375b-f547-4502-a866-f8d45881c505",
   "metadata": {},
   "outputs": [
    {
     "data": {
      "text/plain": [
       "range_hours\n",
       "0    232407054\n",
       "1    257883919\n",
       "2    464593998\n",
       "Name: trip_duration, dtype: int64"
      ]
     },
     "execution_count": 86,
     "metadata": {},
     "output_type": "execute_result"
    }
   ],
   "source": [
    "gp=df_train.groupby([\"range_hours\"])[\"trip_duration\"].sum()\n",
    "gp.sort_values()"
   ]
  },
  {
   "cell_type": "code",
   "execution_count": 85,
   "id": "36e967a2-c3d7-4706-a5ec-bd268934fc59",
   "metadata": {},
   "outputs": [
    {
     "data": {
      "text/plain": [
       "range_hours\n",
       "0     909.232317\n",
       "2     925.753451\n",
       "1    1063.276609\n",
       "Name: trip_duration, dtype: float64"
      ]
     },
     "execution_count": 85,
     "metadata": {},
     "output_type": "execute_result"
    }
   ],
   "source": [
    "gp=df_train.groupby([\"range_hours\"])[\"trip_duration\"].mean()\n",
    "gp.sort_values()"
   ]
  },
  {
   "cell_type": "code",
   "execution_count": null,
   "id": "b8ff767c-02be-455d-9ebb-d17df085e9f0",
   "metadata": {},
   "outputs": [],
   "source": []
  },
  {
   "cell_type": "code",
   "execution_count": 87,
   "id": "211902d5-1f2e-4754-8fb7-ac73615ac404",
   "metadata": {},
   "outputs": [],
   "source": [
    "def range_months(x): \n",
    "    if 1<=x<=2 : \n",
    "        return 0  # winter\n",
    "    elif 3<=x<=5: \n",
    "        return 1  # spring \n",
    "    else:  \n",
    "        return 2  # summer      #we know that data for 6 months from 1 to 6\n"
   ]
  },
  {
   "cell_type": "code",
   "execution_count": 88,
   "id": "85d2510b-ad75-4b4f-8258-a226c760d113",
   "metadata": {},
   "outputs": [],
   "source": [
    "df_train[\"range_months\"]=df_train[\"pickup_month\"].apply(lambda x:range_months(x))"
   ]
  },
  {
   "cell_type": "code",
   "execution_count": 91,
   "id": "512c7cf6-398d-4f8f-8aba-cc37ab8c9837",
   "metadata": {},
   "outputs": [
    {
     "data": {
      "text/plain": [
       "range_months\n",
       "2    162654388\n",
       "0    291515263\n",
       "1    500715320\n",
       "Name: trip_duration, dtype: int64"
      ]
     },
     "execution_count": 91,
     "metadata": {},
     "output_type": "execute_result"
    }
   ],
   "source": [
    "gp=df_train.groupby([\"range_months\"])[\"trip_duration\"].sum()\n",
    "gp.sort_values()"
   ]
  },
  {
   "cell_type": "code",
   "execution_count": 90,
   "id": "46fcd7e6-ac62-42d2-a3bd-4ee974cf8061",
   "metadata": {},
   "outputs": [
    {
     "data": {
      "text/plain": [
       "range_months\n",
       "0     907.158124\n",
       "1     966.150682\n",
       "2    1014.105367\n",
       "Name: trip_duration, dtype: float64"
      ]
     },
     "execution_count": 90,
     "metadata": {},
     "output_type": "execute_result"
    }
   ],
   "source": [
    "gp=df_train.groupby([\"range_months\"])[\"trip_duration\"].mean()\n",
    "gp.sort_values()"
   ]
  },
  {
   "cell_type": "markdown",
   "id": "24ca0434-7888-48c2-a419-dc955f9c216b",
   "metadata": {},
   "source": [
    "# let's investigate some distance features "
   ]
  },
  {
   "cell_type": "code",
   "execution_count": 94,
   "id": "69c7a8ea-8741-45a5-9068-f50ccb20a9f7",
   "metadata": {},
   "outputs": [],
   "source": [
    "from geopy import distance\n",
    "from geopy.point import Point\n",
    "import math"
   ]
  },
  {
   "cell_type": "code",
   "execution_count": 95,
   "id": "769555db-19f3-4b67-960a-ea7a9c1cd086",
   "metadata": {},
   "outputs": [],
   "source": [
    "def haversine_distance(row):\n",
    "    pick = Point(row['pickup_latitude'], row['pickup_longitude'])\n",
    "    drop = Point(row['dropoff_latitude'], row['dropoff_longitude'])\n",
    "    dist = distance.geodesic(pick, drop)\n",
    "    return dist.km"
   ]
  },
  {
   "cell_type": "code",
   "execution_count": 96,
   "id": "2df733fe-b2a5-41fe-9166-7574501620ca",
   "metadata": {},
   "outputs": [],
   "source": [
    "def calculate_direction(row):\n",
    "    pickup_coordinates =  Point(row['pickup_latitude'], row['pickup_longitude'])\n",
    "    dropoff_coordinates = Point(row['dropoff_latitude'], row['dropoff_longitude'])\n",
    "    # Calculate the difference in longitudes\n",
    "    delta_longitude = dropoff_coordinates[1] - pickup_coordinates[1]\n",
    "    # Calculate the bearing (direction) using trigonometry\n",
    "    y = math.sin(math.radians(delta_longitude)) * math.cos(math.radians(dropoff_coordinates[0]))\n",
    "    x = math.cos(math.radians(pickup_coordinates[0])) * math.sin(math.radians(dropoff_coordinates[0])) - \\\n",
    "        math.sin(math.radians(pickup_coordinates[0])) * math.cos(math.radians(dropoff_coordinates[0])) * \\\n",
    "        math.cos(math.radians(delta_longitude))\n",
    "    # Calculate the bearing in degrees\n",
    "    bearing = math.atan2(y, x)\n",
    "    bearing = math.degrees(bearing)\n",
    "    # Adjust the bearing to be in the range [0, 360)\n",
    "    bearing = (bearing + 360) % 360\n",
    "    \n",
    "    return bearing"
   ]
  },
  {
   "cell_type": "code",
   "execution_count": 97,
   "id": "fa9582cb-84e3-4b8a-a81e-00aa96008fc6",
   "metadata": {},
   "outputs": [],
   "source": [
    "def manhattan_distance(row):\n",
    "   \n",
    "    lat_distance = abs(row['pickup_latitude'] - row['dropoff_latitude']) * 111  # approx 111 km per degree latitude\n",
    "    lon_distance = abs(row['pickup_longitude'] - row['dropoff_longitude']) * 111 * math.cos(math.radians(row['pickup_latitude']))  # adjust for latitude\n",
    "    \n",
    "    return lat_distance + lon_distance"
   ]
  },
  {
   "cell_type": "code",
   "execution_count": 98,
   "id": "3a6227ec-2142-49f8-b88c-654385fa0c1e",
   "metadata": {},
   "outputs": [],
   "source": [
    "df_train['distance_haversine'] = df_train.apply(haversine_distance, axis=1)\n",
    "df_train['direction'] =   df_train.apply(calculate_direction, axis=1)\n",
    "df_train['distance_manhattan'] = df_train.apply(manhattan_distance, axis=1)\n"
   ]
  },
  {
   "cell_type": "code",
   "execution_count": 101,
   "id": "d6fccfcc-18eb-4e97-a34c-3afe747daf1a",
   "metadata": {},
   "outputs": [
    {
     "data": {
      "text/plain": [
       "count    1000000.000000\n",
       "mean           3.440429\n",
       "std            4.428006\n",
       "min            0.000000\n",
       "25%            1.232421\n",
       "50%            2.091711\n",
       "75%            3.870799\n",
       "max         1240.510256\n",
       "Name: distance_haversine, dtype: float64"
      ]
     },
     "execution_count": 101,
     "metadata": {},
     "output_type": "execute_result"
    }
   ],
   "source": [
    "df_train['distance_haversine'].describe()"
   ]
  },
  {
   "cell_type": "code",
   "execution_count": 100,
   "id": "3f14a38c-237f-40a9-8a7d-8524e17dcb47",
   "metadata": {},
   "outputs": [
    {
     "data": {
      "image/png": "[encoded data removed]",
      "text/plain": [
       "<Figure size 640x480 with 1 Axes>"
      ]
     },
     "metadata": {},
     "output_type": "display_data"
    }
   ],
   "source": [
    "sns.histplot(df_train['distance_haversine'])\n",
    "plt.show()"
   ]
  },
  {
   "cell_type": "code",
   "execution_count": 102,
   "id": "9758d84e-179a-4e52-8501-46c72b7ea36f",
   "metadata": {},
   "outputs": [
    {
     "data": {
      "image/png": "[encoded data removed]",
      "text/plain": [
       "<Figure size 640x480 with 1 Axes>"
      ]
     },
     "metadata": {},
     "output_type": "display_data"
    }
   ],
   "source": [
    "sns.boxplot(df_train['distance_haversine'])\n",
    "plt.show()  # see the outliers "
   ]
  },
  {
   "cell_type": "code",
   "execution_count": 106,
   "id": "a160b480-d12b-4a17-8b79-22c31ecd825c",
   "metadata": {},
   "outputs": [
    {
     "data": {
      "text/html": [
       "<div>\n",
       "<style scoped>\n",
       "    .dataframe tbody tr th:only-of-type {\n",
       "        vertical-align: middle;\n",
       "    }\n",
       "\n",
       "    .dataframe tbody tr th {\n",
       "        vertical-align: top;\n",
       "    }\n",
       "\n",
       "    .dataframe thead th {\n",
       "        text-align: right;\n",
       "    }\n",
       "</style>\n",
       "<table border=\"1\" class=\"dataframe\">\n",
       "  <thead>\n",
       "    <tr style=\"text-align: right;\">\n",
       "      <th></th>\n",
       "      <th>id</th>\n",
       "      <th>vendor_id</th>\n",
       "      <th>pickup_datetime</th>\n",
       "      <th>passenger_count</th>\n",
       "      <th>pickup_longitude</th>\n",
       "      <th>pickup_latitude</th>\n",
       "      <th>dropoff_longitude</th>\n",
       "      <th>dropoff_latitude</th>\n",
       "      <th>store_and_fwd_flag</th>\n",
       "      <th>trip_duration</th>\n",
       "      <th>pickup_hour</th>\n",
       "      <th>pickup_month</th>\n",
       "      <th>pickup_day</th>\n",
       "      <th>pickup_dayofweek</th>\n",
       "      <th>pickup_minute</th>\n",
       "      <th>log_trip_duration</th>\n",
       "      <th>is_weekend</th>\n",
       "      <th>range_minutes</th>\n",
       "      <th>range_hours</th>\n",
       "      <th>range_months</th>\n",
       "      <th>distance_haversine</th>\n",
       "      <th>direction</th>\n",
       "      <th>distance_manhattan</th>\n",
       "    </tr>\n",
       "  </thead>\n",
       "  <tbody>\n",
       "    <tr>\n",
       "      <th>4</th>\n",
       "      <td>id0140657</td>\n",
       "      <td>1</td>\n",
       "      <td>2016-05-12 17:43:38</td>\n",
       "      <td>4</td>\n",
       "      <td>-73.789497</td>\n",
       "      <td>40.646675</td>\n",
       "      <td>-73.987137</td>\n",
       "      <td>40.759232</td>\n",
       "      <td>N</td>\n",
       "      <td>4967</td>\n",
       "      <td>17</td>\n",
       "      <td>5</td>\n",
       "      <td>12</td>\n",
       "      <td>Thursday</td>\n",
       "      <td>43</td>\n",
       "      <td>8.510773</td>\n",
       "      <td>0</td>\n",
       "      <td>2</td>\n",
       "      <td>2</td>\n",
       "      <td>1</td>\n",
       "      <td>20.861805</td>\n",
       "      <td>306.979191</td>\n",
       "      <td>29.139010</td>\n",
       "    </tr>\n",
       "    <tr>\n",
       "      <th>12</th>\n",
       "      <td>id0088775</td>\n",
       "      <td>2</td>\n",
       "      <td>2016-04-14 18:29:44</td>\n",
       "      <td>1</td>\n",
       "      <td>-73.776665</td>\n",
       "      <td>40.645432</td>\n",
       "      <td>-73.968163</td>\n",
       "      <td>40.754810</td>\n",
       "      <td>N</td>\n",
       "      <td>2971</td>\n",
       "      <td>18</td>\n",
       "      <td>4</td>\n",
       "      <td>14</td>\n",
       "      <td>Thursday</td>\n",
       "      <td>29</td>\n",
       "      <td>7.996990</td>\n",
       "      <td>0</td>\n",
       "      <td>1</td>\n",
       "      <td>2</td>\n",
       "      <td>1</td>\n",
       "      <td>20.235383</td>\n",
       "      <td>307.056678</td>\n",
       "      <td>28.269340</td>\n",
       "    </tr>\n",
       "    <tr>\n",
       "      <th>21</th>\n",
       "      <td>id0874642</td>\n",
       "      <td>2</td>\n",
       "      <td>2016-06-10 01:45:44</td>\n",
       "      <td>1</td>\n",
       "      <td>-73.975868</td>\n",
       "      <td>40.746498</td>\n",
       "      <td>-73.699997</td>\n",
       "      <td>40.795990</td>\n",
       "      <td>N</td>\n",
       "      <td>1748</td>\n",
       "      <td>1</td>\n",
       "      <td>6</td>\n",
       "      <td>10</td>\n",
       "      <td>Friday</td>\n",
       "      <td>45</td>\n",
       "      <td>7.466799</td>\n",
       "      <td>0</td>\n",
       "      <td>2</td>\n",
       "      <td>2</td>\n",
       "      <td>2</td>\n",
       "      <td>23.930219</td>\n",
       "      <td>76.582828</td>\n",
       "      <td>28.692757</td>\n",
       "    </tr>\n",
       "    <tr>\n",
       "      <th>62</th>\n",
       "      <td>id1106419</td>\n",
       "      <td>2</td>\n",
       "      <td>2016-05-31 10:49:14</td>\n",
       "      <td>1</td>\n",
       "      <td>-73.781944</td>\n",
       "      <td>40.644691</td>\n",
       "      <td>-73.967003</td>\n",
       "      <td>40.798595</td>\n",
       "      <td>N</td>\n",
       "      <td>2980</td>\n",
       "      <td>10</td>\n",
       "      <td>5</td>\n",
       "      <td>31</td>\n",
       "      <td>Tuesday</td>\n",
       "      <td>49</td>\n",
       "      <td>8.000014</td>\n",
       "      <td>0</td>\n",
       "      <td>3</td>\n",
       "      <td>0</td>\n",
       "      <td>1</td>\n",
       "      <td>23.163689</td>\n",
       "      <td>317.717216</td>\n",
       "      <td>32.669482</td>\n",
       "    </tr>\n",
       "    <tr>\n",
       "      <th>90</th>\n",
       "      <td>id3475936</td>\n",
       "      <td>2</td>\n",
       "      <td>2016-01-03 17:30:18</td>\n",
       "      <td>6</td>\n",
       "      <td>-73.977119</td>\n",
       "      <td>40.764389</td>\n",
       "      <td>-73.784363</td>\n",
       "      <td>40.643372</td>\n",
       "      <td>N</td>\n",
       "      <td>2877</td>\n",
       "      <td>17</td>\n",
       "      <td>1</td>\n",
       "      <td>3</td>\n",
       "      <td>Sunday</td>\n",
       "      <td>30</td>\n",
       "      <td>7.964851</td>\n",
       "      <td>1</td>\n",
       "      <td>1</td>\n",
       "      <td>2</td>\n",
       "      <td>0</td>\n",
       "      <td>21.117850</td>\n",
       "      <td>129.567538</td>\n",
       "      <td>29.638281</td>\n",
       "    </tr>\n",
       "    <tr>\n",
       "      <th>...</th>\n",
       "      <td>...</td>\n",
       "      <td>...</td>\n",
       "      <td>...</td>\n",
       "      <td>...</td>\n",
       "      <td>...</td>\n",
       "      <td>...</td>\n",
       "      <td>...</td>\n",
       "      <td>...</td>\n",
       "      <td>...</td>\n",
       "      <td>...</td>\n",
       "      <td>...</td>\n",
       "      <td>...</td>\n",
       "      <td>...</td>\n",
       "      <td>...</td>\n",
       "      <td>...</td>\n",
       "      <td>...</td>\n",
       "      <td>...</td>\n",
       "      <td>...</td>\n",
       "      <td>...</td>\n",
       "      <td>...</td>\n",
       "      <td>...</td>\n",
       "      <td>...</td>\n",
       "      <td>...</td>\n",
       "    </tr>\n",
       "    <tr>\n",
       "      <th>999737</th>\n",
       "      <td>id3163537</td>\n",
       "      <td>2</td>\n",
       "      <td>2016-01-29 13:42:10</td>\n",
       "      <td>1</td>\n",
       "      <td>-73.781898</td>\n",
       "      <td>40.644650</td>\n",
       "      <td>-73.996422</td>\n",
       "      <td>40.732609</td>\n",
       "      <td>N</td>\n",
       "      <td>2609</td>\n",
       "      <td>13</td>\n",
       "      <td>1</td>\n",
       "      <td>29</td>\n",
       "      <td>Friday</td>\n",
       "      <td>42</td>\n",
       "      <td>7.867106</td>\n",
       "      <td>0</td>\n",
       "      <td>2</td>\n",
       "      <td>1</td>\n",
       "      <td>0</td>\n",
       "      <td>20.596990</td>\n",
       "      <td>298.471675</td>\n",
       "      <td>27.831235</td>\n",
       "    </tr>\n",
       "    <tr>\n",
       "      <th>999894</th>\n",
       "      <td>id0328398</td>\n",
       "      <td>1</td>\n",
       "      <td>2016-01-21 08:58:02</td>\n",
       "      <td>1</td>\n",
       "      <td>-73.997604</td>\n",
       "      <td>40.756657</td>\n",
       "      <td>-73.789085</td>\n",
       "      <td>40.641670</td>\n",
       "      <td>N</td>\n",
       "      <td>3308</td>\n",
       "      <td>8</td>\n",
       "      <td>1</td>\n",
       "      <td>21</td>\n",
       "      <td>Thursday</td>\n",
       "      <td>58</td>\n",
       "      <td>8.104401</td>\n",
       "      <td>0</td>\n",
       "      <td>3</td>\n",
       "      <td>0</td>\n",
       "      <td>0</td>\n",
       "      <td>21.763007</td>\n",
       "      <td>125.962618</td>\n",
       "      <td>30.296039</td>\n",
       "    </tr>\n",
       "    <tr>\n",
       "      <th>999929</th>\n",
       "      <td>id2898997</td>\n",
       "      <td>2</td>\n",
       "      <td>2016-04-05 22:16:15</td>\n",
       "      <td>2</td>\n",
       "      <td>-73.776741</td>\n",
       "      <td>40.645378</td>\n",
       "      <td>-73.963425</td>\n",
       "      <td>40.765919</td>\n",
       "      <td>N</td>\n",
       "      <td>1882</td>\n",
       "      <td>22</td>\n",
       "      <td>4</td>\n",
       "      <td>5</td>\n",
       "      <td>Tuesday</td>\n",
       "      <td>16</td>\n",
       "      <td>7.540622</td>\n",
       "      <td>0</td>\n",
       "      <td>1</td>\n",
       "      <td>2</td>\n",
       "      <td>1</td>\n",
       "      <td>20.689912</td>\n",
       "      <td>310.483909</td>\n",
       "      <td>29.102857</td>\n",
       "    </tr>\n",
       "    <tr>\n",
       "      <th>999974</th>\n",
       "      <td>id3977682</td>\n",
       "      <td>2</td>\n",
       "      <td>2016-01-07 23:38:32</td>\n",
       "      <td>4</td>\n",
       "      <td>-73.971069</td>\n",
       "      <td>40.758549</td>\n",
       "      <td>-73.734138</td>\n",
       "      <td>40.772141</td>\n",
       "      <td>N</td>\n",
       "      <td>2605</td>\n",
       "      <td>23</td>\n",
       "      <td>1</td>\n",
       "      <td>7</td>\n",
       "      <td>Thursday</td>\n",
       "      <td>38</td>\n",
       "      <td>7.865572</td>\n",
       "      <td>0</td>\n",
       "      <td>2</td>\n",
       "      <td>2</td>\n",
       "      <td>0</td>\n",
       "      <td>20.061604</td>\n",
       "      <td>85.591247</td>\n",
       "      <td>21.429571</td>\n",
       "    </tr>\n",
       "    <tr>\n",
       "      <th>999986</th>\n",
       "      <td>id2725234</td>\n",
       "      <td>2</td>\n",
       "      <td>2016-06-19 18:02:35</td>\n",
       "      <td>6</td>\n",
       "      <td>-73.953354</td>\n",
       "      <td>40.779510</td>\n",
       "      <td>-74.183289</td>\n",
       "      <td>40.688007</td>\n",
       "      <td>N</td>\n",
       "      <td>2890</td>\n",
       "      <td>18</td>\n",
       "      <td>6</td>\n",
       "      <td>19</td>\n",
       "      <td>Sunday</td>\n",
       "      <td>2</td>\n",
       "      <td>7.969358</td>\n",
       "      <td>1</td>\n",
       "      <td>0</td>\n",
       "      <td>2</td>\n",
       "      <td>2</td>\n",
       "      <td>21.920624</td>\n",
       "      <td>242.367640</td>\n",
       "      <td>29.483408</td>\n",
       "    </tr>\n",
       "  </tbody>\n",
       "</table>\n",
       "<p>16491 rows × 23 columns</p>\n",
       "</div>"
      ],
      "text/plain": [
       "               id  vendor_id     pickup_datetime  passenger_count  \\\n",
       "4       id0140657          1 2016-05-12 17:43:38                4   \n",
       "12      id0088775          2 2016-04-14 18:29:44                1   \n",
       "21      id0874642          2 2016-06-10 01:45:44                1   \n",
       "62      id1106419          2 2016-05-31 10:49:14                1   \n",
       "90      id3475936          2 2016-01-03 17:30:18                6   \n",
       "...           ...        ...                 ...              ...   \n",
       "999737  id3163537          2 2016-01-29 13:42:10                1   \n",
       "999894  id0328398          1 2016-01-21 08:58:02                1   \n",
       "999929  id2898997          2 2016-04-05 22:16:15                2   \n",
       "999974  id3977682          2 2016-01-07 23:38:32                4   \n",
       "999986  id2725234          2 2016-06-19 18:02:35                6   \n",
       "\n",
       "        pickup_longitude  pickup_latitude  dropoff_longitude  \\\n",
       "4             -73.789497        40.646675         -73.987137   \n",
       "12            -73.776665        40.645432         -73.968163   \n",
       "21            -73.975868        40.746498         -73.699997   \n",
       "62            -73.781944        40.644691         -73.967003   \n",
       "90            -73.977119        40.764389         -73.784363   \n",
       "...                  ...              ...                ...   \n",
       "999737        -73.781898        40.644650         -73.996422   \n",
       "999894        -73.997604        40.756657         -73.789085   \n",
       "999929        -73.776741        40.645378         -73.963425   \n",
       "999974        -73.971069        40.758549         -73.734138   \n",
       "999986        -73.953354        40.779510         -74.183289   \n",
       "\n",
       "        dropoff_latitude store_and_fwd_flag  trip_duration  pickup_hour  \\\n",
       "4              40.759232                  N           4967           17   \n",
       "12             40.754810                  N           2971           18   \n",
       "21             40.795990                  N           1748            1   \n",
       "62             40.798595                  N           2980           10   \n",
       "90             40.643372                  N           2877           17   \n",
       "...                  ...                ...            ...          ...   \n",
       "999737         40.732609                  N           2609           13   \n",
       "999894         40.641670                  N           3308            8   \n",
       "999929         40.765919                  N           1882           22   \n",
       "999974         40.772141                  N           2605           23   \n",
       "999986         40.688007                  N           2890           18   \n",
       "\n",
       "        pickup_month  pickup_day pickup_dayofweek  pickup_minute  \\\n",
       "4                  5          12         Thursday             43   \n",
       "12                 4          14         Thursday             29   \n",
       "21                 6          10           Friday             45   \n",
       "62                 5          31          Tuesday             49   \n",
       "90                 1           3           Sunday             30   \n",
       "...              ...         ...              ...            ...   \n",
       "999737             1          29           Friday             42   \n",
       "999894             1          21         Thursday             58   \n",
       "999929             4           5          Tuesday             16   \n",
       "999974             1           7         Thursday             38   \n",
       "999986             6          19           Sunday              2   \n",
       "\n",
       "        log_trip_duration  is_weekend  range_minutes  range_hours  \\\n",
       "4                8.510773           0              2            2   \n",
       "12               7.996990           0              1            2   \n",
       "21               7.466799           0              2            2   \n",
       "62               8.000014           0              3            0   \n",
       "90               7.964851           1              1            2   \n",
       "...                   ...         ...            ...          ...   \n",
       "999737           7.867106           0              2            1   \n",
       "999894           8.104401           0              3            0   \n",
       "999929           7.540622           0              1            2   \n",
       "999974           7.865572           0              2            2   \n",
       "999986           7.969358           1              0            2   \n",
       "\n",
       "        range_months  distance_haversine   direction  distance_manhattan  \n",
       "4                  1           20.861805  306.979191           29.139010  \n",
       "12                 1           20.235383  307.056678           28.269340  \n",
       "21                 2           23.930219   76.582828           28.692757  \n",
       "62                 1           23.163689  317.717216           32.669482  \n",
       "90                 0           21.117850  129.567538           29.638281  \n",
       "...              ...                 ...         ...                 ...  \n",
       "999737             0           20.596990  298.471675           27.831235  \n",
       "999894             0           21.763007  125.962618           30.296039  \n",
       "999929             1           20.689912  310.483909           29.102857  \n",
       "999974             0           20.061604   85.591247           21.429571  \n",
       "999986             2           21.920624  242.367640           29.483408  \n",
       "\n",
       "[16491 rows x 23 columns]"
      ]
     },
     "execution_count": 106,
     "metadata": {},
     "output_type": "execute_result"
    }
   ],
   "source": [
    "f=df_train['distance_haversine']>20\n",
    "df_train[f]"
   ]
  },
  {
   "cell_type": "code",
   "execution_count": null,
   "id": "3ab3c801-0aa5-485a-872f-2f1643343862",
   "metadata": {},
   "outputs": [],
   "source": []
  },
  {
   "cell_type": "code",
   "execution_count": 108,
   "id": "12a44a61-883c-43b4-8fa7-2e112ecb1046",
   "metadata": {},
   "outputs": [
    {
     "data": {
      "text/plain": [
       "Index(['id', 'vendor_id', 'pickup_datetime', 'passenger_count',\n",
       "       'pickup_longitude', 'pickup_latitude', 'dropoff_longitude',\n",
       "       'dropoff_latitude', 'store_and_fwd_flag', 'trip_duration',\n",
       "       'pickup_hour', 'pickup_month', 'pickup_day', 'pickup_dayofweek',\n",
       "       'pickup_minute', 'log_trip_duration', 'is_weekend', 'range_minutes',\n",
       "       'range_hours', 'range_months', 'distance_haversine', 'direction',\n",
       "       'distance_manhattan'],\n",
       "      dtype='object')"
      ]
     },
     "execution_count": 108,
     "metadata": {},
     "output_type": "execute_result"
    }
   ],
   "source": [
    "df_train.columns"
   ]
  },
  {
   "cell_type": "code",
   "execution_count": 113,
   "id": "8be02504-3395-4694-92db-80e8a97946a8",
   "metadata": {},
   "outputs": [],
   "source": [
    "df_train_corr=df_train[['vendor_id','passenger_count','pickup_hour', 'pickup_month', 'pickup_day','pickup_minute', 'log_trip_duration', 'is_weekend', 'range_minutes','range_hours', 'range_months', 'distance_haversine', 'direction','distance_manhattan']]"
   ]
  },
  {
   "cell_type": "code",
   "execution_count": 116,
   "id": "dfabb98a-0c8e-4ca9-acd0-c300fac934d1",
   "metadata": {},
   "outputs": [
    {
     "data": {
      "image/png": "[encoded data removed]",
      "text/plain": [
       "<Figure size 640x480 with 2 Axes>"
      ]
     },
     "metadata": {},
     "output_type": "display_data"
    }
   ],
   "source": [
    "sns.heatmap(df_train_corr.corr())\n",
    "plt.show()"
   ]
  },
  {
   "cell_type": "code",
   "execution_count": null,
   "id": "91f8535b-ec5c-4c0c-b943-e3e152c9cdb5",
   "metadata": {},
   "outputs": [],
   "source": []
  },
  {
   "cell_type": "markdown",
   "id": "b9e4c6ff-6011-441e-92b6-2457db904b8c",
   "metadata": {},
   "source": [
    "# End of EDA"
   ]
  },
  {
   "cell_type": "code",
   "execution_count": 1,
   "id": "1fe6a5b9-c03d-4ba5-b706-491bc2657ac4",
   "metadata": {},
   "outputs": [],
   "source": [
    "import numpy as np\n",
    "import pandas as pd \n",
    "import matplotlib.pyplot as plt \n",
    "import seaborn as sns\n",
    "import datetime\n",
    "\n",
    "from geopy import distance\n",
    "from geopy.point import Point\n",
    "import math\n",
    "\n",
    "from sklearn.preprocessing import OneHotEncoder, StandardScaler, RobustScaler, MinMaxScaler, PolynomialFeatures, FunctionTransformer\n",
    "from sklearn.compose import ColumnTransformer\n",
    "from sklearn.pipeline import Pipeline\n",
    "from sklearn.linear_model import Ridge\n",
    "from sklearn.metrics import r2_score,mean_squared_error\n",
    "import xgboost as xgb"
   ]
  },
  {
   "cell_type": "code",
   "execution_count": 2,
   "id": "24ededd6-13da-4b0a-b756-d6424062b1ee",
   "metadata": {},
   "outputs": [],
   "source": [
    "df_train =pd.read_csv(r\"D:\\Courses\\ML Dr Mostafa\\Projects_last\\1 project-nyc-taxi-trip-duration\\split\\train.csv\")\n",
    "df_val =pd.read_csv(r\"D:\\Courses\\ML Dr Mostafa\\Projects_last\\1 project-nyc-taxi-trip-duration\\split\\val.csv\")\n",
    "df_test=pd.read_csv(r\"D:\\Courses\\ML Dr Mostafa\\Projects_last\\1 project-nyc-taxi-trip-duration\\split\\test.csv\")\n",
    "pd.set_option(\"display.max_columns\",50)"
   ]
  },
  {
   "cell_type": "markdown",
   "id": "2801c7c0-8d86-4296-8c43-72aa91368603",
   "metadata": {},
   "source": [
    "# i will prepare the data without removing anything (outliers)"
   ]
  },
  {
   "cell_type": "code",
   "execution_count": 3,
   "id": "99432632-f076-43e1-b848-deb51c20f1fb",
   "metadata": {},
   "outputs": [],
   "source": [
    "def prepare_data(df):\n",
    "\n",
    "    def range_months(x): \n",
    "        if 1<=x<=2 : \n",
    "            return 0  # winter\n",
    "        elif 3<=x<=5: \n",
    "            return 1  # spring \n",
    "        else:  \n",
    "            return 2  # summer      #we know that data for 6 months from 1 to 6\n",
    "\n",
    "    def range_hours(x): \n",
    "        if 5<=x<12 : \n",
    "            return 0  # Morning\n",
    "        elif 12<=x<17: \n",
    "            return 1  # Afternoon\n",
    "        else: \n",
    "            return 2  # Night\n",
    "\n",
    "    def range_minutes(x): \n",
    "        if 1<=x<=15 : \n",
    "            return 0   #Q1\n",
    "        elif 16<=x<=30: \n",
    "            return 1   #Q2\n",
    "        elif 31<=x<=45:\n",
    "            return 2   #Q3\n",
    "        else: \n",
    "            return 3   #Q4\n",
    "\n",
    "    def haversine_distance(row):\n",
    "        pick = Point(row['pickup_latitude'], row['pickup_longitude'])\n",
    "        drop = Point(row['dropoff_latitude'], row['dropoff_longitude'])\n",
    "        dist = distance.geodesic(pick, drop)\n",
    "        return dist.km\n",
    "\n",
    "    def calculate_direction(row):\n",
    "        pickup_coordinates =  Point(row['pickup_latitude'], row['pickup_longitude'])\n",
    "        dropoff_coordinates = Point(row['dropoff_latitude'], row['dropoff_longitude'])\n",
    "        # Calculate the difference in longitudes\n",
    "        delta_longitude = dropoff_coordinates[1] - pickup_coordinates[1]\n",
    "        # Calculate the bearing (direction) using trigonometry\n",
    "        y = math.sin(math.radians(delta_longitude)) * math.cos(math.radians(dropoff_coordinates[0]))\n",
    "        x = math.cos(math.radians(pickup_coordinates[0])) * math.sin(math.radians(dropoff_coordinates[0])) - \\\n",
    "            math.sin(math.radians(pickup_coordinates[0])) * math.cos(math.radians(dropoff_coordinates[0])) * \\\n",
    "            math.cos(math.radians(delta_longitude))\n",
    "        # Calculate the bearing in degrees\n",
    "        bearing = math.atan2(y, x)\n",
    "        bearing = math.degrees(bearing)\n",
    "        # Adjust the bearing to be in the range [0, 360)\n",
    "        bearing = (bearing + 360) % 360\n",
    "        \n",
    "        return bearing\n",
    "\n",
    "    def manhattan_distance(row):\n",
    "       \n",
    "        lat_distance = abs(row['pickup_latitude'] - row['dropoff_latitude']) * 111  # approx 111 km per degree latitude\n",
    "        lon_distance = abs(row['pickup_longitude'] - row['dropoff_longitude']) * 111 * math.cos(math.radians(row['pickup_latitude']))  # adjust for latitude\n",
    "        \n",
    "        return lat_distance + lon_distance\n",
    "    \n",
    "    # datetime\n",
    "    df[\"pickup_datetime\"]=pd.to_datetime(df[\"pickup_datetime\"])\n",
    "    df[\"pickup_hour\"]=df[\"pickup_datetime\"].dt.hour\n",
    "    df[\"pickup_month\"]=df[\"pickup_datetime\"].dt.month\n",
    "    df[\"pickup_day\"]=df[\"pickup_datetime\"].dt.day\n",
    "    df[\"pickup_dayofweek\"]=df[\"pickup_datetime\"].dt.day_name()\n",
    "    df[\"pickup_minute\"]=df[\"pickup_datetime\"].dt.minute\n",
    "\n",
    "    df[\"log_trip_duration\"]=np.log1p(df[\"trip_duration\"])\n",
    "    \n",
    "    df[\"is_weekend\"]=((df[\"pickup_dayofweek\"]==\"Sunday\") | (df[\"pickup_dayofweek\"]==\"Saturday\")).astype(int)\n",
    "    df[\"range_minutes\"]=df[\"pickup_minute\"].apply(lambda x:range_minutes(x))\n",
    "    df[\"range_hours\"]=df[\"pickup_hour\"].apply(lambda x:range_hours(x))\n",
    "    df[\"range_months\"]=df[\"pickup_month\"].apply(lambda x:range_months(x))\n",
    "\n",
    "    df['distance_haversine'] = df.apply(haversine_distance, axis=1)\n",
    "    df['direction'] = df.apply(calculate_direction, axis=1)\n",
    "    df['distance_manhattan'] = df.apply(manhattan_distance, axis=1)\n",
    "\n",
    "    df.drop(columns=['id','pickup_datetime','trip_duration','pickup_minute'],inplace=True)\n",
    "\n",
    "    return df \n",
    "    "
   ]
  },
  {
   "cell_type": "code",
   "execution_count": 4,
   "id": "8764a890-52ef-4727-95d2-387468e01e33",
   "metadata": {},
   "outputs": [
    {
     "data": {
      "text/plain": [
       "Index(['id', 'vendor_id', 'pickup_datetime', 'passenger_count',\n",
       "       'pickup_longitude', 'pickup_latitude', 'dropoff_longitude',\n",
       "       'dropoff_latitude', 'store_and_fwd_flag', 'trip_duration'],\n",
       "      dtype='object')"
      ]
     },
     "execution_count": 4,
     "metadata": {},
     "output_type": "execute_result"
    }
   ],
   "source": [
    "df_train.columns"
   ]
  },
  {
   "cell_type": "code",
   "execution_count": 5,
   "id": "69645eac-142f-483e-9529-67f18ba21c8d",
   "metadata": {},
   "outputs": [],
   "source": [
    "cat_features=['vendor_id', 'passenger_count','store_and_fwd_flag','pickup_hour', 'pickup_month', 'pickup_day', 'pickup_dayofweek', 'is_weekend', 'range_minutes','range_hours', 'range_months']\n",
    "num_features =[ 'pickup_longitude', 'pickup_latitude', 'dropoff_longitude','dropoff_latitude','distance_haversine', 'direction','distance_manhattan']"
   ]
  },
  {
   "cell_type": "code",
   "execution_count": null,
   "id": "76342ecb-19fc-40f8-9b25-51af8d42761c",
   "metadata": {},
   "outputs": [],
   "source": []
  },
  {
   "cell_type": "code",
   "execution_count": 12,
   "id": "4a95ec17-3def-46e2-b864-bf4aae0f291b",
   "metadata": {},
   "outputs": [],
   "source": [
    "def predict_eval(model, data_preprocessed, target,name) -> str:\n",
    "    y_train_pred = model.predict(data_preprocessed)\n",
    "    mse = mean_squared_error(target, y_train_pred)\n",
    "    rmse=mse**.5\n",
    "    r2 = r2_score(target, y_train_pred)\n",
    "    print(f\"{name} RMSE = {rmse:.4f} - R2 = {r2:.4f}\")\n",
    "    return rmse, r2, f\"{name} RMSE = {rmse:.4f} - R2 = {r2:.4f}\"\n"
   ]
  },
  {
   "cell_type": "code",
   "execution_count": 13,
   "id": "eeef0b35-88bf-435a-87a8-22c2e402e6ee",
   "metadata": {},
   "outputs": [],
   "source": [
    "def log_transform(x): \n",
    "    return np.log1p(np.maximum(x, 0))\n",
    "\n",
    "def with_suffix(_, names: list[str]):  # https://github.com/scikit-learn/scikit-learn/issues/27695\n",
    "    return [name + '__log' for name in names]"
   ]
  },
  {
   "cell_type": "code",
   "execution_count": null,
   "id": "b24854b8-d62c-4cb3-8001-0b1c1f126c6e",
   "metadata": {},
   "outputs": [],
   "source": []
  },
  {
   "cell_type": "code",
   "execution_count": 16,
   "id": "28755eb8-8963-4257-9640-ef2fb52ce81c",
   "metadata": {},
   "outputs": [],
   "source": [
    "def pipeline_train(train, val):\n",
    "\n",
    "    cat_features=['vendor_id', 'passenger_count','store_and_fwd_flag','pickup_hour', 'pickup_month', 'pickup_day', 'pickup_dayofweek', 'is_weekend', 'range_minutes','range_hours', 'range_months']\n",
    "    num_features =[ 'pickup_longitude', 'pickup_latitude', 'dropoff_longitude','dropoff_latitude','distance_haversine', 'direction','distance_manhattan']\n",
    "    \n",
    "    LogFeatures = FunctionTransformer(log_transform, feature_names_out=with_suffix)\n",
    "    \n",
    "    train_features = num_features + cat_features\n",
    "\n",
    "    numeric_transformer = Pipeline(steps=[\n",
    "        ('scaler', StandardScaler()), \n",
    "        ('poly', PolynomialFeatures(degree=4)),\n",
    "        ('log', LogFeatures)\n",
    "       \n",
    "    ])\n",
    "\n",
    "    categorical_transformer = Pipeline(steps=[\n",
    "        ('ohe', OneHotEncoder(handle_unknown=\"infrequent_if_exist\"))\n",
    "    ])\n",
    "\n",
    "    column_transformer = ColumnTransformer(\n",
    "        transformers=[\n",
    "            ('num', numeric_transformer, num_features ),\n",
    "            ('cat', categorical_transformer, cat_features)\n",
    "        ],\n",
    "        remainder='passthrough'\n",
    "    )\n",
    "\n",
    "    data_preprocessor = Pipeline(steps=[\n",
    "        ('preprocessor', column_transformer)\n",
    "    ])\n",
    "\n",
    "   \n",
    "    train_preprocessed = data_preprocessor.fit_transform(train[train_features])\n",
    "    val_preprocessed = data_preprocessor.transform(val[train_features])\n",
    "\n",
    "\n",
    "\n",
    "    ridge = Ridge(alpha=1, random_state=42)\n",
    "    ridge.fit(train_preprocessed, train['log_trip_duration'])\n",
    "\n",
    "    \n",
    "    xgbr=xgb.XGBRegressor()\n",
    "    xgbr.fit(train_preprocessed, train['log_trip_duration'])\n",
    "    \n",
    "    train_rmse_ridge, train_r2_ridge, _ = predict_eval(ridge, train_preprocessed, train['log_trip_duration'], \"train_ridge\")\n",
    "    val_rmse_ridge, val_r2_ridge, _ = predict_eval(ridge, val_preprocessed, val['log_trip_duration'], \"val_ridge\")\n",
    "    \n",
    "    train_rmse_xgbr, train_r2_xgbr, _ = predict_eval(xgbr, train_preprocessed, train['log_trip_duration'], \"train_xgbr\")\n",
    "    val_rmse_xgbr, val_r2_xgbr, _ = predict_eval(xgbr, val_preprocessed, val['log_trip_duration'], \"val_xgbr\")\n",
    "    \n",
    "    return ridge,xgbr, train_features, data_preprocessor, train_rmse_ridge, train_r2_ridge, val_rmse_ridge, val_r2_ridge,train_rmse_xgbr, train_r2_xgbr,val_rmse_xgbr, val_r2_xgbr\n"
   ]
  },
  {
   "cell_type": "code",
   "execution_count": 9,
   "id": "e7e9cdf7-6ead-4e60-9f55-0eeac9b4e79a",
   "metadata": {},
   "outputs": [],
   "source": [
    "df_train=prepare_data(df_train)\n",
    "df_val=prepare_data(df_val)\n"
   ]
  },
  {
   "cell_type": "code",
   "execution_count": 17,
   "id": "c4d880f8-e952-4c7f-8564-272df7be66e6",
   "metadata": {},
   "outputs": [
    {
     "name": "stdout",
     "output_type": "stream",
     "text": [
      "train_ridge RMSE = 0.4432 - R2 = 0.6891\n",
      "val_ridge RMSE = 0.4478 - R2 = 0.6867\n",
      "train_xgbr RMSE = 0.3826 - R2 = 0.7683\n",
      "val_xgbr RMSE = 0.4012 - R2 = 0.7485\n"
     ]
    }
   ],
   "source": [
    "ridge,xgbr, train_features, data_preprocessor, train_rmse_ridge, train_r2_ridge, val_rmse_ridge, val_r2_ridge,train_rmse_xgbr, train_r2_xgbr,val_rmse_xgbr, val_r2_xgbr = pipeline_train(df_train, df_val)\n"
   ]
  },
  {
   "cell_type": "code",
   "execution_count": null,
   "id": "16e90bb6-e4d5-4a4c-9f35-d89623073655",
   "metadata": {},
   "outputs": [],
   "source": []
  },
  {
   "cell_type": "code",
   "execution_count": 18,
   "id": "18418583-aae9-4a16-9ef2-932b39fd7768",
   "metadata": {},
   "outputs": [],
   "source": [
    "df_test=prepare_data(df_test)"
   ]
  },
  {
   "cell_type": "code",
   "execution_count": 25,
   "id": "ce39f44a-f779-454e-aa0d-4aebc7d385d9",
   "metadata": {},
   "outputs": [],
   "source": [
    "test_preprocessed=data_preprocessor.transform(df_test[train_features])"
   ]
  },
  {
   "cell_type": "code",
   "execution_count": 27,
   "id": "4e8a602f-2179-43e8-98b3-2963efdcb698",
   "metadata": {},
   "outputs": [
    {
     "name": "stdout",
     "output_type": "stream",
     "text": [
      "test_ridge RMSE = 0.4426 - R2 = 0.6908\n",
      "test_xgbr RMSE = 0.3952 - R2 = 0.7534\n"
     ]
    }
   ],
   "source": [
    "test_rmse_ridge, test_r2_ridge, _ = predict_eval(ridge, test_preprocessed, df_test['log_trip_duration'], \"test_ridge\")\n",
    "test_rmse_xgbr, test_r2_xgbr, _ = predict_eval(xgbr, test_preprocessed, df_test['log_trip_duration'], \"test_xgbr\")\n"
   ]
  },
  {
   "cell_type": "code",
   "execution_count": null,
   "id": "248754ce-8b63-403d-82a3-98b85695de56",
   "metadata": {},
   "outputs": [],
   "source": []
  },
  {
   "cell_type": "code",
   "execution_count": 29,
   "id": "5122f052-43ce-40ff-9216-281807521757",
   "metadata": {},
   "outputs": [
    {
     "data": {
      "text/plain": [
       "(229322, 422)"
      ]
     },
     "execution_count": 29,
     "metadata": {},
     "output_type": "execute_result"
    }
   ],
   "source": [
    "test_preprocessed.shape"
   ]
  },
  {
   "cell_type": "code",
   "execution_count": null,
   "id": "c151f3c3-7bcd-4e75-9d5e-782522e33c24",
   "metadata": {},
   "outputs": [],
   "source": []
  },
  {
   "cell_type": "code",
   "execution_count": null,
   "id": "19bf7a7c-0269-491a-9366-9b9c96bcabee",
   "metadata": {},
   "outputs": [],
   "source": []
  },
  {
   "cell_type": "code",
   "execution_count": null,
   "id": "d18661ca-84c9-4061-87ba-34313d49491a",
   "metadata": {},
   "outputs": [],
   "source": []
  }
 ],
 "metadata": {
  "kernelspec": {
   "display_name": "Python 3 (ipykernel)",
   "language": "python",
   "name": "python3"
  },
  "language_info": {
   "codemirror_mode": {
    "name": "ipython",
    "version": 3
   },
   "file_extension": ".py",
   "mimetype": "text/x-python",
   "name": "python",
   "nbconvert_exporter": "python",
   "pygments_lexer": "ipython3",
   "version": "3.11.5"
  }
 },
 "nbformat": 4,
 "nbformat_minor": 5
}
