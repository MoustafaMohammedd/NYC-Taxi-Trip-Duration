{
  "cells": [
    {
      "cell_type": "code",
      "execution_count": 1,
      "id": "a6c0468b",
      "metadata": {
        "id": "a6c0468b"
      },
      "outputs": [],
      "source": [
        "import numpy as np\n",
        "import pandas as pd\n",
        "import matplotlib.pyplot as plt\n",
        "import seaborn as sns\n",
        "from geopy import distance\n",
        "from geopy.point import Point\n",
        "import math"
      ]
    },
    {
      "cell_type": "code",
      "source": [
        "from google.colab import drive\n",
        "drive.mount('/content/drive')"
      ],
      "metadata": {
        "colab": {
          "base_uri": "https://localhost:8080/"
        },
        "id": "j_MOp6MmKhSz",
        "outputId": "c1288bdc-968a-494c-bab3-c0dfaaf31518"
      },
      "id": "j_MOp6MmKhSz",
      "execution_count": 2,
      "outputs": [
        {
          "output_type": "stream",
          "name": "stdout",
          "text": [
            "Mounted at /content/drive\n"
          ]
        }
      ]
    },
    {
      "cell_type": "code",
      "execution_count": 3,
      "id": "d2673855",
      "metadata": {
        "id": "d2673855"
      },
      "outputs": [],
      "source": [
        "df_train =pd.read_csv(r\"/content/drive/MyDrive/NYK/train.csv\")\n",
        "df_val =pd.read_csv(r\"/content/drive/MyDrive/NYK/val.csv\")\n",
        "df_test=pd.read_csv(r\"/content/drive/MyDrive/NYK/test.csv\")\n",
        "pd.set_option(\"display.max_columns\",50)\n"
      ]
    },
    {
      "cell_type": "code",
      "execution_count": 4,
      "id": "596c5699-07be-4d7a-a304-3fdbac2271c1",
      "metadata": {
        "colab": {
          "base_uri": "https://localhost:8080/",
          "height": 143
        },
        "id": "596c5699-07be-4d7a-a304-3fdbac2271c1",
        "outputId": "b18271b2-0ee8-446c-8f1d-7efd53c1a143"
      },
      "outputs": [
        {
          "output_type": "execute_result",
          "data": {
            "text/plain": [
              "          id  vendor_id      pickup_datetime  passenger_count  \\\n",
              "0  id2793718          2  2016-06-08 07:36:19                1   \n",
              "1  id3485529          2  2016-04-03 12:58:11                1   \n",
              "2  id1816614          2  2016-06-05 02:49:13                5   \n",
              "\n",
              "   pickup_longitude  pickup_latitude  dropoff_longitude  dropoff_latitude  \\\n",
              "0        -73.985611        40.735943         -73.980331         40.760468   \n",
              "1        -73.978394        40.764351         -73.991623         40.749859   \n",
              "2        -73.989059        40.744389         -73.973381         40.748692   \n",
              "\n",
              "  store_and_fwd_flag  trip_duration  \n",
              "0                  N           1040  \n",
              "1                  N            827  \n",
              "2                  N            614  "
            ],
            "text/html": [
              "\n",
              "  <div id=\"df-080d8600-cc5c-4078-a134-db6dec38eeef\" class=\"colab-df-container\">\n",
              "    <div>\n",
              "<style scoped>\n",
              "    .dataframe tbody tr th:only-of-type {\n",
              "        vertical-align: middle;\n",
              "    }\n",
              "\n",
              "    .dataframe tbody tr th {\n",
              "        vertical-align: top;\n",
              "    }\n",
              "\n",
              "    .dataframe thead th {\n",
              "        text-align: right;\n",
              "    }\n",
              "</style>\n",
              "<table border=\"1\" class=\"dataframe\">\n",
              "  <thead>\n",
              "    <tr style=\"text-align: right;\">\n",
              "      <th></th>\n",
              "      <th>id</th>\n",
              "      <th>vendor_id</th>\n",
              "      <th>pickup_datetime</th>\n",
              "      <th>passenger_count</th>\n",
              "      <th>pickup_longitude</th>\n",
              "      <th>pickup_latitude</th>\n",
              "      <th>dropoff_longitude</th>\n",
              "      <th>dropoff_latitude</th>\n",
              "      <th>store_and_fwd_flag</th>\n",
              "      <th>trip_duration</th>\n",
              "    </tr>\n",
              "  </thead>\n",
              "  <tbody>\n",
              "    <tr>\n",
              "      <th>0</th>\n",
              "      <td>id2793718</td>\n",
              "      <td>2</td>\n",
              "      <td>2016-06-08 07:36:19</td>\n",
              "      <td>1</td>\n",
              "      <td>-73.985611</td>\n",
              "      <td>40.735943</td>\n",
              "      <td>-73.980331</td>\n",
              "      <td>40.760468</td>\n",
              "      <td>N</td>\n",
              "      <td>1040</td>\n",
              "    </tr>\n",
              "    <tr>\n",
              "      <th>1</th>\n",
              "      <td>id3485529</td>\n",
              "      <td>2</td>\n",
              "      <td>2016-04-03 12:58:11</td>\n",
              "      <td>1</td>\n",
              "      <td>-73.978394</td>\n",
              "      <td>40.764351</td>\n",
              "      <td>-73.991623</td>\n",
              "      <td>40.749859</td>\n",
              "      <td>N</td>\n",
              "      <td>827</td>\n",
              "    </tr>\n",
              "    <tr>\n",
              "      <th>2</th>\n",
              "      <td>id1816614</td>\n",
              "      <td>2</td>\n",
              "      <td>2016-06-05 02:49:13</td>\n",
              "      <td>5</td>\n",
              "      <td>-73.989059</td>\n",
              "      <td>40.744389</td>\n",
              "      <td>-73.973381</td>\n",
              "      <td>40.748692</td>\n",
              "      <td>N</td>\n",
              "      <td>614</td>\n",
              "    </tr>\n",
              "  </tbody>\n",
              "</table>\n",
              "</div>\n",
              "    <div class=\"colab-df-buttons\">\n",
              "\n",
              "  <div class=\"colab-df-container\">\n",
              "    <button class=\"colab-df-convert\" onclick=\"convertToInteractive('df-080d8600-cc5c-4078-a134-db6dec38eeef')\"\n",
              "            title=\"Convert this dataframe to an interactive table.\"\n",
              "            style=\"display:none;\">\n",
              "\n",
              "  <svg xmlns=\"http://www.w3.org/2000/svg\" height=\"24px\" viewBox=\"0 -960 960 960\">\n",
              "    <path d=\"M120-120v-720h720v720H120Zm60-500h600v-160H180v160Zm220 220h160v-160H400v160Zm0 220h160v-160H400v160ZM180-400h160v-160H180v160Zm440 0h160v-160H620v160ZM180-180h160v-160H180v160Zm440 0h160v-160H620v160Z\"/>\n",
              "  </svg>\n",
              "    </button>\n",
              "\n",
              "  <style>\n",
              "    .colab-df-container {\n",
              "      display:flex;\n",
              "      gap: 12px;\n",
              "    }\n",
              "\n",
              "    .colab-df-convert {\n",
              "      background-color: #E8F0FE;\n",
              "      border: none;\n",
              "      border-radius: 50%;\n",
              "      cursor: pointer;\n",
              "      display: none;\n",
              "      fill: #1967D2;\n",
              "      height: 32px;\n",
              "      padding: 0 0 0 0;\n",
              "      width: 32px;\n",
              "    }\n",
              "\n",
              "    .colab-df-convert:hover {\n",
              "      background-color: #E2EBFA;\n",
              "      box-shadow: 0px 1px 2px rgba(60, 64, 67, 0.3), 0px 1px 3px 1px rgba(60, 64, 67, 0.15);\n",
              "      fill: #174EA6;\n",
              "    }\n",
              "\n",
              "    .colab-df-buttons div {\n",
              "      margin-bottom: 4px;\n",
              "    }\n",
              "\n",
              "    [theme=dark] .colab-df-convert {\n",
              "      background-color: #3B4455;\n",
              "      fill: #D2E3FC;\n",
              "    }\n",
              "\n",
              "    [theme=dark] .colab-df-convert:hover {\n",
              "      background-color: #434B5C;\n",
              "      box-shadow: 0px 1px 3px 1px rgba(0, 0, 0, 0.15);\n",
              "      filter: drop-shadow(0px 1px 2px rgba(0, 0, 0, 0.3));\n",
              "      fill: #FFFFFF;\n",
              "    }\n",
              "  </style>\n",
              "\n",
              "    <script>\n",
              "      const buttonEl =\n",
              "        document.querySelector('#df-080d8600-cc5c-4078-a134-db6dec38eeef button.colab-df-convert');\n",
              "      buttonEl.style.display =\n",
              "        google.colab.kernel.accessAllowed ? 'block' : 'none';\n",
              "\n",
              "      async function convertToInteractive(key) {\n",
              "        const element = document.querySelector('#df-080d8600-cc5c-4078-a134-db6dec38eeef');\n",
              "        const dataTable =\n",
              "          await google.colab.kernel.invokeFunction('convertToInteractive',\n",
              "                                                    [key], {});\n",
              "        if (!dataTable) return;\n",
              "\n",
              "        const docLinkHtml = 'Like what you see? Visit the ' +\n",
              "          '<a target=\"_blank\" href=https://colab.research.google.com/notebooks/data_table.ipynb>data table notebook</a>'\n",
              "          + ' to learn more about interactive tables.';\n",
              "        element.innerHTML = '';\n",
              "        dataTable['output_type'] = 'display_data';\n",
              "        await google.colab.output.renderOutput(dataTable, element);\n",
              "        const docLink = document.createElement('div');\n",
              "        docLink.innerHTML = docLinkHtml;\n",
              "        element.appendChild(docLink);\n",
              "      }\n",
              "    </script>\n",
              "  </div>\n",
              "\n",
              "\n",
              "<div id=\"df-8ac76189-b6eb-4890-8d08-be70352aa766\">\n",
              "  <button class=\"colab-df-quickchart\" onclick=\"quickchart('df-8ac76189-b6eb-4890-8d08-be70352aa766')\"\n",
              "            title=\"Suggest charts\"\n",
              "            style=\"display:none;\">\n",
              "\n",
              "<svg xmlns=\"http://www.w3.org/2000/svg\" height=\"24px\"viewBox=\"0 0 24 24\"\n",
              "     width=\"24px\">\n",
              "    <g>\n",
              "        <path d=\"M19 3H5c-1.1 0-2 .9-2 2v14c0 1.1.9 2 2 2h14c1.1 0 2-.9 2-2V5c0-1.1-.9-2-2-2zM9 17H7v-7h2v7zm4 0h-2V7h2v10zm4 0h-2v-4h2v4z\"/>\n",
              "    </g>\n",
              "</svg>\n",
              "  </button>\n",
              "\n",
              "<style>\n",
              "  .colab-df-quickchart {\n",
              "      --bg-color: #E8F0FE;\n",
              "      --fill-color: #1967D2;\n",
              "      --hover-bg-color: #E2EBFA;\n",
              "      --hover-fill-color: #174EA6;\n",
              "      --disabled-fill-color: #AAA;\n",
              "      --disabled-bg-color: #DDD;\n",
              "  }\n",
              "\n",
              "  [theme=dark] .colab-df-quickchart {\n",
              "      --bg-color: #3B4455;\n",
              "      --fill-color: #D2E3FC;\n",
              "      --hover-bg-color: #434B5C;\n",
              "      --hover-fill-color: #FFFFFF;\n",
              "      --disabled-bg-color: #3B4455;\n",
              "      --disabled-fill-color: #666;\n",
              "  }\n",
              "\n",
              "  .colab-df-quickchart {\n",
              "    background-color: var(--bg-color);\n",
              "    border: none;\n",
              "    border-radius: 50%;\n",
              "    cursor: pointer;\n",
              "    display: none;\n",
              "    fill: var(--fill-color);\n",
              "    height: 32px;\n",
              "    padding: 0;\n",
              "    width: 32px;\n",
              "  }\n",
              "\n",
              "  .colab-df-quickchart:hover {\n",
              "    background-color: var(--hover-bg-color);\n",
              "    box-shadow: 0 1px 2px rgba(60, 64, 67, 0.3), 0 1px 3px 1px rgba(60, 64, 67, 0.15);\n",
              "    fill: var(--button-hover-fill-color);\n",
              "  }\n",
              "\n",
              "  .colab-df-quickchart-complete:disabled,\n",
              "  .colab-df-quickchart-complete:disabled:hover {\n",
              "    background-color: var(--disabled-bg-color);\n",
              "    fill: var(--disabled-fill-color);\n",
              "    box-shadow: none;\n",
              "  }\n",
              "\n",
              "  .colab-df-spinner {\n",
              "    border: 2px solid var(--fill-color);\n",
              "    border-color: transparent;\n",
              "    border-bottom-color: var(--fill-color);\n",
              "    animation:\n",
              "      spin 1s steps(1) infinite;\n",
              "  }\n",
              "\n",
              "  @keyframes spin {\n",
              "    0% {\n",
              "      border-color: transparent;\n",
              "      border-bottom-color: var(--fill-color);\n",
              "      border-left-color: var(--fill-color);\n",
              "    }\n",
              "    20% {\n",
              "      border-color: transparent;\n",
              "      border-left-color: var(--fill-color);\n",
              "      border-top-color: var(--fill-color);\n",
              "    }\n",
              "    30% {\n",
              "      border-color: transparent;\n",
              "      border-left-color: var(--fill-color);\n",
              "      border-top-color: var(--fill-color);\n",
              "      border-right-color: var(--fill-color);\n",
              "    }\n",
              "    40% {\n",
              "      border-color: transparent;\n",
              "      border-right-color: var(--fill-color);\n",
              "      border-top-color: var(--fill-color);\n",
              "    }\n",
              "    60% {\n",
              "      border-color: transparent;\n",
              "      border-right-color: var(--fill-color);\n",
              "    }\n",
              "    80% {\n",
              "      border-color: transparent;\n",
              "      border-right-color: var(--fill-color);\n",
              "      border-bottom-color: var(--fill-color);\n",
              "    }\n",
              "    90% {\n",
              "      border-color: transparent;\n",
              "      border-bottom-color: var(--fill-color);\n",
              "    }\n",
              "  }\n",
              "</style>\n",
              "\n",
              "  <script>\n",
              "    async function quickchart(key) {\n",
              "      const quickchartButtonEl =\n",
              "        document.querySelector('#' + key + ' button');\n",
              "      quickchartButtonEl.disabled = true;  // To prevent multiple clicks.\n",
              "      quickchartButtonEl.classList.add('colab-df-spinner');\n",
              "      try {\n",
              "        const charts = await google.colab.kernel.invokeFunction(\n",
              "            'suggestCharts', [key], {});\n",
              "      } catch (error) {\n",
              "        console.error('Error during call to suggestCharts:', error);\n",
              "      }\n",
              "      quickchartButtonEl.classList.remove('colab-df-spinner');\n",
              "      quickchartButtonEl.classList.add('colab-df-quickchart-complete');\n",
              "    }\n",
              "    (() => {\n",
              "      let quickchartButtonEl =\n",
              "        document.querySelector('#df-8ac76189-b6eb-4890-8d08-be70352aa766 button');\n",
              "      quickchartButtonEl.style.display =\n",
              "        google.colab.kernel.accessAllowed ? 'block' : 'none';\n",
              "    })();\n",
              "  </script>\n",
              "</div>\n",
              "\n",
              "    </div>\n",
              "  </div>\n"
            ],
            "application/vnd.google.colaboratory.intrinsic+json": {
              "type": "dataframe",
              "variable_name": "df_train"
            }
          },
          "metadata": {},
          "execution_count": 4
        }
      ],
      "source": [
        "df_train.head(3)"
      ]
    },
    {
      "cell_type": "code",
      "execution_count": 5,
      "id": "134a95cb-8ebe-4763-b662-b22f36965449",
      "metadata": {
        "colab": {
          "base_uri": "https://localhost:8080/"
        },
        "id": "134a95cb-8ebe-4763-b662-b22f36965449",
        "outputId": "b17fec44-58c4-4b68-a2aa-07156debcde1"
      },
      "outputs": [
        {
          "output_type": "stream",
          "name": "stdout",
          "text": [
            "<class 'pandas.core.frame.DataFrame'>\n",
            "RangeIndex: 1000000 entries, 0 to 999999\n",
            "Data columns (total 10 columns):\n",
            " #   Column              Non-Null Count    Dtype  \n",
            "---  ------              --------------    -----  \n",
            " 0   id                  1000000 non-null  object \n",
            " 1   vendor_id           1000000 non-null  int64  \n",
            " 2   pickup_datetime     1000000 non-null  object \n",
            " 3   passenger_count     1000000 non-null  int64  \n",
            " 4   pickup_longitude    1000000 non-null  float64\n",
            " 5   pickup_latitude     1000000 non-null  float64\n",
            " 6   dropoff_longitude   1000000 non-null  float64\n",
            " 7   dropoff_latitude    1000000 non-null  float64\n",
            " 8   store_and_fwd_flag  1000000 non-null  object \n",
            " 9   trip_duration       1000000 non-null  int64  \n",
            "dtypes: float64(4), int64(3), object(3)\n",
            "memory usage: 76.3+ MB\n"
          ]
        }
      ],
      "source": [
        "df_train.info()"
      ]
    },
    {
      "cell_type": "markdown",
      "id": "ace43f1d-4169-48e9-8e3d-ed7f5e1982ed",
      "metadata": {
        "id": "ace43f1d-4169-48e9-8e3d-ed7f5e1982ed"
      },
      "source": [
        "# 1-so we want to convert pickup_datetime from object to datetime\n",
        "# 2-extract some features from time like hour ,month and so on"
      ]
    },
    {
      "cell_type": "code",
      "execution_count": 6,
      "id": "155b933c-eabe-4905-9ddf-394fef35e605",
      "metadata": {
        "id": "155b933c-eabe-4905-9ddf-394fef35e605"
      },
      "outputs": [],
      "source": [
        "df_train[\"pickup_datetime\"]=pd.to_datetime(df_train[\"pickup_datetime\"])"
      ]
    },
    {
      "cell_type": "code",
      "execution_count": 7,
      "id": "0feef1f3-ec3b-43e6-a527-0705e7c8cc60",
      "metadata": {
        "id": "0feef1f3-ec3b-43e6-a527-0705e7c8cc60"
      },
      "outputs": [],
      "source": [
        "df_train[\"pickup_hour\"]=df_train[\"pickup_datetime\"].dt.hour\n",
        "df_train[\"pickup_month\"]=df_train[\"pickup_datetime\"].dt.month\n",
        "df_train[\"pickup_day\"]=df_train[\"pickup_datetime\"].dt.day\n",
        "df_train[\"pickup_dayofweek\"]=df_train[\"pickup_datetime\"].dt.day_name()\n",
        "df_train[\"pickup_minute\"]=df_train[\"pickup_datetime\"].dt.minute"
      ]
    },
    {
      "cell_type": "code",
      "execution_count": 8,
      "id": "08f7533d-8d3c-4a6c-9b1a-daaba7ba1964",
      "metadata": {
        "colab": {
          "base_uri": "https://localhost:8080/"
        },
        "id": "08f7533d-8d3c-4a6c-9b1a-daaba7ba1964",
        "outputId": "1e2c2cb3-5ea8-4e54-a5c5-b18b41563e49"
      },
      "outputs": [
        {
          "output_type": "execute_result",
          "data": {
            "text/plain": [
              "Index(['id', 'vendor_id', 'pickup_datetime', 'passenger_count',\n",
              "       'pickup_longitude', 'pickup_latitude', 'dropoff_longitude',\n",
              "       'dropoff_latitude', 'store_and_fwd_flag', 'trip_duration',\n",
              "       'pickup_hour', 'pickup_month', 'pickup_day', 'pickup_dayofweek',\n",
              "       'pickup_minute'],\n",
              "      dtype='object')"
            ]
          },
          "metadata": {},
          "execution_count": 8
        }
      ],
      "source": [
        "df_train.columns"
      ]
    },
    {
      "cell_type": "code",
      "execution_count": 8,
      "id": "57de3c65-03e2-4d86-b4d8-a0fddf9c7d73",
      "metadata": {
        "id": "57de3c65-03e2-4d86-b4d8-a0fddf9c7d73"
      },
      "outputs": [],
      "source": []
    },
    {
      "cell_type": "code",
      "execution_count": 9,
      "id": "aa3769b0-4a55-47d8-a33e-43807b7e4036",
      "metadata": {
        "colab": {
          "base_uri": "https://localhost:8080/",
          "height": 443
        },
        "id": "aa3769b0-4a55-47d8-a33e-43807b7e4036",
        "outputId": "bd4451ae-ee02-4f22-896e-09ffea9f2735"
      },
      "outputs": [
        {
          "output_type": "execute_result",
          "data": {
            "text/plain": [
              "                       count                           mean  \\\n",
              "vendor_id          1000000.0                       1.534793   \n",
              "pickup_datetime      1000000  2016-04-01 08:53:15.180106752   \n",
              "passenger_count    1000000.0                       1.665353   \n",
              "pickup_longitude   1000000.0                     -73.973475   \n",
              "pickup_latitude    1000000.0                      40.750947   \n",
              "dropoff_longitude  1000000.0                     -73.973421   \n",
              "dropoff_latitude   1000000.0                      40.751829   \n",
              "trip_duration      1000000.0                     954.884971   \n",
              "pickup_hour        1000000.0                      13.604165   \n",
              "pickup_month       1000000.0                       3.515209   \n",
              "pickup_day         1000000.0                      15.499299   \n",
              "pickup_minute      1000000.0                      29.586571   \n",
              "\n",
              "                                   min                  25%  \\\n",
              "vendor_id                          1.0                  1.0   \n",
              "pickup_datetime    2016-01-01 00:00:53  2016-02-17 15:26:08   \n",
              "passenger_count                    0.0                  1.0   \n",
              "pickup_longitude           -121.933342           -73.991852   \n",
              "pickup_latitude              34.359695            40.737372   \n",
              "dropoff_longitude          -121.933304           -73.991341   \n",
              "dropoff_latitude             34.359695            40.735928   \n",
              "trip_duration                      1.0                397.0   \n",
              "pickup_hour                        0.0                  9.0   \n",
              "pickup_month                       1.0                  2.0   \n",
              "pickup_day                         1.0                  8.0   \n",
              "pickup_minute                      0.0                 15.0   \n",
              "\n",
              "                                          50%                            75%  \\\n",
              "vendor_id                                 2.0                            2.0   \n",
              "pickup_datetime    2016-04-01 15:01:29.500000  2016-05-15 02:35:38.750000128   \n",
              "passenger_count                           1.0                            2.0   \n",
              "pickup_longitude                   -73.981728                     -73.967346   \n",
              "pickup_latitude                     40.754131                      40.768379   \n",
              "dropoff_longitude                  -73.979767                     -73.963036   \n",
              "dropoff_latitude                    40.754551                      40.769833   \n",
              "trip_duration                           662.0                         1074.0   \n",
              "pickup_hour                              14.0                           19.0   \n",
              "pickup_month                              4.0                            5.0   \n",
              "pickup_day                               15.0                           23.0   \n",
              "pickup_minute                            30.0                           45.0   \n",
              "\n",
              "                                   max          std  \n",
              "vendor_id                          2.0     0.498788  \n",
              "pickup_datetime    2016-06-30 23:59:37          NaN  \n",
              "passenger_count                    7.0     1.315723  \n",
              "pickup_longitude            -61.335529     0.065404  \n",
              "pickup_latitude              51.881084     0.033745  \n",
              "dropoff_longitude           -61.335529     0.065432  \n",
              "dropoff_latitude             43.921028     0.035782  \n",
              "trip_duration                2227612.0  3882.070116  \n",
              "pickup_hour                       23.0     6.400685  \n",
              "pickup_month                       6.0     1.681171  \n",
              "pickup_day                        31.0     8.698902  \n",
              "pickup_minute                     59.0    17.322829  "
            ],
            "text/html": [
              "\n",
              "  <div id=\"df-cdaff13a-f6bd-4f54-a102-b306b27e22ba\" class=\"colab-df-container\">\n",
              "    <div>\n",
              "<style scoped>\n",
              "    .dataframe tbody tr th:only-of-type {\n",
              "        vertical-align: middle;\n",
              "    }\n",
              "\n",
              "    .dataframe tbody tr th {\n",
              "        vertical-align: top;\n",
              "    }\n",
              "\n",
              "    .dataframe thead th {\n",
              "        text-align: right;\n",
              "    }\n",
              "</style>\n",
              "<table border=\"1\" class=\"dataframe\">\n",
              "  <thead>\n",
              "    <tr style=\"text-align: right;\">\n",
              "      <th></th>\n",
              "      <th>count</th>\n",
              "      <th>mean</th>\n",
              "      <th>min</th>\n",
              "      <th>25%</th>\n",
              "      <th>50%</th>\n",
              "      <th>75%</th>\n",
              "      <th>max</th>\n",
              "      <th>std</th>\n",
              "    </tr>\n",
              "  </thead>\n",
              "  <tbody>\n",
              "    <tr>\n",
              "      <th>vendor_id</th>\n",
              "      <td>1000000.0</td>\n",
              "      <td>1.534793</td>\n",
              "      <td>1.0</td>\n",
              "      <td>1.0</td>\n",
              "      <td>2.0</td>\n",
              "      <td>2.0</td>\n",
              "      <td>2.0</td>\n",
              "      <td>0.498788</td>\n",
              "    </tr>\n",
              "    <tr>\n",
              "      <th>pickup_datetime</th>\n",
              "      <td>1000000</td>\n",
              "      <td>2016-04-01 08:53:15.180106752</td>\n",
              "      <td>2016-01-01 00:00:53</td>\n",
              "      <td>2016-02-17 15:26:08</td>\n",
              "      <td>2016-04-01 15:01:29.500000</td>\n",
              "      <td>2016-05-15 02:35:38.750000128</td>\n",
              "      <td>2016-06-30 23:59:37</td>\n",
              "      <td>NaN</td>\n",
              "    </tr>\n",
              "    <tr>\n",
              "      <th>passenger_count</th>\n",
              "      <td>1000000.0</td>\n",
              "      <td>1.665353</td>\n",
              "      <td>0.0</td>\n",
              "      <td>1.0</td>\n",
              "      <td>1.0</td>\n",
              "      <td>2.0</td>\n",
              "      <td>7.0</td>\n",
              "      <td>1.315723</td>\n",
              "    </tr>\n",
              "    <tr>\n",
              "      <th>pickup_longitude</th>\n",
              "      <td>1000000.0</td>\n",
              "      <td>-73.973475</td>\n",
              "      <td>-121.933342</td>\n",
              "      <td>-73.991852</td>\n",
              "      <td>-73.981728</td>\n",
              "      <td>-73.967346</td>\n",
              "      <td>-61.335529</td>\n",
              "      <td>0.065404</td>\n",
              "    </tr>\n",
              "    <tr>\n",
              "      <th>pickup_latitude</th>\n",
              "      <td>1000000.0</td>\n",
              "      <td>40.750947</td>\n",
              "      <td>34.359695</td>\n",
              "      <td>40.737372</td>\n",
              "      <td>40.754131</td>\n",
              "      <td>40.768379</td>\n",
              "      <td>51.881084</td>\n",
              "      <td>0.033745</td>\n",
              "    </tr>\n",
              "    <tr>\n",
              "      <th>dropoff_longitude</th>\n",
              "      <td>1000000.0</td>\n",
              "      <td>-73.973421</td>\n",
              "      <td>-121.933304</td>\n",
              "      <td>-73.991341</td>\n",
              "      <td>-73.979767</td>\n",
              "      <td>-73.963036</td>\n",
              "      <td>-61.335529</td>\n",
              "      <td>0.065432</td>\n",
              "    </tr>\n",
              "    <tr>\n",
              "      <th>dropoff_latitude</th>\n",
              "      <td>1000000.0</td>\n",
              "      <td>40.751829</td>\n",
              "      <td>34.359695</td>\n",
              "      <td>40.735928</td>\n",
              "      <td>40.754551</td>\n",
              "      <td>40.769833</td>\n",
              "      <td>43.921028</td>\n",
              "      <td>0.035782</td>\n",
              "    </tr>\n",
              "    <tr>\n",
              "      <th>trip_duration</th>\n",
              "      <td>1000000.0</td>\n",
              "      <td>954.884971</td>\n",
              "      <td>1.0</td>\n",
              "      <td>397.0</td>\n",
              "      <td>662.0</td>\n",
              "      <td>1074.0</td>\n",
              "      <td>2227612.0</td>\n",
              "      <td>3882.070116</td>\n",
              "    </tr>\n",
              "    <tr>\n",
              "      <th>pickup_hour</th>\n",
              "      <td>1000000.0</td>\n",
              "      <td>13.604165</td>\n",
              "      <td>0.0</td>\n",
              "      <td>9.0</td>\n",
              "      <td>14.0</td>\n",
              "      <td>19.0</td>\n",
              "      <td>23.0</td>\n",
              "      <td>6.400685</td>\n",
              "    </tr>\n",
              "    <tr>\n",
              "      <th>pickup_month</th>\n",
              "      <td>1000000.0</td>\n",
              "      <td>3.515209</td>\n",
              "      <td>1.0</td>\n",
              "      <td>2.0</td>\n",
              "      <td>4.0</td>\n",
              "      <td>5.0</td>\n",
              "      <td>6.0</td>\n",
              "      <td>1.681171</td>\n",
              "    </tr>\n",
              "    <tr>\n",
              "      <th>pickup_day</th>\n",
              "      <td>1000000.0</td>\n",
              "      <td>15.499299</td>\n",
              "      <td>1.0</td>\n",
              "      <td>8.0</td>\n",
              "      <td>15.0</td>\n",
              "      <td>23.0</td>\n",
              "      <td>31.0</td>\n",
              "      <td>8.698902</td>\n",
              "    </tr>\n",
              "    <tr>\n",
              "      <th>pickup_minute</th>\n",
              "      <td>1000000.0</td>\n",
              "      <td>29.586571</td>\n",
              "      <td>0.0</td>\n",
              "      <td>15.0</td>\n",
              "      <td>30.0</td>\n",
              "      <td>45.0</td>\n",
              "      <td>59.0</td>\n",
              "      <td>17.322829</td>\n",
              "    </tr>\n",
              "  </tbody>\n",
              "</table>\n",
              "</div>\n",
              "    <div class=\"colab-df-buttons\">\n",
              "\n",
              "  <div class=\"colab-df-container\">\n",
              "    <button class=\"colab-df-convert\" onclick=\"convertToInteractive('df-cdaff13a-f6bd-4f54-a102-b306b27e22ba')\"\n",
              "            title=\"Convert this dataframe to an interactive table.\"\n",
              "            style=\"display:none;\">\n",
              "\n",
              "  <svg xmlns=\"http://www.w3.org/2000/svg\" height=\"24px\" viewBox=\"0 -960 960 960\">\n",
              "    <path d=\"M120-120v-720h720v720H120Zm60-500h600v-160H180v160Zm220 220h160v-160H400v160Zm0 220h160v-160H400v160ZM180-400h160v-160H180v160Zm440 0h160v-160H620v160ZM180-180h160v-160H180v160Zm440 0h160v-160H620v160Z\"/>\n",
              "  </svg>\n",
              "    </button>\n",
              "\n",
              "  <style>\n",
              "    .colab-df-container {\n",
              "      display:flex;\n",
              "      gap: 12px;\n",
              "    }\n",
              "\n",
              "    .colab-df-convert {\n",
              "      background-color: #E8F0FE;\n",
              "      border: none;\n",
              "      border-radius: 50%;\n",
              "      cursor: pointer;\n",
              "      display: none;\n",
              "      fill: #1967D2;\n",
              "      height: 32px;\n",
              "      padding: 0 0 0 0;\n",
              "      width: 32px;\n",
              "    }\n",
              "\n",
              "    .colab-df-convert:hover {\n",
              "      background-color: #E2EBFA;\n",
              "      box-shadow: 0px 1px 2px rgba(60, 64, 67, 0.3), 0px 1px 3px 1px rgba(60, 64, 67, 0.15);\n",
              "      fill: #174EA6;\n",
              "    }\n",
              "\n",
              "    .colab-df-buttons div {\n",
              "      margin-bottom: 4px;\n",
              "    }\n",
              "\n",
              "    [theme=dark] .colab-df-convert {\n",
              "      background-color: #3B4455;\n",
              "      fill: #D2E3FC;\n",
              "    }\n",
              "\n",
              "    [theme=dark] .colab-df-convert:hover {\n",
              "      background-color: #434B5C;\n",
              "      box-shadow: 0px 1px 3px 1px rgba(0, 0, 0, 0.15);\n",
              "      filter: drop-shadow(0px 1px 2px rgba(0, 0, 0, 0.3));\n",
              "      fill: #FFFFFF;\n",
              "    }\n",
              "  </style>\n",
              "\n",
              "    <script>\n",
              "      const buttonEl =\n",
              "        document.querySelector('#df-cdaff13a-f6bd-4f54-a102-b306b27e22ba button.colab-df-convert');\n",
              "      buttonEl.style.display =\n",
              "        google.colab.kernel.accessAllowed ? 'block' : 'none';\n",
              "\n",
              "      async function convertToInteractive(key) {\n",
              "        const element = document.querySelector('#df-cdaff13a-f6bd-4f54-a102-b306b27e22ba');\n",
              "        const dataTable =\n",
              "          await google.colab.kernel.invokeFunction('convertToInteractive',\n",
              "                                                    [key], {});\n",
              "        if (!dataTable) return;\n",
              "\n",
              "        const docLinkHtml = 'Like what you see? Visit the ' +\n",
              "          '<a target=\"_blank\" href=https://colab.research.google.com/notebooks/data_table.ipynb>data table notebook</a>'\n",
              "          + ' to learn more about interactive tables.';\n",
              "        element.innerHTML = '';\n",
              "        dataTable['output_type'] = 'display_data';\n",
              "        await google.colab.output.renderOutput(dataTable, element);\n",
              "        const docLink = document.createElement('div');\n",
              "        docLink.innerHTML = docLinkHtml;\n",
              "        element.appendChild(docLink);\n",
              "      }\n",
              "    </script>\n",
              "  </div>\n",
              "\n",
              "\n",
              "<div id=\"df-5591dcf7-f406-4233-96cf-570b87e889bf\">\n",
              "  <button class=\"colab-df-quickchart\" onclick=\"quickchart('df-5591dcf7-f406-4233-96cf-570b87e889bf')\"\n",
              "            title=\"Suggest charts\"\n",
              "            style=\"display:none;\">\n",
              "\n",
              "<svg xmlns=\"http://www.w3.org/2000/svg\" height=\"24px\"viewBox=\"0 0 24 24\"\n",
              "     width=\"24px\">\n",
              "    <g>\n",
              "        <path d=\"M19 3H5c-1.1 0-2 .9-2 2v14c0 1.1.9 2 2 2h14c1.1 0 2-.9 2-2V5c0-1.1-.9-2-2-2zM9 17H7v-7h2v7zm4 0h-2V7h2v10zm4 0h-2v-4h2v4z\"/>\n",
              "    </g>\n",
              "</svg>\n",
              "  </button>\n",
              "\n",
              "<style>\n",
              "  .colab-df-quickchart {\n",
              "      --bg-color: #E8F0FE;\n",
              "      --fill-color: #1967D2;\n",
              "      --hover-bg-color: #E2EBFA;\n",
              "      --hover-fill-color: #174EA6;\n",
              "      --disabled-fill-color: #AAA;\n",
              "      --disabled-bg-color: #DDD;\n",
              "  }\n",
              "\n",
              "  [theme=dark] .colab-df-quickchart {\n",
              "      --bg-color: #3B4455;\n",
              "      --fill-color: #D2E3FC;\n",
              "      --hover-bg-color: #434B5C;\n",
              "      --hover-fill-color: #FFFFFF;\n",
              "      --disabled-bg-color: #3B4455;\n",
              "      --disabled-fill-color: #666;\n",
              "  }\n",
              "\n",
              "  .colab-df-quickchart {\n",
              "    background-color: var(--bg-color);\n",
              "    border: none;\n",
              "    border-radius: 50%;\n",
              "    cursor: pointer;\n",
              "    display: none;\n",
              "    fill: var(--fill-color);\n",
              "    height: 32px;\n",
              "    padding: 0;\n",
              "    width: 32px;\n",
              "  }\n",
              "\n",
              "  .colab-df-quickchart:hover {\n",
              "    background-color: var(--hover-bg-color);\n",
              "    box-shadow: 0 1px 2px rgba(60, 64, 67, 0.3), 0 1px 3px 1px rgba(60, 64, 67, 0.15);\n",
              "    fill: var(--button-hover-fill-color);\n",
              "  }\n",
              "\n",
              "  .colab-df-quickchart-complete:disabled,\n",
              "  .colab-df-quickchart-complete:disabled:hover {\n",
              "    background-color: var(--disabled-bg-color);\n",
              "    fill: var(--disabled-fill-color);\n",
              "    box-shadow: none;\n",
              "  }\n",
              "\n",
              "  .colab-df-spinner {\n",
              "    border: 2px solid var(--fill-color);\n",
              "    border-color: transparent;\n",
              "    border-bottom-color: var(--fill-color);\n",
              "    animation:\n",
              "      spin 1s steps(1) infinite;\n",
              "  }\n",
              "\n",
              "  @keyframes spin {\n",
              "    0% {\n",
              "      border-color: transparent;\n",
              "      border-bottom-color: var(--fill-color);\n",
              "      border-left-color: var(--fill-color);\n",
              "    }\n",
              "    20% {\n",
              "      border-color: transparent;\n",
              "      border-left-color: var(--fill-color);\n",
              "      border-top-color: var(--fill-color);\n",
              "    }\n",
              "    30% {\n",
              "      border-color: transparent;\n",
              "      border-left-color: var(--fill-color);\n",
              "      border-top-color: var(--fill-color);\n",
              "      border-right-color: var(--fill-color);\n",
              "    }\n",
              "    40% {\n",
              "      border-color: transparent;\n",
              "      border-right-color: var(--fill-color);\n",
              "      border-top-color: var(--fill-color);\n",
              "    }\n",
              "    60% {\n",
              "      border-color: transparent;\n",
              "      border-right-color: var(--fill-color);\n",
              "    }\n",
              "    80% {\n",
              "      border-color: transparent;\n",
              "      border-right-color: var(--fill-color);\n",
              "      border-bottom-color: var(--fill-color);\n",
              "    }\n",
              "    90% {\n",
              "      border-color: transparent;\n",
              "      border-bottom-color: var(--fill-color);\n",
              "    }\n",
              "  }\n",
              "</style>\n",
              "\n",
              "  <script>\n",
              "    async function quickchart(key) {\n",
              "      const quickchartButtonEl =\n",
              "        document.querySelector('#' + key + ' button');\n",
              "      quickchartButtonEl.disabled = true;  // To prevent multiple clicks.\n",
              "      quickchartButtonEl.classList.add('colab-df-spinner');\n",
              "      try {\n",
              "        const charts = await google.colab.kernel.invokeFunction(\n",
              "            'suggestCharts', [key], {});\n",
              "      } catch (error) {\n",
              "        console.error('Error during call to suggestCharts:', error);\n",
              "      }\n",
              "      quickchartButtonEl.classList.remove('colab-df-spinner');\n",
              "      quickchartButtonEl.classList.add('colab-df-quickchart-complete');\n",
              "    }\n",
              "    (() => {\n",
              "      let quickchartButtonEl =\n",
              "        document.querySelector('#df-5591dcf7-f406-4233-96cf-570b87e889bf button');\n",
              "      quickchartButtonEl.style.display =\n",
              "        google.colab.kernel.accessAllowed ? 'block' : 'none';\n",
              "    })();\n",
              "  </script>\n",
              "</div>\n",
              "\n",
              "    </div>\n",
              "  </div>\n"
            ],
            "application/vnd.google.colaboratory.intrinsic+json": {
              "type": "dataframe",
              "summary": "{\n  \"name\": \"df_train\",\n  \"rows\": 12,\n  \"fields\": [\n    {\n      \"column\": \"count\",\n      \"properties\": {\n        \"dtype\": \"date\",\n        \"min\": 1000000.0,\n        \"max\": 1000000.0,\n        \"num_unique_values\": 1,\n        \"samples\": [\n          1000000.0\n        ],\n        \"semantic_type\": \"\",\n        \"description\": \"\"\n      }\n    },\n    {\n      \"column\": \"mean\",\n      \"properties\": {\n        \"dtype\": \"date\",\n        \"min\": \"1969-12-31 23:59:59.999999927\",\n        \"max\": \"2016-04-01 08:53:15.180106752\",\n        \"num_unique_values\": 12,\n        \"samples\": [\n          15.499299\n        ],\n        \"semantic_type\": \"\",\n        \"description\": \"\"\n      }\n    },\n    {\n      \"column\": \"min\",\n      \"properties\": {\n        \"dtype\": \"date\",\n        \"min\": \"1969-12-31 23:59:59.999999879\",\n        \"max\": \"2016-01-01 00:00:53\",\n        \"num_unique_values\": 6,\n        \"samples\": [\n          1.0\n        ],\n        \"semantic_type\": \"\",\n        \"description\": \"\"\n      }\n    },\n    {\n      \"column\": \"25%\",\n      \"properties\": {\n        \"dtype\": \"date\",\n        \"min\": \"1969-12-31 23:59:59.999999927\",\n        \"max\": \"2016-02-17 15:26:08\",\n        \"num_unique_values\": 11,\n        \"samples\": [\n          40.73592758178711\n        ],\n        \"semantic_type\": \"\",\n        \"description\": \"\"\n      }\n    },\n    {\n      \"column\": \"50%\",\n      \"properties\": {\n        \"dtype\": \"date\",\n        \"min\": \"1969-12-31 23:59:59.999999927\",\n        \"max\": \"2016-04-01 15:01:29.500000\",\n        \"num_unique_values\": 12,\n        \"samples\": [\n          15.0\n        ],\n        \"semantic_type\": \"\",\n        \"description\": \"\"\n      }\n    },\n    {\n      \"column\": \"75%\",\n      \"properties\": {\n        \"dtype\": \"date\",\n        \"min\": \"1969-12-31 23:59:59.999999927\",\n        \"max\": \"2016-05-15 02:35:38.750000128\",\n        \"num_unique_values\": 11,\n        \"samples\": [\n          40.769832611083984\n        ],\n        \"semantic_type\": \"\",\n        \"description\": \"\"\n      }\n    },\n    {\n      \"column\": \"max\",\n      \"properties\": {\n        \"dtype\": \"date\",\n        \"min\": \"1969-12-31 23:59:59.999999939\",\n        \"max\": \"2016-06-30 23:59:37\",\n        \"num_unique_values\": 11,\n        \"samples\": [\n          43.92102813720703\n        ],\n        \"semantic_type\": \"\",\n        \"description\": \"\"\n      }\n    },\n    {\n      \"column\": \"std\",\n      \"properties\": {\n        \"dtype\": \"date\",\n        \"min\": 0.03374518229074431,\n        \"max\": 3882.0701161221227,\n        \"num_unique_values\": 11,\n        \"samples\": [\n          0.03578171761029237\n        ],\n        \"semantic_type\": \"\",\n        \"description\": \"\"\n      }\n    }\n  ]\n}"
            }
          },
          "metadata": {},
          "execution_count": 9
        }
      ],
      "source": [
        "df_train.describe().T"
      ]
    },
    {
      "cell_type": "markdown",
      "id": "60d00ddf-1119-4e72-a6e4-2814906d4118",
      "metadata": {
        "id": "60d00ddf-1119-4e72-a6e4-2814906d4118"
      },
      "source": [
        "# 1-the max of trip_duration is 2227612.0 ,how??\n",
        "# 2-the min and max for passenger_count are 0 and 7 , how?"
      ]
    },
    {
      "cell_type": "code",
      "execution_count": 10,
      "id": "3d7c0735-3a96-4c75-887c-6fd269e910dc",
      "metadata": {
        "id": "3d7c0735-3a96-4c75-887c-6fd269e910dc"
      },
      "outputs": [],
      "source": [
        "# i will use log for it\n",
        "df_train[\"log_trip_duration\"]=np.log1p(df_train[\"trip_duration\"])"
      ]
    },
    {
      "cell_type": "code",
      "execution_count": 11,
      "id": "df66b31b-d445-471f-be3a-8bbfaab251eb",
      "metadata": {
        "colab": {
          "base_uri": "https://localhost:8080/"
        },
        "id": "df66b31b-d445-471f-be3a-8bbfaab251eb",
        "outputId": "d4f35103-9c1b-4841-aece-ccec83091eff"
      },
      "outputs": [
        {
          "output_type": "stream",
          "name": "stdout",
          "text": [
            "id                    0\n",
            "vendor_id             0\n",
            "pickup_datetime       0\n",
            "passenger_count       0\n",
            "pickup_longitude      0\n",
            "pickup_latitude       0\n",
            "dropoff_longitude     0\n",
            "dropoff_latitude      0\n",
            "store_and_fwd_flag    0\n",
            "trip_duration         0\n",
            "pickup_hour           0\n",
            "pickup_month          0\n",
            "pickup_day            0\n",
            "pickup_dayofweek      0\n",
            "pickup_minute         0\n",
            "log_trip_duration     0\n",
            "dtype: int64\n",
            "id                    0\n",
            "vendor_id             0\n",
            "pickup_datetime       0\n",
            "passenger_count       0\n",
            "pickup_longitude      0\n",
            "pickup_latitude       0\n",
            "dropoff_longitude     0\n",
            "dropoff_latitude      0\n",
            "store_and_fwd_flag    0\n",
            "trip_duration         0\n",
            "pickup_hour           0\n",
            "pickup_month          0\n",
            "pickup_day            0\n",
            "pickup_dayofweek      0\n",
            "pickup_minute         0\n",
            "log_trip_duration     0\n",
            "dtype: int64\n",
            "0\n"
          ]
        }
      ],
      "source": [
        "print(df_train.isna().sum())\n",
        "print(df_train.isnull().sum())\n",
        "print(df_train.duplicated().sum())"
      ]
    },
    {
      "cell_type": "markdown",
      "id": "b7eea7bc-029f-418c-a971-900a3c4187ef",
      "metadata": {
        "id": "b7eea7bc-029f-418c-a971-900a3c4187ef"
      },
      "source": [
        "# let's investigate pickup_datetime"
      ]
    },
    {
      "cell_type": "code",
      "execution_count": 12,
      "id": "ff0a1838-20ef-4e0b-89d5-87aa7aea09cf",
      "metadata": {
        "colab": {
          "base_uri": "https://localhost:8080/"
        },
        "id": "ff0a1838-20ef-4e0b-89d5-87aa7aea09cf",
        "outputId": "8f6fb7f1-c0d8-4ca4-91e4-3d3b4f934fd8"
      },
      "outputs": [
        {
          "output_type": "execute_result",
          "data": {
            "text/plain": [
              "Timestamp('2016-06-30 23:59:37')"
            ]
          },
          "metadata": {},
          "execution_count": 12
        }
      ],
      "source": [
        "df_train[\"pickup_datetime\"].max()"
      ]
    },
    {
      "cell_type": "code",
      "execution_count": 13,
      "id": "0a6653ed-cacb-4e63-af7a-b68a9e6e92f7",
      "metadata": {
        "colab": {
          "base_uri": "https://localhost:8080/"
        },
        "id": "0a6653ed-cacb-4e63-af7a-b68a9e6e92f7",
        "outputId": "a7aa229f-41ee-41e0-8a58-6c6ed18b5d6f"
      },
      "outputs": [
        {
          "output_type": "execute_result",
          "data": {
            "text/plain": [
              "Timestamp('2016-01-01 00:00:53')"
            ]
          },
          "metadata": {},
          "execution_count": 13
        }
      ],
      "source": [
        "df_train[\"pickup_datetime\"].min()"
      ]
    },
    {
      "cell_type": "code",
      "execution_count": 14,
      "id": "5f9a2670-90b2-43a7-833e-9497aaa5b0f7",
      "metadata": {
        "colab": {
          "base_uri": "https://localhost:8080/"
        },
        "id": "5f9a2670-90b2-43a7-833e-9497aaa5b0f7",
        "outputId": "74690202-92f2-4170-a11e-83125f738bd0"
      },
      "outputs": [
        {
          "output_type": "execute_result",
          "data": {
            "text/plain": [
              "Timedelta('181 days 23:58:44')"
            ]
          },
          "metadata": {},
          "execution_count": 14
        }
      ],
      "source": [
        "df_train[\"pickup_datetime\"].max()-df_train[\"pickup_datetime\"].min()"
      ]
    },
    {
      "cell_type": "code",
      "execution_count": 14,
      "id": "17ca0400-bc1d-4705-bb14-0b68688210fe",
      "metadata": {
        "id": "17ca0400-bc1d-4705-bb14-0b68688210fe"
      },
      "outputs": [],
      "source": []
    },
    {
      "cell_type": "markdown",
      "id": "546e4384-900b-4c3e-a75f-9d11114b595d",
      "metadata": {
        "id": "546e4384-900b-4c3e-a75f-9d11114b595d"
      },
      "source": [
        "# let's investigate passenger_count"
      ]
    },
    {
      "cell_type": "code",
      "execution_count": 15,
      "id": "24a9ee21-f92e-43de-b102-985e3da10fa6",
      "metadata": {
        "colab": {
          "base_uri": "https://localhost:8080/",
          "height": 366
        },
        "id": "24a9ee21-f92e-43de-b102-985e3da10fa6",
        "outputId": "6ad055dd-b3ea-41c7-cb3d-3f82063d6c20"
      },
      "outputs": [
        {
          "output_type": "execute_result",
          "data": {
            "text/plain": [
              "passenger_count\n",
              "1    708628\n",
              "2    143907\n",
              "5     53635\n",
              "3     41012\n",
              "6     33287\n",
              "4     19491\n",
              "0        38\n",
              "7         2\n",
              "Name: count, dtype: int64"
            ],
            "text/html": [
              "<div>\n",
              "<style scoped>\n",
              "    .dataframe tbody tr th:only-of-type {\n",
              "        vertical-align: middle;\n",
              "    }\n",
              "\n",
              "    .dataframe tbody tr th {\n",
              "        vertical-align: top;\n",
              "    }\n",
              "\n",
              "    .dataframe thead th {\n",
              "        text-align: right;\n",
              "    }\n",
              "</style>\n",
              "<table border=\"1\" class=\"dataframe\">\n",
              "  <thead>\n",
              "    <tr style=\"text-align: right;\">\n",
              "      <th></th>\n",
              "      <th>count</th>\n",
              "    </tr>\n",
              "    <tr>\n",
              "      <th>passenger_count</th>\n",
              "      <th></th>\n",
              "    </tr>\n",
              "  </thead>\n",
              "  <tbody>\n",
              "    <tr>\n",
              "      <th>1</th>\n",
              "      <td>708628</td>\n",
              "    </tr>\n",
              "    <tr>\n",
              "      <th>2</th>\n",
              "      <td>143907</td>\n",
              "    </tr>\n",
              "    <tr>\n",
              "      <th>5</th>\n",
              "      <td>53635</td>\n",
              "    </tr>\n",
              "    <tr>\n",
              "      <th>3</th>\n",
              "      <td>41012</td>\n",
              "    </tr>\n",
              "    <tr>\n",
              "      <th>6</th>\n",
              "      <td>33287</td>\n",
              "    </tr>\n",
              "    <tr>\n",
              "      <th>4</th>\n",
              "      <td>19491</td>\n",
              "    </tr>\n",
              "    <tr>\n",
              "      <th>0</th>\n",
              "      <td>38</td>\n",
              "    </tr>\n",
              "    <tr>\n",
              "      <th>7</th>\n",
              "      <td>2</td>\n",
              "    </tr>\n",
              "  </tbody>\n",
              "</table>\n",
              "</div><br><label><b>dtype:</b> int64</label>"
            ]
          },
          "metadata": {},
          "execution_count": 15
        }
      ],
      "source": [
        "df_train[\"passenger_count\"].value_counts()"
      ]
    },
    {
      "cell_type": "code",
      "execution_count": 16,
      "id": "3f5e2d84-e839-4570-8be1-a3cec5b14d91",
      "metadata": {
        "colab": {
          "base_uri": "https://localhost:8080/",
          "height": 462
        },
        "id": "3f5e2d84-e839-4570-8be1-a3cec5b14d91",
        "outputId": "efa211e0-aa9f-4722-ea6a-88d41002241a"
      },
      "outputs": [
        {
          "output_type": "execute_result",
          "data": {
            "text/plain": [
              "<Axes: xlabel='passenger_count'>"
            ]
          },
          "metadata": {},
          "execution_count": 16
        },
        {
          "output_type": "display_data",
          "data": {
            "text/plain": [
              "<Figure size 640x480 with 1 Axes>"
            ],
            "image/png": "[encoded data removed]"
          },
          "metadata": {}
        }
      ],
      "source": [
        "df_train[\"passenger_count\"].value_counts().plot(kind=\"bar\")"
      ]
    },
    {
      "cell_type": "code",
      "execution_count": 17,
      "id": "8ff9275a-e2fc-41e0-a7b6-37edbe90aad3",
      "metadata": {
        "colab": {
          "base_uri": "https://localhost:8080/",
          "height": 366
        },
        "id": "8ff9275a-e2fc-41e0-a7b6-37edbe90aad3",
        "outputId": "c2921267-9adb-4683-cdee-57aa7391aaf7"
      },
      "outputs": [
        {
          "output_type": "execute_result",
          "data": {
            "text/plain": [
              "passenger_count\n",
              "0         7022\n",
              "1    655497674\n",
              "2    143410183\n",
              "3     42253624\n",
              "4     20539344\n",
              "5     57516325\n",
              "6     35660759\n",
              "7           40\n",
              "Name: trip_duration, dtype: int64"
            ],
            "text/html": [
              "<div>\n",
              "<style scoped>\n",
              "    .dataframe tbody tr th:only-of-type {\n",
              "        vertical-align: middle;\n",
              "    }\n",
              "\n",
              "    .dataframe tbody tr th {\n",
              "        vertical-align: top;\n",
              "    }\n",
              "\n",
              "    .dataframe thead th {\n",
              "        text-align: right;\n",
              "    }\n",
              "</style>\n",
              "<table border=\"1\" class=\"dataframe\">\n",
              "  <thead>\n",
              "    <tr style=\"text-align: right;\">\n",
              "      <th></th>\n",
              "      <th>trip_duration</th>\n",
              "    </tr>\n",
              "    <tr>\n",
              "      <th>passenger_count</th>\n",
              "      <th></th>\n",
              "    </tr>\n",
              "  </thead>\n",
              "  <tbody>\n",
              "    <tr>\n",
              "      <th>0</th>\n",
              "      <td>7022</td>\n",
              "    </tr>\n",
              "    <tr>\n",
              "      <th>1</th>\n",
              "      <td>655497674</td>\n",
              "    </tr>\n",
              "    <tr>\n",
              "      <th>2</th>\n",
              "      <td>143410183</td>\n",
              "    </tr>\n",
              "    <tr>\n",
              "      <th>3</th>\n",
              "      <td>42253624</td>\n",
              "    </tr>\n",
              "    <tr>\n",
              "      <th>4</th>\n",
              "      <td>20539344</td>\n",
              "    </tr>\n",
              "    <tr>\n",
              "      <th>5</th>\n",
              "      <td>57516325</td>\n",
              "    </tr>\n",
              "    <tr>\n",
              "      <th>6</th>\n",
              "      <td>35660759</td>\n",
              "    </tr>\n",
              "    <tr>\n",
              "      <th>7</th>\n",
              "      <td>40</td>\n",
              "    </tr>\n",
              "  </tbody>\n",
              "</table>\n",
              "</div><br><label><b>dtype:</b> int64</label>"
            ]
          },
          "metadata": {},
          "execution_count": 17
        }
      ],
      "source": [
        "gp=df_train.groupby([\"passenger_count\"])[\"trip_duration\"].sum()\n",
        "gp"
      ]
    },
    {
      "cell_type": "code",
      "execution_count": 18,
      "id": "dfe2b444-563f-4b9d-85b1-56c04efbad9c",
      "metadata": {
        "colab": {
          "base_uri": "https://localhost:8080/",
          "height": 366
        },
        "id": "dfe2b444-563f-4b9d-85b1-56c04efbad9c",
        "outputId": "c7e528b7-971a-4e37-84f8-1a26ec0b4f84"
      },
      "outputs": [
        {
          "output_type": "execute_result",
          "data": {
            "text/plain": [
              "passenger_count\n",
              "0     184.789474\n",
              "1     925.023671\n",
              "2     996.547652\n",
              "3    1030.274651\n",
              "4    1053.786055\n",
              "5    1072.365526\n",
              "6    1071.311894\n",
              "7      20.000000\n",
              "Name: trip_duration, dtype: float64"
            ],
            "text/html": [
              "<div>\n",
              "<style scoped>\n",
              "    .dataframe tbody tr th:only-of-type {\n",
              "        vertical-align: middle;\n",
              "    }\n",
              "\n",
              "    .dataframe tbody tr th {\n",
              "        vertical-align: top;\n",
              "    }\n",
              "\n",
              "    .dataframe thead th {\n",
              "        text-align: right;\n",
              "    }\n",
              "</style>\n",
              "<table border=\"1\" class=\"dataframe\">\n",
              "  <thead>\n",
              "    <tr style=\"text-align: right;\">\n",
              "      <th></th>\n",
              "      <th>trip_duration</th>\n",
              "    </tr>\n",
              "    <tr>\n",
              "      <th>passenger_count</th>\n",
              "      <th></th>\n",
              "    </tr>\n",
              "  </thead>\n",
              "  <tbody>\n",
              "    <tr>\n",
              "      <th>0</th>\n",
              "      <td>184.789474</td>\n",
              "    </tr>\n",
              "    <tr>\n",
              "      <th>1</th>\n",
              "      <td>925.023671</td>\n",
              "    </tr>\n",
              "    <tr>\n",
              "      <th>2</th>\n",
              "      <td>996.547652</td>\n",
              "    </tr>\n",
              "    <tr>\n",
              "      <th>3</th>\n",
              "      <td>1030.274651</td>\n",
              "    </tr>\n",
              "    <tr>\n",
              "      <th>4</th>\n",
              "      <td>1053.786055</td>\n",
              "    </tr>\n",
              "    <tr>\n",
              "      <th>5</th>\n",
              "      <td>1072.365526</td>\n",
              "    </tr>\n",
              "    <tr>\n",
              "      <th>6</th>\n",
              "      <td>1071.311894</td>\n",
              "    </tr>\n",
              "    <tr>\n",
              "      <th>7</th>\n",
              "      <td>20.000000</td>\n",
              "    </tr>\n",
              "  </tbody>\n",
              "</table>\n",
              "</div><br><label><b>dtype:</b> float64</label>"
            ]
          },
          "metadata": {},
          "execution_count": 18
        }
      ],
      "source": [
        "gp=df_train.groupby([\"passenger_count\"])[\"trip_duration\"].mean()\n",
        "gp      # pov : i think taht 7 is outlier but 0 for delivery trips IDK"
      ]
    },
    {
      "cell_type": "code",
      "execution_count": 19,
      "id": "1ab7614c-2013-41aa-8169-23946ec82ce6",
      "metadata": {
        "colab": {
          "base_uri": "https://localhost:8080/",
          "height": 449
        },
        "id": "1ab7614c-2013-41aa-8169-23946ec82ce6",
        "outputId": "e275da03-38e5-4b7e-85da-1f27eba12776"
      },
      "outputs": [
        {
          "output_type": "display_data",
          "data": {
            "text/plain": [
              "<Figure size 640x480 with 1 Axes>"
            ],
            "image/png": "[encoded data removed]"
          },
          "metadata": {}
        }
      ],
      "source": [
        "sns.boxplot(data=df_train,x=df_train[\"passenger_count\"],y=df_train[\"log_trip_duration\"])\n",
        "plt.show()"
      ]
    },
    {
      "cell_type": "markdown",
      "id": "b6d847ca-fb0a-43bb-bc9b-ca266406e4d5",
      "metadata": {
        "id": "b6d847ca-fb0a-43bb-bc9b-ca266406e4d5"
      },
      "source": [
        "# let's investigate vendor_id"
      ]
    },
    {
      "cell_type": "code",
      "execution_count": 20,
      "id": "31c56963-54a9-42c6-ba40-01994db12f05",
      "metadata": {
        "colab": {
          "base_uri": "https://localhost:8080/",
          "height": 178
        },
        "id": "31c56963-54a9-42c6-ba40-01994db12f05",
        "outputId": "ed739580-9e3e-4bcb-8448-0073a9004e36"
      },
      "outputs": [
        {
          "output_type": "execute_result",
          "data": {
            "text/plain": [
              "vendor_id\n",
              "2    534793\n",
              "1    465207\n",
              "Name: count, dtype: int64"
            ],
            "text/html": [
              "<div>\n",
              "<style scoped>\n",
              "    .dataframe tbody tr th:only-of-type {\n",
              "        vertical-align: middle;\n",
              "    }\n",
              "\n",
              "    .dataframe tbody tr th {\n",
              "        vertical-align: top;\n",
              "    }\n",
              "\n",
              "    .dataframe thead th {\n",
              "        text-align: right;\n",
              "    }\n",
              "</style>\n",
              "<table border=\"1\" class=\"dataframe\">\n",
              "  <thead>\n",
              "    <tr style=\"text-align: right;\">\n",
              "      <th></th>\n",
              "      <th>count</th>\n",
              "    </tr>\n",
              "    <tr>\n",
              "      <th>vendor_id</th>\n",
              "      <th></th>\n",
              "    </tr>\n",
              "  </thead>\n",
              "  <tbody>\n",
              "    <tr>\n",
              "      <th>2</th>\n",
              "      <td>534793</td>\n",
              "    </tr>\n",
              "    <tr>\n",
              "      <th>1</th>\n",
              "      <td>465207</td>\n",
              "    </tr>\n",
              "  </tbody>\n",
              "</table>\n",
              "</div><br><label><b>dtype:</b> int64</label>"
            ]
          },
          "metadata": {},
          "execution_count": 20
        }
      ],
      "source": [
        "df_train[\"vendor_id\"].value_counts()"
      ]
    },
    {
      "cell_type": "code",
      "execution_count": 21,
      "id": "bd84e24f-f6e6-4d4f-86e9-6def1c59edb0",
      "metadata": {
        "colab": {
          "base_uri": "https://localhost:8080/",
          "height": 462
        },
        "id": "bd84e24f-f6e6-4d4f-86e9-6def1c59edb0",
        "outputId": "20363fe2-e1ad-472e-c72e-6e8256c33abb"
      },
      "outputs": [
        {
          "output_type": "execute_result",
          "data": {
            "text/plain": [
              "<Axes: xlabel='vendor_id'>"
            ]
          },
          "metadata": {},
          "execution_count": 21
        },
        {
          "output_type": "display_data",
          "data": {
            "text/plain": [
              "<Figure size 640x480 with 1 Axes>"
            ],
            "image/png": "[encoded data removed]"
          },
          "metadata": {}
        }
      ],
      "source": [
        "df_train[\"vendor_id\"].value_counts().plot(kind=\"bar\")"
      ]
    },
    {
      "cell_type": "code",
      "execution_count": 22,
      "id": "7ee93ae9-3a07-41b5-9b0a-75685b4ef9d5",
      "metadata": {
        "colab": {
          "base_uri": "https://localhost:8080/",
          "height": 178
        },
        "id": "7ee93ae9-3a07-41b5-9b0a-75685b4ef9d5",
        "outputId": "e390e178-0f57-4452-fc58-acbbf30752fb"
      },
      "outputs": [
        {
          "output_type": "execute_result",
          "data": {
            "text/plain": [
              "vendor_id\n",
              "1    388526070\n",
              "2    566358901\n",
              "Name: trip_duration, dtype: int64"
            ],
            "text/html": [
              "<div>\n",
              "<style scoped>\n",
              "    .dataframe tbody tr th:only-of-type {\n",
              "        vertical-align: middle;\n",
              "    }\n",
              "\n",
              "    .dataframe tbody tr th {\n",
              "        vertical-align: top;\n",
              "    }\n",
              "\n",
              "    .dataframe thead th {\n",
              "        text-align: right;\n",
              "    }\n",
              "</style>\n",
              "<table border=\"1\" class=\"dataframe\">\n",
              "  <thead>\n",
              "    <tr style=\"text-align: right;\">\n",
              "      <th></th>\n",
              "      <th>trip_duration</th>\n",
              "    </tr>\n",
              "    <tr>\n",
              "      <th>vendor_id</th>\n",
              "      <th></th>\n",
              "    </tr>\n",
              "  </thead>\n",
              "  <tbody>\n",
              "    <tr>\n",
              "      <th>1</th>\n",
              "      <td>388526070</td>\n",
              "    </tr>\n",
              "    <tr>\n",
              "      <th>2</th>\n",
              "      <td>566358901</td>\n",
              "    </tr>\n",
              "  </tbody>\n",
              "</table>\n",
              "</div><br><label><b>dtype:</b> int64</label>"
            ]
          },
          "metadata": {},
          "execution_count": 22
        }
      ],
      "source": [
        "gp=df_train.groupby([\"vendor_id\"])[\"trip_duration\"].sum()\n",
        "gp"
      ]
    },
    {
      "cell_type": "code",
      "execution_count": 23,
      "id": "702a18ed-10ce-4e0e-956a-35bf46c9dde8",
      "metadata": {
        "colab": {
          "base_uri": "https://localhost:8080/",
          "height": 178
        },
        "id": "702a18ed-10ce-4e0e-956a-35bf46c9dde8",
        "outputId": "7b1f1360-b876-4cbf-bf8f-ebbc9501c0d8"
      },
      "outputs": [
        {
          "output_type": "execute_result",
          "data": {
            "text/plain": [
              "vendor_id\n",
              "1     835.168151\n",
              "2    1059.024522\n",
              "Name: trip_duration, dtype: float64"
            ],
            "text/html": [
              "<div>\n",
              "<style scoped>\n",
              "    .dataframe tbody tr th:only-of-type {\n",
              "        vertical-align: middle;\n",
              "    }\n",
              "\n",
              "    .dataframe tbody tr th {\n",
              "        vertical-align: top;\n",
              "    }\n",
              "\n",
              "    .dataframe thead th {\n",
              "        text-align: right;\n",
              "    }\n",
              "</style>\n",
              "<table border=\"1\" class=\"dataframe\">\n",
              "  <thead>\n",
              "    <tr style=\"text-align: right;\">\n",
              "      <th></th>\n",
              "      <th>trip_duration</th>\n",
              "    </tr>\n",
              "    <tr>\n",
              "      <th>vendor_id</th>\n",
              "      <th></th>\n",
              "    </tr>\n",
              "  </thead>\n",
              "  <tbody>\n",
              "    <tr>\n",
              "      <th>1</th>\n",
              "      <td>835.168151</td>\n",
              "    </tr>\n",
              "    <tr>\n",
              "      <th>2</th>\n",
              "      <td>1059.024522</td>\n",
              "    </tr>\n",
              "  </tbody>\n",
              "</table>\n",
              "</div><br><label><b>dtype:</b> float64</label>"
            ]
          },
          "metadata": {},
          "execution_count": 23
        }
      ],
      "source": [
        "gp=df_train.groupby([\"vendor_id\"])[\"trip_duration\"].mean()\n",
        "gp"
      ]
    },
    {
      "cell_type": "code",
      "execution_count": 24,
      "id": "80412378-40ce-4d50-951f-e739a0562471",
      "metadata": {
        "colab": {
          "base_uri": "https://localhost:8080/",
          "height": 450
        },
        "id": "80412378-40ce-4d50-951f-e739a0562471",
        "outputId": "4f9ea7b6-ee03-419a-fbd6-402286c3a161"
      },
      "outputs": [
        {
          "output_type": "display_data",
          "data": {
            "text/plain": [
              "<Figure size 640x480 with 1 Axes>"
            ],
            "image/png": "[encoded data removed]"
          },
          "metadata": {}
        }
      ],
      "source": [
        "sns.boxplot(data=df_train,x=df_train[\"vendor_id\"],y=df_train[\"log_trip_duration\"])\n",
        "plt.show()"
      ]
    },
    {
      "cell_type": "markdown",
      "id": "1f810a6d-2eb6-435e-8826-e1e8aaba15e1",
      "metadata": {
        "id": "1f810a6d-2eb6-435e-8826-e1e8aaba15e1"
      },
      "source": [
        "# let's investigate store_and_fwd_flag"
      ]
    },
    {
      "cell_type": "code",
      "execution_count": 25,
      "id": "2ff3699c-8e47-409b-adc3-a3138c012c2c",
      "metadata": {
        "colab": {
          "base_uri": "https://localhost:8080/",
          "height": 178
        },
        "id": "2ff3699c-8e47-409b-adc3-a3138c012c2c",
        "outputId": "9a0a4f5e-55bd-4461-c95c-3af733175752"
      },
      "outputs": [
        {
          "output_type": "execute_result",
          "data": {
            "text/plain": [
              "store_and_fwd_flag\n",
              "N    994443\n",
              "Y      5557\n",
              "Name: count, dtype: int64"
            ],
            "text/html": [
              "<div>\n",
              "<style scoped>\n",
              "    .dataframe tbody tr th:only-of-type {\n",
              "        vertical-align: middle;\n",
              "    }\n",
              "\n",
              "    .dataframe tbody tr th {\n",
              "        vertical-align: top;\n",
              "    }\n",
              "\n",
              "    .dataframe thead th {\n",
              "        text-align: right;\n",
              "    }\n",
              "</style>\n",
              "<table border=\"1\" class=\"dataframe\">\n",
              "  <thead>\n",
              "    <tr style=\"text-align: right;\">\n",
              "      <th></th>\n",
              "      <th>count</th>\n",
              "    </tr>\n",
              "    <tr>\n",
              "      <th>store_and_fwd_flag</th>\n",
              "      <th></th>\n",
              "    </tr>\n",
              "  </thead>\n",
              "  <tbody>\n",
              "    <tr>\n",
              "      <th>N</th>\n",
              "      <td>994443</td>\n",
              "    </tr>\n",
              "    <tr>\n",
              "      <th>Y</th>\n",
              "      <td>5557</td>\n",
              "    </tr>\n",
              "  </tbody>\n",
              "</table>\n",
              "</div><br><label><b>dtype:</b> int64</label>"
            ]
          },
          "metadata": {},
          "execution_count": 25
        }
      ],
      "source": [
        "df_train[\"store_and_fwd_flag\"].value_counts()"
      ]
    },
    {
      "cell_type": "code",
      "execution_count": 26,
      "id": "91860755-fa0c-413a-b5de-1436f48b455f",
      "metadata": {
        "colab": {
          "base_uri": "https://localhost:8080/",
          "height": 479
        },
        "id": "91860755-fa0c-413a-b5de-1436f48b455f",
        "outputId": "1e721180-a02f-4752-c28f-57b1bda49d0d"
      },
      "outputs": [
        {
          "output_type": "execute_result",
          "data": {
            "text/plain": [
              "<Axes: xlabel='store_and_fwd_flag'>"
            ]
          },
          "metadata": {},
          "execution_count": 26
        },
        {
          "output_type": "display_data",
          "data": {
            "text/plain": [
              "<Figure size 640x480 with 1 Axes>"
            ],
            "image/png": "[encoded data removed]"
          },
          "metadata": {}
        }
      ],
      "source": [
        "df_train[\"store_and_fwd_flag\"].value_counts().plot(kind=\"bar\")"
      ]
    },
    {
      "cell_type": "code",
      "execution_count": 27,
      "id": "3e917c07-1cfc-439e-ab94-eb40818b48de",
      "metadata": {
        "colab": {
          "base_uri": "https://localhost:8080/",
          "height": 178
        },
        "id": "3e917c07-1cfc-439e-ab94-eb40818b48de",
        "outputId": "00c2c2f8-b7bc-4162-bff9-4e40f333bf31"
      },
      "outputs": [
        {
          "output_type": "execute_result",
          "data": {
            "text/plain": [
              "store_and_fwd_flag\n",
              "N    948906877\n",
              "Y      5978094\n",
              "Name: trip_duration, dtype: int64"
            ],
            "text/html": [
              "<div>\n",
              "<style scoped>\n",
              "    .dataframe tbody tr th:only-of-type {\n",
              "        vertical-align: middle;\n",
              "    }\n",
              "\n",
              "    .dataframe tbody tr th {\n",
              "        vertical-align: top;\n",
              "    }\n",
              "\n",
              "    .dataframe thead th {\n",
              "        text-align: right;\n",
              "    }\n",
              "</style>\n",
              "<table border=\"1\" class=\"dataframe\">\n",
              "  <thead>\n",
              "    <tr style=\"text-align: right;\">\n",
              "      <th></th>\n",
              "      <th>trip_duration</th>\n",
              "    </tr>\n",
              "    <tr>\n",
              "      <th>store_and_fwd_flag</th>\n",
              "      <th></th>\n",
              "    </tr>\n",
              "  </thead>\n",
              "  <tbody>\n",
              "    <tr>\n",
              "      <th>N</th>\n",
              "      <td>948906877</td>\n",
              "    </tr>\n",
              "    <tr>\n",
              "      <th>Y</th>\n",
              "      <td>5978094</td>\n",
              "    </tr>\n",
              "  </tbody>\n",
              "</table>\n",
              "</div><br><label><b>dtype:</b> int64</label>"
            ]
          },
          "metadata": {},
          "execution_count": 27
        }
      ],
      "source": [
        "gp=df_train.groupby([\"store_and_fwd_flag\"])[\"trip_duration\"].sum()\n",
        "gp"
      ]
    },
    {
      "cell_type": "code",
      "execution_count": 28,
      "id": "08ebeec8-d7dc-47bb-912b-850e733d3a30",
      "metadata": {
        "colab": {
          "base_uri": "https://localhost:8080/",
          "height": 178
        },
        "id": "08ebeec8-d7dc-47bb-912b-850e733d3a30",
        "outputId": "aaff130c-4c25-4cb3-b4f1-86092c312889"
      },
      "outputs": [
        {
          "output_type": "execute_result",
          "data": {
            "text/plain": [
              "store_and_fwd_flag\n",
              "N     954.209419\n",
              "Y    1075.777218\n",
              "Name: trip_duration, dtype: float64"
            ],
            "text/html": [
              "<div>\n",
              "<style scoped>\n",
              "    .dataframe tbody tr th:only-of-type {\n",
              "        vertical-align: middle;\n",
              "    }\n",
              "\n",
              "    .dataframe tbody tr th {\n",
              "        vertical-align: top;\n",
              "    }\n",
              "\n",
              "    .dataframe thead th {\n",
              "        text-align: right;\n",
              "    }\n",
              "</style>\n",
              "<table border=\"1\" class=\"dataframe\">\n",
              "  <thead>\n",
              "    <tr style=\"text-align: right;\">\n",
              "      <th></th>\n",
              "      <th>trip_duration</th>\n",
              "    </tr>\n",
              "    <tr>\n",
              "      <th>store_and_fwd_flag</th>\n",
              "      <th></th>\n",
              "    </tr>\n",
              "  </thead>\n",
              "  <tbody>\n",
              "    <tr>\n",
              "      <th>N</th>\n",
              "      <td>954.209419</td>\n",
              "    </tr>\n",
              "    <tr>\n",
              "      <th>Y</th>\n",
              "      <td>1075.777218</td>\n",
              "    </tr>\n",
              "  </tbody>\n",
              "</table>\n",
              "</div><br><label><b>dtype:</b> float64</label>"
            ]
          },
          "metadata": {},
          "execution_count": 28
        }
      ],
      "source": [
        "gp=df_train.groupby([\"store_and_fwd_flag\"])[\"trip_duration\"].mean()\n",
        "gp        # Y trips are longer than N"
      ]
    },
    {
      "cell_type": "markdown",
      "id": "ffced2cd-d3d4-44e4-9362-88fa2fbcd5f3",
      "metadata": {
        "id": "ffced2cd-d3d4-44e4-9362-88fa2fbcd5f3"
      },
      "source": [
        "# let's investigate trip_duration\n"
      ]
    },
    {
      "cell_type": "code",
      "execution_count": 28,
      "id": "51df7a5f-83c8-4c9d-aa29-d4b5e60926fd",
      "metadata": {
        "id": "51df7a5f-83c8-4c9d-aa29-d4b5e60926fd"
      },
      "outputs": [],
      "source": []
    },
    {
      "cell_type": "code",
      "execution_count": 29,
      "id": "ef745d1c-4b0f-4e16-967d-e532809cb5de",
      "metadata": {
        "colab": {
          "base_uri": "https://localhost:8080/",
          "height": 429
        },
        "id": "ef745d1c-4b0f-4e16-967d-e532809cb5de",
        "outputId": "e216ab56-b077-4b3e-99c5-2e58f4858138"
      },
      "outputs": [
        {
          "output_type": "execute_result",
          "data": {
            "text/plain": [
              "trip_duration\n",
              "348    1129\n",
              "424    1125\n",
              "417    1115\n",
              "388    1111\n",
              "386    1103\n",
              "368    1093\n",
              "367    1091\n",
              "358    1091\n",
              "408    1085\n",
              "327    1085\n",
              "Name: count, dtype: int64"
            ],
            "text/html": [
              "<div>\n",
              "<style scoped>\n",
              "    .dataframe tbody tr th:only-of-type {\n",
              "        vertical-align: middle;\n",
              "    }\n",
              "\n",
              "    .dataframe tbody tr th {\n",
              "        vertical-align: top;\n",
              "    }\n",
              "\n",
              "    .dataframe thead th {\n",
              "        text-align: right;\n",
              "    }\n",
              "</style>\n",
              "<table border=\"1\" class=\"dataframe\">\n",
              "  <thead>\n",
              "    <tr style=\"text-align: right;\">\n",
              "      <th></th>\n",
              "      <th>count</th>\n",
              "    </tr>\n",
              "    <tr>\n",
              "      <th>trip_duration</th>\n",
              "      <th></th>\n",
              "    </tr>\n",
              "  </thead>\n",
              "  <tbody>\n",
              "    <tr>\n",
              "      <th>348</th>\n",
              "      <td>1129</td>\n",
              "    </tr>\n",
              "    <tr>\n",
              "      <th>424</th>\n",
              "      <td>1125</td>\n",
              "    </tr>\n",
              "    <tr>\n",
              "      <th>417</th>\n",
              "      <td>1115</td>\n",
              "    </tr>\n",
              "    <tr>\n",
              "      <th>388</th>\n",
              "      <td>1111</td>\n",
              "    </tr>\n",
              "    <tr>\n",
              "      <th>386</th>\n",
              "      <td>1103</td>\n",
              "    </tr>\n",
              "    <tr>\n",
              "      <th>368</th>\n",
              "      <td>1093</td>\n",
              "    </tr>\n",
              "    <tr>\n",
              "      <th>367</th>\n",
              "      <td>1091</td>\n",
              "    </tr>\n",
              "    <tr>\n",
              "      <th>358</th>\n",
              "      <td>1091</td>\n",
              "    </tr>\n",
              "    <tr>\n",
              "      <th>408</th>\n",
              "      <td>1085</td>\n",
              "    </tr>\n",
              "    <tr>\n",
              "      <th>327</th>\n",
              "      <td>1085</td>\n",
              "    </tr>\n",
              "  </tbody>\n",
              "</table>\n",
              "</div><br><label><b>dtype:</b> int64</label>"
            ]
          },
          "metadata": {},
          "execution_count": 29
        }
      ],
      "source": [
        "df_train[\"trip_duration\"].value_counts().nlargest(10)"
      ]
    },
    {
      "cell_type": "code",
      "execution_count": 30,
      "id": "9629846c-c690-4b18-9e65-7713a194afb3",
      "metadata": {
        "colab": {
          "base_uri": "https://localhost:8080/",
          "height": 451
        },
        "id": "9629846c-c690-4b18-9e65-7713a194afb3",
        "outputId": "abadf91e-4f1f-4616-b02b-4f41cdb9a094"
      },
      "outputs": [
        {
          "output_type": "display_data",
          "data": {
            "text/plain": [
              "<Figure size 640x480 with 1 Axes>"
            ],
            "image/png": "[encoded data removed]"
          },
          "metadata": {}
        }
      ],
      "source": [
        "sns.histplot(df_train[\"log_trip_duration\"])\n",
        "plt.show()"
      ]
    },
    {
      "cell_type": "code",
      "execution_count": 31,
      "id": "0f7ed237-1a6a-42f5-9461-6ca1b2670a23",
      "metadata": {
        "colab": {
          "base_uri": "https://localhost:8080/",
          "height": 415
        },
        "id": "0f7ed237-1a6a-42f5-9461-6ca1b2670a23",
        "outputId": "2c73562c-f465-434d-c933-359a1502574e"
      },
      "outputs": [
        {
          "output_type": "display_data",
          "data": {
            "text/plain": [
              "<Figure size 640x480 with 1 Axes>"
            ],
            "image/png": "[encoded data removed]"
          },
          "metadata": {}
        }
      ],
      "source": [
        "sns.boxplot(df_train[\"log_trip_duration\"])\n",
        "plt.show()  #see outliers"
      ]
    },
    {
      "cell_type": "markdown",
      "id": "2f2da184-e45e-4e9f-b54b-8665d3df2dca",
      "metadata": {
        "id": "2f2da184-e45e-4e9f-b54b-8665d3df2dca"
      },
      "source": [
        "# let's investigate some time features"
      ]
    },
    {
      "cell_type": "code",
      "execution_count": 32,
      "id": "b411cbf4-6e77-4fc7-a0d7-6a36b805beb9",
      "metadata": {
        "colab": {
          "base_uri": "https://localhost:8080/",
          "height": 478
        },
        "id": "b411cbf4-6e77-4fc7-a0d7-6a36b805beb9",
        "outputId": "aff5a064-8d96-4ff7-aef4-fc8102a14a08"
      },
      "outputs": [
        {
          "output_type": "execute_result",
          "data": {
            "text/plain": [
              "<Axes: xlabel='pickup_month'>"
            ]
          },
          "metadata": {},
          "execution_count": 32
        },
        {
          "output_type": "display_data",
          "data": {
            "text/plain": [
              "<Figure size 640x480 with 1 Axes>"
            ],
            "image/png": "[encoded data removed]"
          },
          "metadata": {}
        }
      ],
      "source": [
        "gp=df_train.groupby([\"pickup_month\"])[\"trip_duration\"].sum()\n",
        "gp.sort_values().plot(kind=\"bar\")"
      ]
    },
    {
      "cell_type": "code",
      "execution_count": 32,
      "id": "5e64f4e5-bcd7-471d-8a9d-c182d657d757",
      "metadata": {
        "id": "5e64f4e5-bcd7-471d-8a9d-c182d657d757"
      },
      "outputs": [],
      "source": []
    },
    {
      "cell_type": "code",
      "execution_count": 33,
      "id": "f53115b8-b911-457a-a18d-7f2b61ecf367",
      "metadata": {
        "colab": {
          "base_uri": "https://localhost:8080/",
          "height": 486
        },
        "id": "f53115b8-b911-457a-a18d-7f2b61ecf367",
        "outputId": "73d2622a-587f-4835-ae97-562ba86ebd5c"
      },
      "outputs": [
        {
          "output_type": "execute_result",
          "data": {
            "text/plain": [
              "<Axes: xlabel='pickup_hour'>"
            ]
          },
          "metadata": {},
          "execution_count": 33
        },
        {
          "output_type": "display_data",
          "data": {
            "text/plain": [
              "<Figure size 640x480 with 1 Axes>"
            ],
            "image/png": "[encoded data removed]"
          },
          "metadata": {}
        }
      ],
      "source": [
        "gp=df_train.groupby([\"pickup_hour\"])[\"trip_duration\"].sum()\n",
        "gp.sort_values().plot(kind=\"bar\")"
      ]
    },
    {
      "cell_type": "code",
      "execution_count": 34,
      "id": "626c233a-bfca-4f1c-9bc2-750ba618d6dc",
      "metadata": {
        "colab": {
          "base_uri": "https://localhost:8080/",
          "height": 1000
        },
        "id": "626c233a-bfca-4f1c-9bc2-750ba618d6dc",
        "outputId": "0c1a524a-7382-49b0-acda-ac752aec18a5"
      },
      "outputs": [
        {
          "output_type": "execute_result",
          "data": {
            "text/plain": [
              "pickup_day\n",
              "16    34961\n",
              "14    34895\n",
              "12    34452\n",
              "5     34437\n",
              "4     33994\n",
              "6     33979\n",
              "9     33973\n",
              "15    33943\n",
              "13    33864\n",
              "20    33771\n",
              "17    33770\n",
              "19    33697\n",
              "10    33649\n",
              "7     33484\n",
              "11    33436\n",
              "8     33035\n",
              "18    33029\n",
              "21    33001\n",
              "3     32806\n",
              "2     32640\n",
              "26    32592\n",
              "22    32362\n",
              "27    32039\n",
              "29    31988\n",
              "1     31939\n",
              "25    31744\n",
              "28    31334\n",
              "24    30115\n",
              "23    28400\n",
              "30    26861\n",
              "31    15810\n",
              "Name: count, dtype: int64"
            ],
            "text/html": [
              "<div>\n",
              "<style scoped>\n",
              "    .dataframe tbody tr th:only-of-type {\n",
              "        vertical-align: middle;\n",
              "    }\n",
              "\n",
              "    .dataframe tbody tr th {\n",
              "        vertical-align: top;\n",
              "    }\n",
              "\n",
              "    .dataframe thead th {\n",
              "        text-align: right;\n",
              "    }\n",
              "</style>\n",
              "<table border=\"1\" class=\"dataframe\">\n",
              "  <thead>\n",
              "    <tr style=\"text-align: right;\">\n",
              "      <th></th>\n",
              "      <th>count</th>\n",
              "    </tr>\n",
              "    <tr>\n",
              "      <th>pickup_day</th>\n",
              "      <th></th>\n",
              "    </tr>\n",
              "  </thead>\n",
              "  <tbody>\n",
              "    <tr>\n",
              "      <th>16</th>\n",
              "      <td>34961</td>\n",
              "    </tr>\n",
              "    <tr>\n",
              "      <th>14</th>\n",
              "      <td>34895</td>\n",
              "    </tr>\n",
              "    <tr>\n",
              "      <th>12</th>\n",
              "      <td>34452</td>\n",
              "    </tr>\n",
              "    <tr>\n",
              "      <th>5</th>\n",
              "      <td>34437</td>\n",
              "    </tr>\n",
              "    <tr>\n",
              "      <th>4</th>\n",
              "      <td>33994</td>\n",
              "    </tr>\n",
              "    <tr>\n",
              "      <th>6</th>\n",
              "      <td>33979</td>\n",
              "    </tr>\n",
              "    <tr>\n",
              "      <th>9</th>\n",
              "      <td>33973</td>\n",
              "    </tr>\n",
              "    <tr>\n",
              "      <th>15</th>\n",
              "      <td>33943</td>\n",
              "    </tr>\n",
              "    <tr>\n",
              "      <th>13</th>\n",
              "      <td>33864</td>\n",
              "    </tr>\n",
              "    <tr>\n",
              "      <th>20</th>\n",
              "      <td>33771</td>\n",
              "    </tr>\n",
              "    <tr>\n",
              "      <th>17</th>\n",
              "      <td>33770</td>\n",
              "    </tr>\n",
              "    <tr>\n",
              "      <th>19</th>\n",
              "      <td>33697</td>\n",
              "    </tr>\n",
              "    <tr>\n",
              "      <th>10</th>\n",
              "      <td>33649</td>\n",
              "    </tr>\n",
              "    <tr>\n",
              "      <th>7</th>\n",
              "      <td>33484</td>\n",
              "    </tr>\n",
              "    <tr>\n",
              "      <th>11</th>\n",
              "      <td>33436</td>\n",
              "    </tr>\n",
              "    <tr>\n",
              "      <th>8</th>\n",
              "      <td>33035</td>\n",
              "    </tr>\n",
              "    <tr>\n",
              "      <th>18</th>\n",
              "      <td>33029</td>\n",
              "    </tr>\n",
              "    <tr>\n",
              "      <th>21</th>\n",
              "      <td>33001</td>\n",
              "    </tr>\n",
              "    <tr>\n",
              "      <th>3</th>\n",
              "      <td>32806</td>\n",
              "    </tr>\n",
              "    <tr>\n",
              "      <th>2</th>\n",
              "      <td>32640</td>\n",
              "    </tr>\n",
              "    <tr>\n",
              "      <th>26</th>\n",
              "      <td>32592</td>\n",
              "    </tr>\n",
              "    <tr>\n",
              "      <th>22</th>\n",
              "      <td>32362</td>\n",
              "    </tr>\n",
              "    <tr>\n",
              "      <th>27</th>\n",
              "      <td>32039</td>\n",
              "    </tr>\n",
              "    <tr>\n",
              "      <th>29</th>\n",
              "      <td>31988</td>\n",
              "    </tr>\n",
              "    <tr>\n",
              "      <th>1</th>\n",
              "      <td>31939</td>\n",
              "    </tr>\n",
              "    <tr>\n",
              "      <th>25</th>\n",
              "      <td>31744</td>\n",
              "    </tr>\n",
              "    <tr>\n",
              "      <th>28</th>\n",
              "      <td>31334</td>\n",
              "    </tr>\n",
              "    <tr>\n",
              "      <th>24</th>\n",
              "      <td>30115</td>\n",
              "    </tr>\n",
              "    <tr>\n",
              "      <th>23</th>\n",
              "      <td>28400</td>\n",
              "    </tr>\n",
              "    <tr>\n",
              "      <th>30</th>\n",
              "      <td>26861</td>\n",
              "    </tr>\n",
              "    <tr>\n",
              "      <th>31</th>\n",
              "      <td>15810</td>\n",
              "    </tr>\n",
              "  </tbody>\n",
              "</table>\n",
              "</div><br><label><b>dtype:</b> int64</label>"
            ]
          },
          "metadata": {},
          "execution_count": 34
        }
      ],
      "source": [
        "df_train[\"pickup_day\"].value_counts()"
      ]
    },
    {
      "cell_type": "code",
      "execution_count": 35,
      "id": "7c1a2d21-cb35-4cae-a8ca-720c546ea419",
      "metadata": {
        "colab": {
          "base_uri": "https://localhost:8080/",
          "height": 486
        },
        "id": "7c1a2d21-cb35-4cae-a8ca-720c546ea419",
        "outputId": "f025fd92-cca5-4100-ffb2-92478c6673bf"
      },
      "outputs": [
        {
          "output_type": "execute_result",
          "data": {
            "text/plain": [
              "<Axes: xlabel='pickup_day'>"
            ]
          },
          "metadata": {},
          "execution_count": 35
        },
        {
          "output_type": "display_data",
          "data": {
            "text/plain": [
              "<Figure size 640x480 with 1 Axes>"
            ],
            "image/png": "[encoded data removed]"
          },
          "metadata": {}
        }
      ],
      "source": [
        "gp=df_train.groupby([\"pickup_day\"])[\"trip_duration\"].sum()\n",
        "gp.sort_values().plot(kind=\"bar\")"
      ]
    },
    {
      "cell_type": "code",
      "execution_count": 36,
      "id": "bbc77a47-f438-4edc-be71-416d517a167e",
      "metadata": {
        "colab": {
          "base_uri": "https://localhost:8080/",
          "height": 549
        },
        "id": "bbc77a47-f438-4edc-be71-416d517a167e",
        "outputId": "ebbc5554-4e1a-4be0-9018-cdfe28db65d6"
      },
      "outputs": [
        {
          "output_type": "execute_result",
          "data": {
            "text/plain": [
              "<Axes: xlabel='pickup_dayofweek'>"
            ]
          },
          "metadata": {},
          "execution_count": 36
        },
        {
          "output_type": "display_data",
          "data": {
            "text/plain": [
              "<Figure size 640x480 with 1 Axes>"
            ],
            "image/png": "[encoded data removed]"
          },
          "metadata": {}
        }
      ],
      "source": [
        "gp=df_train.groupby([\"pickup_dayofweek\"])[\"trip_duration\"].sum()\n",
        "gp.sort_values().plot(kind=\"bar\")"
      ]
    },
    {
      "cell_type": "code",
      "execution_count": 37,
      "id": "d9028220-56a7-49b2-8e23-4c1c6bb74c4d",
      "metadata": {
        "id": "d9028220-56a7-49b2-8e23-4c1c6bb74c4d"
      },
      "outputs": [],
      "source": [
        "df_train[\"is_weekend\"]=((df_train[\"pickup_dayofweek\"]==\"Sunday\") | (df_train[\"pickup_dayofweek\"]==\"Saturday\")).astype(int)"
      ]
    },
    {
      "cell_type": "code",
      "execution_count": 38,
      "id": "50f710bd-e210-40a0-a34d-43ddba0a276f",
      "metadata": {
        "colab": {
          "base_uri": "https://localhost:8080/",
          "height": 178
        },
        "id": "50f710bd-e210-40a0-a34d-43ddba0a276f",
        "outputId": "20505861-8814-42fc-9fcc-a609bc8125ac"
      },
      "outputs": [
        {
          "output_type": "execute_result",
          "data": {
            "text/plain": [
              "is_weekend\n",
              "0    714225\n",
              "1    285775\n",
              "Name: count, dtype: int64"
            ],
            "text/html": [
              "<div>\n",
              "<style scoped>\n",
              "    .dataframe tbody tr th:only-of-type {\n",
              "        vertical-align: middle;\n",
              "    }\n",
              "\n",
              "    .dataframe tbody tr th {\n",
              "        vertical-align: top;\n",
              "    }\n",
              "\n",
              "    .dataframe thead th {\n",
              "        text-align: right;\n",
              "    }\n",
              "</style>\n",
              "<table border=\"1\" class=\"dataframe\">\n",
              "  <thead>\n",
              "    <tr style=\"text-align: right;\">\n",
              "      <th></th>\n",
              "      <th>count</th>\n",
              "    </tr>\n",
              "    <tr>\n",
              "      <th>is_weekend</th>\n",
              "      <th></th>\n",
              "    </tr>\n",
              "  </thead>\n",
              "  <tbody>\n",
              "    <tr>\n",
              "      <th>0</th>\n",
              "      <td>714225</td>\n",
              "    </tr>\n",
              "    <tr>\n",
              "      <th>1</th>\n",
              "      <td>285775</td>\n",
              "    </tr>\n",
              "  </tbody>\n",
              "</table>\n",
              "</div><br><label><b>dtype:</b> int64</label>"
            ]
          },
          "metadata": {},
          "execution_count": 38
        }
      ],
      "source": [
        "df_train[\"is_weekend\"].value_counts()"
      ]
    },
    {
      "cell_type": "code",
      "execution_count": 39,
      "id": "c1fc4493-172c-4739-995a-c4da579771fd",
      "metadata": {
        "colab": {
          "base_uri": "https://localhost:8080/",
          "height": 462
        },
        "id": "c1fc4493-172c-4739-995a-c4da579771fd",
        "outputId": "bb6b4807-7263-41d0-8e8f-1bff64619e9e"
      },
      "outputs": [
        {
          "output_type": "execute_result",
          "data": {
            "text/plain": [
              "<Axes: xlabel='is_weekend'>"
            ]
          },
          "metadata": {},
          "execution_count": 39
        },
        {
          "output_type": "display_data",
          "data": {
            "text/plain": [
              "<Figure size 640x480 with 1 Axes>"
            ],
            "image/png": "[encoded data removed]"
          },
          "metadata": {}
        }
      ],
      "source": [
        "gp=df_train.groupby([\"is_weekend\"])[\"trip_duration\"].mean()\n",
        "gp.sort_values().plot(kind=\"bar\")  # in weekends however 1 has 285775 and 0 has 714225 but equally in mean so in weekends the trips take long time"
      ]
    },
    {
      "cell_type": "code",
      "execution_count": 40,
      "id": "8ccc9d01-98ee-45cc-8c11-fc6daba50945",
      "metadata": {
        "colab": {
          "base_uri": "https://localhost:8080/",
          "height": 1000
        },
        "id": "8ccc9d01-98ee-45cc-8c11-fc6daba50945",
        "outputId": "3694244f-ad80-49db-a4e2-eab501820993"
      },
      "outputs": [
        {
          "output_type": "execute_result",
          "data": {
            "text/plain": [
              "pickup_minute\n",
              "24    14941816\n",
              "58    14994296\n",
              "49    15010659\n",
              "56    15032934\n",
              "23    15151294\n",
              "59    15286711\n",
              "31    15306331\n",
              "52    15336365\n",
              "51    15337873\n",
              "57    15374094\n",
              "33    15491074\n",
              "22    15499109\n",
              "5     15501849\n",
              "10    15543332\n",
              "42    15546264\n",
              "35    15604431\n",
              "34    15643860\n",
              "27    15684390\n",
              "45    15694271\n",
              "16    15701059\n",
              "55    15721131\n",
              "28    15729138\n",
              "39    15753675\n",
              "1     15761512\n",
              "29    15781432\n",
              "0     15791310\n",
              "53    15799306\n",
              "11    15842967\n",
              "47    15858520\n",
              "44    15901266\n",
              "8     15964147\n",
              "21    15964241\n",
              "19    15971450\n",
              "41    15972632\n",
              "15    15982538\n",
              "54    16020438\n",
              "4     16032081\n",
              "32    16049624\n",
              "20    16050423\n",
              "50    16061470\n",
              "26    16091889\n",
              "43    16106706\n",
              "18    16107709\n",
              "37    16139458\n",
              "17    16156562\n",
              "38    16204919\n",
              "30    16228103\n",
              "12    16327746\n",
              "36    16333623\n",
              "25    16344885\n",
              "13    16360595\n",
              "7     16366760\n",
              "6     16438326\n",
              "48    16453202\n",
              "3     16460255\n",
              "2     16508845\n",
              "9     16525230\n",
              "46    16733967\n",
              "40    17229759\n",
              "14    18075119\n",
              "Name: trip_duration, dtype: int64"
            ],
            "text/html": [
              "<div>\n",
              "<style scoped>\n",
              "    .dataframe tbody tr th:only-of-type {\n",
              "        vertical-align: middle;\n",
              "    }\n",
              "\n",
              "    .dataframe tbody tr th {\n",
              "        vertical-align: top;\n",
              "    }\n",
              "\n",
              "    .dataframe thead th {\n",
              "        text-align: right;\n",
              "    }\n",
              "</style>\n",
              "<table border=\"1\" class=\"dataframe\">\n",
              "  <thead>\n",
              "    <tr style=\"text-align: right;\">\n",
              "      <th></th>\n",
              "      <th>trip_duration</th>\n",
              "    </tr>\n",
              "    <tr>\n",
              "      <th>pickup_minute</th>\n",
              "      <th></th>\n",
              "    </tr>\n",
              "  </thead>\n",
              "  <tbody>\n",
              "    <tr>\n",
              "      <th>24</th>\n",
              "      <td>14941816</td>\n",
              "    </tr>\n",
              "    <tr>\n",
              "      <th>58</th>\n",
              "      <td>14994296</td>\n",
              "    </tr>\n",
              "    <tr>\n",
              "      <th>49</th>\n",
              "      <td>15010659</td>\n",
              "    </tr>\n",
              "    <tr>\n",
              "      <th>56</th>\n",
              "      <td>15032934</td>\n",
              "    </tr>\n",
              "    <tr>\n",
              "      <th>23</th>\n",
              "      <td>15151294</td>\n",
              "    </tr>\n",
              "    <tr>\n",
              "      <th>59</th>\n",
              "      <td>15286711</td>\n",
              "    </tr>\n",
              "    <tr>\n",
              "      <th>31</th>\n",
              "      <td>15306331</td>\n",
              "    </tr>\n",
              "    <tr>\n",
              "      <th>52</th>\n",
              "      <td>15336365</td>\n",
              "    </tr>\n",
              "    <tr>\n",
              "      <th>51</th>\n",
              "      <td>15337873</td>\n",
              "    </tr>\n",
              "    <tr>\n",
              "      <th>57</th>\n",
              "      <td>15374094</td>\n",
              "    </tr>\n",
              "    <tr>\n",
              "      <th>33</th>\n",
              "      <td>15491074</td>\n",
              "    </tr>\n",
              "    <tr>\n",
              "      <th>22</th>\n",
              "      <td>15499109</td>\n",
              "    </tr>\n",
              "    <tr>\n",
              "      <th>5</th>\n",
              "      <td>15501849</td>\n",
              "    </tr>\n",
              "    <tr>\n",
              "      <th>10</th>\n",
              "      <td>15543332</td>\n",
              "    </tr>\n",
              "    <tr>\n",
              "      <th>42</th>\n",
              "      <td>15546264</td>\n",
              "    </tr>\n",
              "    <tr>\n",
              "      <th>35</th>\n",
              "      <td>15604431</td>\n",
              "    </tr>\n",
              "    <tr>\n",
              "      <th>34</th>\n",
              "      <td>15643860</td>\n",
              "    </tr>\n",
              "    <tr>\n",
              "      <th>27</th>\n",
              "      <td>15684390</td>\n",
              "    </tr>\n",
              "    <tr>\n",
              "      <th>45</th>\n",
              "      <td>15694271</td>\n",
              "    </tr>\n",
              "    <tr>\n",
              "      <th>16</th>\n",
              "      <td>15701059</td>\n",
              "    </tr>\n",
              "    <tr>\n",
              "      <th>55</th>\n",
              "      <td>15721131</td>\n",
              "    </tr>\n",
              "    <tr>\n",
              "      <th>28</th>\n",
              "      <td>15729138</td>\n",
              "    </tr>\n",
              "    <tr>\n",
              "      <th>39</th>\n",
              "      <td>15753675</td>\n",
              "    </tr>\n",
              "    <tr>\n",
              "      <th>1</th>\n",
              "      <td>15761512</td>\n",
              "    </tr>\n",
              "    <tr>\n",
              "      <th>29</th>\n",
              "      <td>15781432</td>\n",
              "    </tr>\n",
              "    <tr>\n",
              "      <th>0</th>\n",
              "      <td>15791310</td>\n",
              "    </tr>\n",
              "    <tr>\n",
              "      <th>53</th>\n",
              "      <td>15799306</td>\n",
              "    </tr>\n",
              "    <tr>\n",
              "      <th>11</th>\n",
              "      <td>15842967</td>\n",
              "    </tr>\n",
              "    <tr>\n",
              "      <th>47</th>\n",
              "      <td>15858520</td>\n",
              "    </tr>\n",
              "    <tr>\n",
              "      <th>44</th>\n",
              "      <td>15901266</td>\n",
              "    </tr>\n",
              "    <tr>\n",
              "      <th>8</th>\n",
              "      <td>15964147</td>\n",
              "    </tr>\n",
              "    <tr>\n",
              "      <th>21</th>\n",
              "      <td>15964241</td>\n",
              "    </tr>\n",
              "    <tr>\n",
              "      <th>19</th>\n",
              "      <td>15971450</td>\n",
              "    </tr>\n",
              "    <tr>\n",
              "      <th>41</th>\n",
              "      <td>15972632</td>\n",
              "    </tr>\n",
              "    <tr>\n",
              "      <th>15</th>\n",
              "      <td>15982538</td>\n",
              "    </tr>\n",
              "    <tr>\n",
              "      <th>54</th>\n",
              "      <td>16020438</td>\n",
              "    </tr>\n",
              "    <tr>\n",
              "      <th>4</th>\n",
              "      <td>16032081</td>\n",
              "    </tr>\n",
              "    <tr>\n",
              "      <th>32</th>\n",
              "      <td>16049624</td>\n",
              "    </tr>\n",
              "    <tr>\n",
              "      <th>20</th>\n",
              "      <td>16050423</td>\n",
              "    </tr>\n",
              "    <tr>\n",
              "      <th>50</th>\n",
              "      <td>16061470</td>\n",
              "    </tr>\n",
              "    <tr>\n",
              "      <th>26</th>\n",
              "      <td>16091889</td>\n",
              "    </tr>\n",
              "    <tr>\n",
              "      <th>43</th>\n",
              "      <td>16106706</td>\n",
              "    </tr>\n",
              "    <tr>\n",
              "      <th>18</th>\n",
              "      <td>16107709</td>\n",
              "    </tr>\n",
              "    <tr>\n",
              "      <th>37</th>\n",
              "      <td>16139458</td>\n",
              "    </tr>\n",
              "    <tr>\n",
              "      <th>17</th>\n",
              "      <td>16156562</td>\n",
              "    </tr>\n",
              "    <tr>\n",
              "      <th>38</th>\n",
              "      <td>16204919</td>\n",
              "    </tr>\n",
              "    <tr>\n",
              "      <th>30</th>\n",
              "      <td>16228103</td>\n",
              "    </tr>\n",
              "    <tr>\n",
              "      <th>12</th>\n",
              "      <td>16327746</td>\n",
              "    </tr>\n",
              "    <tr>\n",
              "      <th>36</th>\n",
              "      <td>16333623</td>\n",
              "    </tr>\n",
              "    <tr>\n",
              "      <th>25</th>\n",
              "      <td>16344885</td>\n",
              "    </tr>\n",
              "    <tr>\n",
              "      <th>13</th>\n",
              "      <td>16360595</td>\n",
              "    </tr>\n",
              "    <tr>\n",
              "      <th>7</th>\n",
              "      <td>16366760</td>\n",
              "    </tr>\n",
              "    <tr>\n",
              "      <th>6</th>\n",
              "      <td>16438326</td>\n",
              "    </tr>\n",
              "    <tr>\n",
              "      <th>48</th>\n",
              "      <td>16453202</td>\n",
              "    </tr>\n",
              "    <tr>\n",
              "      <th>3</th>\n",
              "      <td>16460255</td>\n",
              "    </tr>\n",
              "    <tr>\n",
              "      <th>2</th>\n",
              "      <td>16508845</td>\n",
              "    </tr>\n",
              "    <tr>\n",
              "      <th>9</th>\n",
              "      <td>16525230</td>\n",
              "    </tr>\n",
              "    <tr>\n",
              "      <th>46</th>\n",
              "      <td>16733967</td>\n",
              "    </tr>\n",
              "    <tr>\n",
              "      <th>40</th>\n",
              "      <td>17229759</td>\n",
              "    </tr>\n",
              "    <tr>\n",
              "      <th>14</th>\n",
              "      <td>18075119</td>\n",
              "    </tr>\n",
              "  </tbody>\n",
              "</table>\n",
              "</div><br><label><b>dtype:</b> int64</label>"
            ]
          },
          "metadata": {},
          "execution_count": 40
        }
      ],
      "source": [
        "gp=df_train.groupby([\"pickup_minute\"])[\"trip_duration\"].sum()\n",
        "gp.sort_values()"
      ]
    },
    {
      "cell_type": "code",
      "execution_count": 41,
      "id": "2319998d-d984-49a8-9425-233a2c143dea",
      "metadata": {
        "id": "2319998d-d984-49a8-9425-233a2c143dea"
      },
      "outputs": [],
      "source": [
        "def range_minutes(x):\n",
        "    if 1<=x<=15 :\n",
        "        return 0   #Q1\n",
        "    elif 16<=x<=30:\n",
        "        return 1   #Q2\n",
        "    elif 31<=x<=45:\n",
        "        return 2   #Q3\n",
        "    else:\n",
        "        return 3   #Q4"
      ]
    },
    {
      "cell_type": "code",
      "execution_count": 42,
      "id": "c3a1efff-4cce-45f5-a818-18eabf93a560",
      "metadata": {
        "id": "c3a1efff-4cce-45f5-a818-18eabf93a560"
      },
      "outputs": [],
      "source": [
        "df_train[\"range_minutes\"]=df_train[\"pickup_minute\"].apply(lambda x:range_minutes(x))"
      ]
    },
    {
      "cell_type": "code",
      "execution_count": 43,
      "id": "20313e29-dda4-4cd6-918b-bc9ab23fa0a1",
      "metadata": {
        "colab": {
          "base_uri": "https://localhost:8080/",
          "height": 241
        },
        "id": "20313e29-dda4-4cd6-918b-bc9ab23fa0a1",
        "outputId": "e7695da7-d317-40f2-be63-f9379a69e030"
      },
      "outputs": [
        {
          "output_type": "execute_result",
          "data": {
            "text/plain": [
              "range_minutes\n",
              "3    234812276\n",
              "1    237403500\n",
              "2    238977893\n",
              "0    243691302\n",
              "Name: trip_duration, dtype: int64"
            ],
            "text/html": [
              "<div>\n",
              "<style scoped>\n",
              "    .dataframe tbody tr th:only-of-type {\n",
              "        vertical-align: middle;\n",
              "    }\n",
              "\n",
              "    .dataframe tbody tr th {\n",
              "        vertical-align: top;\n",
              "    }\n",
              "\n",
              "    .dataframe thead th {\n",
              "        text-align: right;\n",
              "    }\n",
              "</style>\n",
              "<table border=\"1\" class=\"dataframe\">\n",
              "  <thead>\n",
              "    <tr style=\"text-align: right;\">\n",
              "      <th></th>\n",
              "      <th>trip_duration</th>\n",
              "    </tr>\n",
              "    <tr>\n",
              "      <th>range_minutes</th>\n",
              "      <th></th>\n",
              "    </tr>\n",
              "  </thead>\n",
              "  <tbody>\n",
              "    <tr>\n",
              "      <th>3</th>\n",
              "      <td>234812276</td>\n",
              "    </tr>\n",
              "    <tr>\n",
              "      <th>1</th>\n",
              "      <td>237403500</td>\n",
              "    </tr>\n",
              "    <tr>\n",
              "      <th>2</th>\n",
              "      <td>238977893</td>\n",
              "    </tr>\n",
              "    <tr>\n",
              "      <th>0</th>\n",
              "      <td>243691302</td>\n",
              "    </tr>\n",
              "  </tbody>\n",
              "</table>\n",
              "</div><br><label><b>dtype:</b> int64</label>"
            ]
          },
          "metadata": {},
          "execution_count": 43
        }
      ],
      "source": [
        "gp=df_train.groupby([\"range_minutes\"])[\"trip_duration\"].sum()\n",
        "gp.sort_values()  #almost no difference"
      ]
    },
    {
      "cell_type": "code",
      "execution_count": 44,
      "id": "c14df90e-fd81-44eb-83ce-bf2d55f88ed3",
      "metadata": {
        "colab": {
          "base_uri": "https://localhost:8080/",
          "height": 241
        },
        "id": "c14df90e-fd81-44eb-83ce-bf2d55f88ed3",
        "outputId": "e85b57c5-15e4-4f4c-dd8a-0f44016ce3f6"
      },
      "outputs": [
        {
          "output_type": "execute_result",
          "data": {
            "text/plain": [
              "range_minutes\n",
              "3    931.543377\n",
              "2    954.990961\n",
              "1    955.384523\n",
              "0    977.890546\n",
              "Name: trip_duration, dtype: float64"
            ],
            "text/html": [
              "<div>\n",
              "<style scoped>\n",
              "    .dataframe tbody tr th:only-of-type {\n",
              "        vertical-align: middle;\n",
              "    }\n",
              "\n",
              "    .dataframe tbody tr th {\n",
              "        vertical-align: top;\n",
              "    }\n",
              "\n",
              "    .dataframe thead th {\n",
              "        text-align: right;\n",
              "    }\n",
              "</style>\n",
              "<table border=\"1\" class=\"dataframe\">\n",
              "  <thead>\n",
              "    <tr style=\"text-align: right;\">\n",
              "      <th></th>\n",
              "      <th>trip_duration</th>\n",
              "    </tr>\n",
              "    <tr>\n",
              "      <th>range_minutes</th>\n",
              "      <th></th>\n",
              "    </tr>\n",
              "  </thead>\n",
              "  <tbody>\n",
              "    <tr>\n",
              "      <th>3</th>\n",
              "      <td>931.543377</td>\n",
              "    </tr>\n",
              "    <tr>\n",
              "      <th>2</th>\n",
              "      <td>954.990961</td>\n",
              "    </tr>\n",
              "    <tr>\n",
              "      <th>1</th>\n",
              "      <td>955.384523</td>\n",
              "    </tr>\n",
              "    <tr>\n",
              "      <th>0</th>\n",
              "      <td>977.890546</td>\n",
              "    </tr>\n",
              "  </tbody>\n",
              "</table>\n",
              "</div><br><label><b>dtype:</b> float64</label>"
            ]
          },
          "metadata": {},
          "execution_count": 44
        }
      ],
      "source": [
        "gp=df_train.groupby([\"range_minutes\"])[\"trip_duration\"].mean()\n",
        "gp.sort_values()"
      ]
    },
    {
      "cell_type": "code",
      "execution_count": 45,
      "id": "66977e18-0a4c-479c-97da-af18b6c93f99",
      "metadata": {
        "id": "66977e18-0a4c-479c-97da-af18b6c93f99"
      },
      "outputs": [],
      "source": [
        "def range_hours(x):\n",
        "    if 5<=x<12 :\n",
        "        return 0  # Morning\n",
        "    elif 12<=x<17:\n",
        "        return 1  # Afternoon\n",
        "    else:\n",
        "        return 2  # Night\n"
      ]
    },
    {
      "cell_type": "code",
      "execution_count": 46,
      "id": "dae5ea8f-0452-4b67-9dca-c3eb34ed97bc",
      "metadata": {
        "id": "dae5ea8f-0452-4b67-9dca-c3eb34ed97bc"
      },
      "outputs": [],
      "source": [
        "df_train[\"range_hours\"]=df_train[\"pickup_hour\"].apply(lambda x:range_hours(x))"
      ]
    },
    {
      "cell_type": "code",
      "execution_count": 47,
      "id": "713e375b-f547-4502-a866-f8d45881c505",
      "metadata": {
        "colab": {
          "base_uri": "https://localhost:8080/",
          "height": 209
        },
        "id": "713e375b-f547-4502-a866-f8d45881c505",
        "outputId": "f6e78731-f5ba-4c41-c7f7-3038e842e74e"
      },
      "outputs": [
        {
          "output_type": "execute_result",
          "data": {
            "text/plain": [
              "range_hours\n",
              "0    232407054\n",
              "1    257883919\n",
              "2    464593998\n",
              "Name: trip_duration, dtype: int64"
            ],
            "text/html": [
              "<div>\n",
              "<style scoped>\n",
              "    .dataframe tbody tr th:only-of-type {\n",
              "        vertical-align: middle;\n",
              "    }\n",
              "\n",
              "    .dataframe tbody tr th {\n",
              "        vertical-align: top;\n",
              "    }\n",
              "\n",
              "    .dataframe thead th {\n",
              "        text-align: right;\n",
              "    }\n",
              "</style>\n",
              "<table border=\"1\" class=\"dataframe\">\n",
              "  <thead>\n",
              "    <tr style=\"text-align: right;\">\n",
              "      <th></th>\n",
              "      <th>trip_duration</th>\n",
              "    </tr>\n",
              "    <tr>\n",
              "      <th>range_hours</th>\n",
              "      <th></th>\n",
              "    </tr>\n",
              "  </thead>\n",
              "  <tbody>\n",
              "    <tr>\n",
              "      <th>0</th>\n",
              "      <td>232407054</td>\n",
              "    </tr>\n",
              "    <tr>\n",
              "      <th>1</th>\n",
              "      <td>257883919</td>\n",
              "    </tr>\n",
              "    <tr>\n",
              "      <th>2</th>\n",
              "      <td>464593998</td>\n",
              "    </tr>\n",
              "  </tbody>\n",
              "</table>\n",
              "</div><br><label><b>dtype:</b> int64</label>"
            ]
          },
          "metadata": {},
          "execution_count": 47
        }
      ],
      "source": [
        "gp=df_train.groupby([\"range_hours\"])[\"trip_duration\"].sum()\n",
        "gp.sort_values()"
      ]
    },
    {
      "cell_type": "code",
      "execution_count": 48,
      "id": "36e967a2-c3d7-4706-a5ec-bd268934fc59",
      "metadata": {
        "colab": {
          "base_uri": "https://localhost:8080/",
          "height": 209
        },
        "id": "36e967a2-c3d7-4706-a5ec-bd268934fc59",
        "outputId": "f74d33ce-5d01-43de-a119-a41a09422691"
      },
      "outputs": [
        {
          "output_type": "execute_result",
          "data": {
            "text/plain": [
              "range_hours\n",
              "0     909.232317\n",
              "2     925.753451\n",
              "1    1063.276609\n",
              "Name: trip_duration, dtype: float64"
            ],
            "text/html": [
              "<div>\n",
              "<style scoped>\n",
              "    .dataframe tbody tr th:only-of-type {\n",
              "        vertical-align: middle;\n",
              "    }\n",
              "\n",
              "    .dataframe tbody tr th {\n",
              "        vertical-align: top;\n",
              "    }\n",
              "\n",
              "    .dataframe thead th {\n",
              "        text-align: right;\n",
              "    }\n",
              "</style>\n",
              "<table border=\"1\" class=\"dataframe\">\n",
              "  <thead>\n",
              "    <tr style=\"text-align: right;\">\n",
              "      <th></th>\n",
              "      <th>trip_duration</th>\n",
              "    </tr>\n",
              "    <tr>\n",
              "      <th>range_hours</th>\n",
              "      <th></th>\n",
              "    </tr>\n",
              "  </thead>\n",
              "  <tbody>\n",
              "    <tr>\n",
              "      <th>0</th>\n",
              "      <td>909.232317</td>\n",
              "    </tr>\n",
              "    <tr>\n",
              "      <th>2</th>\n",
              "      <td>925.753451</td>\n",
              "    </tr>\n",
              "    <tr>\n",
              "      <th>1</th>\n",
              "      <td>1063.276609</td>\n",
              "    </tr>\n",
              "  </tbody>\n",
              "</table>\n",
              "</div><br><label><b>dtype:</b> float64</label>"
            ]
          },
          "metadata": {},
          "execution_count": 48
        }
      ],
      "source": [
        "gp=df_train.groupby([\"range_hours\"])[\"trip_duration\"].mean()\n",
        "gp.sort_values()"
      ]
    },
    {
      "cell_type": "code",
      "execution_count": 48,
      "id": "b8ff767c-02be-455d-9ebb-d17df085e9f0",
      "metadata": {
        "id": "b8ff767c-02be-455d-9ebb-d17df085e9f0"
      },
      "outputs": [],
      "source": []
    },
    {
      "cell_type": "code",
      "execution_count": 49,
      "id": "211902d5-1f2e-4754-8fb7-ac73615ac404",
      "metadata": {
        "id": "211902d5-1f2e-4754-8fb7-ac73615ac404"
      },
      "outputs": [],
      "source": [
        "def range_months(x):\n",
        "    if 1<=x<=2 :\n",
        "        return 0  # winter\n",
        "    elif 3<=x<=5:\n",
        "        return 1  # spring\n",
        "    else:\n",
        "        return 2  # summer      #we know that data for 6 months from 1 to 6\n"
      ]
    },
    {
      "cell_type": "code",
      "execution_count": 50,
      "id": "85d2510b-ad75-4b4f-8258-a226c760d113",
      "metadata": {
        "id": "85d2510b-ad75-4b4f-8258-a226c760d113"
      },
      "outputs": [],
      "source": [
        "df_train[\"range_months\"]=df_train[\"pickup_month\"].apply(lambda x:range_months(x))"
      ]
    },
    {
      "cell_type": "code",
      "execution_count": 51,
      "id": "512c7cf6-398d-4f8f-8aba-cc37ab8c9837",
      "metadata": {
        "colab": {
          "base_uri": "https://localhost:8080/",
          "height": 209
        },
        "id": "512c7cf6-398d-4f8f-8aba-cc37ab8c9837",
        "outputId": "676b6fb1-d328-44ee-b17b-71c96504bfea"
      },
      "outputs": [
        {
          "output_type": "execute_result",
          "data": {
            "text/plain": [
              "range_months\n",
              "2    162654388\n",
              "0    291515263\n",
              "1    500715320\n",
              "Name: trip_duration, dtype: int64"
            ],
            "text/html": [
              "<div>\n",
              "<style scoped>\n",
              "    .dataframe tbody tr th:only-of-type {\n",
              "        vertical-align: middle;\n",
              "    }\n",
              "\n",
              "    .dataframe tbody tr th {\n",
              "        vertical-align: top;\n",
              "    }\n",
              "\n",
              "    .dataframe thead th {\n",
              "        text-align: right;\n",
              "    }\n",
              "</style>\n",
              "<table border=\"1\" class=\"dataframe\">\n",
              "  <thead>\n",
              "    <tr style=\"text-align: right;\">\n",
              "      <th></th>\n",
              "      <th>trip_duration</th>\n",
              "    </tr>\n",
              "    <tr>\n",
              "      <th>range_months</th>\n",
              "      <th></th>\n",
              "    </tr>\n",
              "  </thead>\n",
              "  <tbody>\n",
              "    <tr>\n",
              "      <th>2</th>\n",
              "      <td>162654388</td>\n",
              "    </tr>\n",
              "    <tr>\n",
              "      <th>0</th>\n",
              "      <td>291515263</td>\n",
              "    </tr>\n",
              "    <tr>\n",
              "      <th>1</th>\n",
              "      <td>500715320</td>\n",
              "    </tr>\n",
              "  </tbody>\n",
              "</table>\n",
              "</div><br><label><b>dtype:</b> int64</label>"
            ]
          },
          "metadata": {},
          "execution_count": 51
        }
      ],
      "source": [
        "gp=df_train.groupby([\"range_months\"])[\"trip_duration\"].sum()\n",
        "gp.sort_values()"
      ]
    },
    {
      "cell_type": "code",
      "execution_count": 52,
      "id": "46fcd7e6-ac62-42d2-a3bd-4ee974cf8061",
      "metadata": {
        "colab": {
          "base_uri": "https://localhost:8080/",
          "height": 209
        },
        "id": "46fcd7e6-ac62-42d2-a3bd-4ee974cf8061",
        "outputId": "d0972928-a4ae-4ed0-d646-2dc967b399de"
      },
      "outputs": [
        {
          "output_type": "execute_result",
          "data": {
            "text/plain": [
              "range_months\n",
              "0     907.158124\n",
              "1     966.150682\n",
              "2    1014.105367\n",
              "Name: trip_duration, dtype: float64"
            ],
            "text/html": [
              "<div>\n",
              "<style scoped>\n",
              "    .dataframe tbody tr th:only-of-type {\n",
              "        vertical-align: middle;\n",
              "    }\n",
              "\n",
              "    .dataframe tbody tr th {\n",
              "        vertical-align: top;\n",
              "    }\n",
              "\n",
              "    .dataframe thead th {\n",
              "        text-align: right;\n",
              "    }\n",
              "</style>\n",
              "<table border=\"1\" class=\"dataframe\">\n",
              "  <thead>\n",
              "    <tr style=\"text-align: right;\">\n",
              "      <th></th>\n",
              "      <th>trip_duration</th>\n",
              "    </tr>\n",
              "    <tr>\n",
              "      <th>range_months</th>\n",
              "      <th></th>\n",
              "    </tr>\n",
              "  </thead>\n",
              "  <tbody>\n",
              "    <tr>\n",
              "      <th>0</th>\n",
              "      <td>907.158124</td>\n",
              "    </tr>\n",
              "    <tr>\n",
              "      <th>1</th>\n",
              "      <td>966.150682</td>\n",
              "    </tr>\n",
              "    <tr>\n",
              "      <th>2</th>\n",
              "      <td>1014.105367</td>\n",
              "    </tr>\n",
              "  </tbody>\n",
              "</table>\n",
              "</div><br><label><b>dtype:</b> float64</label>"
            ]
          },
          "metadata": {},
          "execution_count": 52
        }
      ],
      "source": [
        "gp=df_train.groupby([\"range_months\"])[\"trip_duration\"].mean()\n",
        "gp.sort_values()"
      ]
    },
    {
      "cell_type": "markdown",
      "id": "24ca0434-7888-48c2-a419-dc955f9c216b",
      "metadata": {
        "id": "24ca0434-7888-48c2-a419-dc955f9c216b"
      },
      "source": [
        "# let's investigate some distance features"
      ]
    },
    {
      "cell_type": "code",
      "execution_count": 54,
      "id": "769555db-19f3-4b67-960a-ea7a9c1cd086",
      "metadata": {
        "id": "769555db-19f3-4b67-960a-ea7a9c1cd086"
      },
      "outputs": [],
      "source": [
        "def haversine_distance(row):\n",
        "    pick = Point(row['pickup_latitude'], row['pickup_longitude'])\n",
        "    drop = Point(row['dropoff_latitude'], row['dropoff_longitude'])\n",
        "    dist = distance.geodesic(pick, drop)\n",
        "    return dist.km"
      ]
    },
    {
      "cell_type": "code",
      "execution_count": 55,
      "id": "2df733fe-b2a5-41fe-9166-7574501620ca",
      "metadata": {
        "id": "2df733fe-b2a5-41fe-9166-7574501620ca"
      },
      "outputs": [],
      "source": [
        "def calculate_direction(row):\n",
        "    pickup_coordinates =  Point(row['pickup_latitude'], row['pickup_longitude'])\n",
        "    dropoff_coordinates = Point(row['dropoff_latitude'], row['dropoff_longitude'])\n",
        "    # Calculate the difference in longitudes\n",
        "    delta_longitude = dropoff_coordinates[1] - pickup_coordinates[1]\n",
        "    # Calculate the bearing (direction) using trigonometry\n",
        "    y = math.sin(math.radians(delta_longitude)) * math.cos(math.radians(dropoff_coordinates[0]))\n",
        "    x = math.cos(math.radians(pickup_coordinates[0])) * math.sin(math.radians(dropoff_coordinates[0])) - \\\n",
        "        math.sin(math.radians(pickup_coordinates[0])) * math.cos(math.radians(dropoff_coordinates[0])) * \\\n",
        "        math.cos(math.radians(delta_longitude))\n",
        "    # Calculate the bearing in degrees\n",
        "    bearing = math.atan2(y, x)\n",
        "    bearing = math.degrees(bearing)\n",
        "    # Adjust the bearing to be in the range [0, 360)\n",
        "    bearing = (bearing + 360) % 360\n",
        "\n",
        "    return bearing"
      ]
    },
    {
      "cell_type": "code",
      "execution_count": 56,
      "id": "fa9582cb-84e3-4b8a-a81e-00aa96008fc6",
      "metadata": {
        "id": "fa9582cb-84e3-4b8a-a81e-00aa96008fc6"
      },
      "outputs": [],
      "source": [
        "def manhattan_distance(row):\n",
        "\n",
        "    lat_distance = abs(row['pickup_latitude'] - row['dropoff_latitude']) * 111  # approx 111 km per degree latitude\n",
        "    lon_distance = abs(row['pickup_longitude'] - row['dropoff_longitude']) * 111 * math.cos(math.radians(row['pickup_latitude']))  # adjust for latitude\n",
        "\n",
        "    return lat_distance + lon_distance"
      ]
    },
    {
      "cell_type": "code",
      "execution_count": 57,
      "id": "3a6227ec-2142-49f8-b88c-654385fa0c1e",
      "metadata": {
        "id": "3a6227ec-2142-49f8-b88c-654385fa0c1e"
      },
      "outputs": [],
      "source": [
        "df_train['distance_haversine'] = df_train.apply(haversine_distance, axis=1)\n",
        "df_train['direction'] =   df_train.apply(calculate_direction, axis=1)\n",
        "df_train['distance_manhattan'] = df_train.apply(manhattan_distance, axis=1)\n"
      ]
    },
    {
      "cell_type": "code",
      "execution_count": 58,
      "id": "d6fccfcc-18eb-4e97-a34c-3afe747daf1a",
      "metadata": {
        "colab": {
          "base_uri": "https://localhost:8080/",
          "height": 335
        },
        "id": "d6fccfcc-18eb-4e97-a34c-3afe747daf1a",
        "outputId": "ac74b91c-2a94-4d7d-9d41-9b7bef1210e4"
      },
      "outputs": [
        {
          "output_type": "execute_result",
          "data": {
            "text/plain": [
              "count    1000000.000000\n",
              "mean           3.440429\n",
              "std            4.428006\n",
              "min            0.000000\n",
              "25%            1.232421\n",
              "50%            2.091711\n",
              "75%            3.870799\n",
              "max         1240.510256\n",
              "Name: distance_haversine, dtype: float64"
            ],
            "text/html": [
              "<div>\n",
              "<style scoped>\n",
              "    .dataframe tbody tr th:only-of-type {\n",
              "        vertical-align: middle;\n",
              "    }\n",
              "\n",
              "    .dataframe tbody tr th {\n",
              "        vertical-align: top;\n",
              "    }\n",
              "\n",
              "    .dataframe thead th {\n",
              "        text-align: right;\n",
              "    }\n",
              "</style>\n",
              "<table border=\"1\" class=\"dataframe\">\n",
              "  <thead>\n",
              "    <tr style=\"text-align: right;\">\n",
              "      <th></th>\n",
              "      <th>distance_haversine</th>\n",
              "    </tr>\n",
              "  </thead>\n",
              "  <tbody>\n",
              "    <tr>\n",
              "      <th>count</th>\n",
              "      <td>1000000.000000</td>\n",
              "    </tr>\n",
              "    <tr>\n",
              "      <th>mean</th>\n",
              "      <td>3.440429</td>\n",
              "    </tr>\n",
              "    <tr>\n",
              "      <th>std</th>\n",
              "      <td>4.428006</td>\n",
              "    </tr>\n",
              "    <tr>\n",
              "      <th>min</th>\n",
              "      <td>0.000000</td>\n",
              "    </tr>\n",
              "    <tr>\n",
              "      <th>25%</th>\n",
              "      <td>1.232421</td>\n",
              "    </tr>\n",
              "    <tr>\n",
              "      <th>50%</th>\n",
              "      <td>2.091711</td>\n",
              "    </tr>\n",
              "    <tr>\n",
              "      <th>75%</th>\n",
              "      <td>3.870799</td>\n",
              "    </tr>\n",
              "    <tr>\n",
              "      <th>max</th>\n",
              "      <td>1240.510256</td>\n",
              "    </tr>\n",
              "  </tbody>\n",
              "</table>\n",
              "</div><br><label><b>dtype:</b> float64</label>"
            ]
          },
          "metadata": {},
          "execution_count": 58
        }
      ],
      "source": [
        "df_train['distance_haversine'].describe()"
      ]
    },
    {
      "cell_type": "code",
      "execution_count": 59,
      "id": "3f14a38c-237f-40a9-8a7d-8524e17dcb47",
      "metadata": {
        "colab": {
          "base_uri": "https://localhost:8080/",
          "height": 450
        },
        "id": "3f14a38c-237f-40a9-8a7d-8524e17dcb47",
        "outputId": "4cf2bcc3-00e9-4b74-cd4b-bc3b54cc9ea3"
      },
      "outputs": [
        {
          "output_type": "display_data",
          "data": {
            "text/plain": [
              "<Figure size 640x480 with 1 Axes>"
            ],
            "image/png": "[encoded data removed]"
          },
          "metadata": {}
        }
      ],
      "source": [
        "sns.histplot(df_train['distance_haversine'])\n",
        "plt.show()"
      ]
    },
    {
      "cell_type": "code",
      "execution_count": 60,
      "id": "9758d84e-179a-4e52-8501-46c72b7ea36f",
      "metadata": {
        "colab": {
          "base_uri": "https://localhost:8080/",
          "height": 411
        },
        "id": "9758d84e-179a-4e52-8501-46c72b7ea36f",
        "outputId": "95547e55-473c-42dc-f478-7ff79a222fa1"
      },
      "outputs": [
        {
          "output_type": "display_data",
          "data": {
            "text/plain": [
              "<Figure size 640x480 with 1 Axes>"
            ],
            "image/png": "[encoded data removed]"
          },
          "metadata": {}
        }
      ],
      "source": [
        "sns.boxplot(df_train['distance_haversine'])\n",
        "plt.show()  # see the outliers"
      ]
    },
    {
      "cell_type": "code",
      "execution_count": 61,
      "id": "a160b480-d12b-4a17-8b79-22c31ecd825c",
      "metadata": {
        "colab": {
          "base_uri": "https://localhost:8080/",
          "height": 617
        },
        "id": "a160b480-d12b-4a17-8b79-22c31ecd825c",
        "outputId": "e535a778-165d-4c16-bb73-6103662b1e20"
      },
      "outputs": [
        {
          "output_type": "execute_result",
          "data": {
            "text/plain": [
              "               id  vendor_id     pickup_datetime  passenger_count  \\\n",
              "4       id0140657          1 2016-05-12 17:43:38                4   \n",
              "12      id0088775          2 2016-04-14 18:29:44                1   \n",
              "21      id0874642          2 2016-06-10 01:45:44                1   \n",
              "62      id1106419          2 2016-05-31 10:49:14                1   \n",
              "90      id3475936          2 2016-01-03 17:30:18                6   \n",
              "...           ...        ...                 ...              ...   \n",
              "999737  id3163537          2 2016-01-29 13:42:10                1   \n",
              "999894  id0328398          1 2016-01-21 08:58:02                1   \n",
              "999929  id2898997          2 2016-04-05 22:16:15                2   \n",
              "999974  id3977682          2 2016-01-07 23:38:32                4   \n",
              "999986  id2725234          2 2016-06-19 18:02:35                6   \n",
              "\n",
              "        pickup_longitude  pickup_latitude  dropoff_longitude  \\\n",
              "4             -73.789497        40.646675         -73.987137   \n",
              "12            -73.776665        40.645432         -73.968163   \n",
              "21            -73.975868        40.746498         -73.699997   \n",
              "62            -73.781944        40.644691         -73.967003   \n",
              "90            -73.977119        40.764389         -73.784363   \n",
              "...                  ...              ...                ...   \n",
              "999737        -73.781898        40.644650         -73.996422   \n",
              "999894        -73.997604        40.756657         -73.789085   \n",
              "999929        -73.776741        40.645378         -73.963425   \n",
              "999974        -73.971069        40.758549         -73.734138   \n",
              "999986        -73.953354        40.779510         -74.183289   \n",
              "\n",
              "        dropoff_latitude store_and_fwd_flag  trip_duration  pickup_hour  \\\n",
              "4              40.759232                  N           4967           17   \n",
              "12             40.754810                  N           2971           18   \n",
              "21             40.795990                  N           1748            1   \n",
              "62             40.798595                  N           2980           10   \n",
              "90             40.643372                  N           2877           17   \n",
              "...                  ...                ...            ...          ...   \n",
              "999737         40.732609                  N           2609           13   \n",
              "999894         40.641670                  N           3308            8   \n",
              "999929         40.765919                  N           1882           22   \n",
              "999974         40.772141                  N           2605           23   \n",
              "999986         40.688007                  N           2890           18   \n",
              "\n",
              "        pickup_month  pickup_day pickup_dayofweek  pickup_minute  \\\n",
              "4                  5          12         Thursday             43   \n",
              "12                 4          14         Thursday             29   \n",
              "21                 6          10           Friday             45   \n",
              "62                 5          31          Tuesday             49   \n",
              "90                 1           3           Sunday             30   \n",
              "...              ...         ...              ...            ...   \n",
              "999737             1          29           Friday             42   \n",
              "999894             1          21         Thursday             58   \n",
              "999929             4           5          Tuesday             16   \n",
              "999974             1           7         Thursday             38   \n",
              "999986             6          19           Sunday              2   \n",
              "\n",
              "        log_trip_duration  is_weekend  range_minutes  range_hours  \\\n",
              "4                8.510773           0              2            2   \n",
              "12               7.996990           0              1            2   \n",
              "21               7.466799           0              2            2   \n",
              "62               8.000014           0              3            0   \n",
              "90               7.964851           1              1            2   \n",
              "...                   ...         ...            ...          ...   \n",
              "999737           7.867106           0              2            1   \n",
              "999894           8.104401           0              3            0   \n",
              "999929           7.540622           0              1            2   \n",
              "999974           7.865572           0              2            2   \n",
              "999986           7.969358           1              0            2   \n",
              "\n",
              "        range_months  distance_haversine   direction  distance_manhattan  \n",
              "4                  1           20.861805  306.979191           29.139010  \n",
              "12                 1           20.235383  307.056678           28.269340  \n",
              "21                 2           23.930219   76.582828           28.692757  \n",
              "62                 1           23.163689  317.717216           32.669482  \n",
              "90                 0           21.117850  129.567538           29.638281  \n",
              "...              ...                 ...         ...                 ...  \n",
              "999737             0           20.596990  298.471675           27.831235  \n",
              "999894             0           21.763007  125.962618           30.296039  \n",
              "999929             1           20.689912  310.483909           29.102857  \n",
              "999974             0           20.061604   85.591247           21.429571  \n",
              "999986             2           21.920624  242.367640           29.483408  \n",
              "\n",
              "[16491 rows x 23 columns]"
            ],
            "text/html": [
              "\n",
              "  <div id=\"df-b9158ad2-c9f3-48df-b876-98413dcef562\" class=\"colab-df-container\">\n",
              "    <div>\n",
              "<style scoped>\n",
              "    .dataframe tbody tr th:only-of-type {\n",
              "        vertical-align: middle;\n",
              "    }\n",
              "\n",
              "    .dataframe tbody tr th {\n",
              "        vertical-align: top;\n",
              "    }\n",
              "\n",
              "    .dataframe thead th {\n",
              "        text-align: right;\n",
              "    }\n",
              "</style>\n",
              "<table border=\"1\" class=\"dataframe\">\n",
              "  <thead>\n",
              "    <tr style=\"text-align: right;\">\n",
              "      <th></th>\n",
              "      <th>id</th>\n",
              "      <th>vendor_id</th>\n",
              "      <th>pickup_datetime</th>\n",
              "      <th>passenger_count</th>\n",
              "      <th>pickup_longitude</th>\n",
              "      <th>pickup_latitude</th>\n",
              "      <th>dropoff_longitude</th>\n",
              "      <th>dropoff_latitude</th>\n",
              "      <th>store_and_fwd_flag</th>\n",
              "      <th>trip_duration</th>\n",
              "      <th>pickup_hour</th>\n",
              "      <th>pickup_month</th>\n",
              "      <th>pickup_day</th>\n",
              "      <th>pickup_dayofweek</th>\n",
              "      <th>pickup_minute</th>\n",
              "      <th>log_trip_duration</th>\n",
              "      <th>is_weekend</th>\n",
              "      <th>range_minutes</th>\n",
              "      <th>range_hours</th>\n",
              "      <th>range_months</th>\n",
              "      <th>distance_haversine</th>\n",
              "      <th>direction</th>\n",
              "      <th>distance_manhattan</th>\n",
              "    </tr>\n",
              "  </thead>\n",
              "  <tbody>\n",
              "    <tr>\n",
              "      <th>4</th>\n",
              "      <td>id0140657</td>\n",
              "      <td>1</td>\n",
              "      <td>2016-05-12 17:43:38</td>\n",
              "      <td>4</td>\n",
              "      <td>-73.789497</td>\n",
              "      <td>40.646675</td>\n",
              "      <td>-73.987137</td>\n",
              "      <td>40.759232</td>\n",
              "      <td>N</td>\n",
              "      <td>4967</td>\n",
              "      <td>17</td>\n",
              "      <td>5</td>\n",
              "      <td>12</td>\n",
              "      <td>Thursday</td>\n",
              "      <td>43</td>\n",
              "      <td>8.510773</td>\n",
              "      <td>0</td>\n",
              "      <td>2</td>\n",
              "      <td>2</td>\n",
              "      <td>1</td>\n",
              "      <td>20.861805</td>\n",
              "      <td>306.979191</td>\n",
              "      <td>29.139010</td>\n",
              "    </tr>\n",
              "    <tr>\n",
              "      <th>12</th>\n",
              "      <td>id0088775</td>\n",
              "      <td>2</td>\n",
              "      <td>2016-04-14 18:29:44</td>\n",
              "      <td>1</td>\n",
              "      <td>-73.776665</td>\n",
              "      <td>40.645432</td>\n",
              "      <td>-73.968163</td>\n",
              "      <td>40.754810</td>\n",
              "      <td>N</td>\n",
              "      <td>2971</td>\n",
              "      <td>18</td>\n",
              "      <td>4</td>\n",
              "      <td>14</td>\n",
              "      <td>Thursday</td>\n",
              "      <td>29</td>\n",
              "      <td>7.996990</td>\n",
              "      <td>0</td>\n",
              "      <td>1</td>\n",
              "      <td>2</td>\n",
              "      <td>1</td>\n",
              "      <td>20.235383</td>\n",
              "      <td>307.056678</td>\n",
              "      <td>28.269340</td>\n",
              "    </tr>\n",
              "    <tr>\n",
              "      <th>21</th>\n",
              "      <td>id0874642</td>\n",
              "      <td>2</td>\n",
              "      <td>2016-06-10 01:45:44</td>\n",
              "      <td>1</td>\n",
              "      <td>-73.975868</td>\n",
              "      <td>40.746498</td>\n",
              "      <td>-73.699997</td>\n",
              "      <td>40.795990</td>\n",
              "      <td>N</td>\n",
              "      <td>1748</td>\n",
              "      <td>1</td>\n",
              "      <td>6</td>\n",
              "      <td>10</td>\n",
              "      <td>Friday</td>\n",
              "      <td>45</td>\n",
              "      <td>7.466799</td>\n",
              "      <td>0</td>\n",
              "      <td>2</td>\n",
              "      <td>2</td>\n",
              "      <td>2</td>\n",
              "      <td>23.930219</td>\n",
              "      <td>76.582828</td>\n",
              "      <td>28.692757</td>\n",
              "    </tr>\n",
              "    <tr>\n",
              "      <th>62</th>\n",
              "      <td>id1106419</td>\n",
              "      <td>2</td>\n",
              "      <td>2016-05-31 10:49:14</td>\n",
              "      <td>1</td>\n",
              "      <td>-73.781944</td>\n",
              "      <td>40.644691</td>\n",
              "      <td>-73.967003</td>\n",
              "      <td>40.798595</td>\n",
              "      <td>N</td>\n",
              "      <td>2980</td>\n",
              "      <td>10</td>\n",
              "      <td>5</td>\n",
              "      <td>31</td>\n",
              "      <td>Tuesday</td>\n",
              "      <td>49</td>\n",
              "      <td>8.000014</td>\n",
              "      <td>0</td>\n",
              "      <td>3</td>\n",
              "      <td>0</td>\n",
              "      <td>1</td>\n",
              "      <td>23.163689</td>\n",
              "      <td>317.717216</td>\n",
              "      <td>32.669482</td>\n",
              "    </tr>\n",
              "    <tr>\n",
              "      <th>90</th>\n",
              "      <td>id3475936</td>\n",
              "      <td>2</td>\n",
              "      <td>2016-01-03 17:30:18</td>\n",
              "      <td>6</td>\n",
              "      <td>-73.977119</td>\n",
              "      <td>40.764389</td>\n",
              "      <td>-73.784363</td>\n",
              "      <td>40.643372</td>\n",
              "      <td>N</td>\n",
              "      <td>2877</td>\n",
              "      <td>17</td>\n",
              "      <td>1</td>\n",
              "      <td>3</td>\n",
              "      <td>Sunday</td>\n",
              "      <td>30</td>\n",
              "      <td>7.964851</td>\n",
              "      <td>1</td>\n",
              "      <td>1</td>\n",
              "      <td>2</td>\n",
              "      <td>0</td>\n",
              "      <td>21.117850</td>\n",
              "      <td>129.567538</td>\n",
              "      <td>29.638281</td>\n",
              "    </tr>\n",
              "    <tr>\n",
              "      <th>...</th>\n",
              "      <td>...</td>\n",
              "      <td>...</td>\n",
              "      <td>...</td>\n",
              "      <td>...</td>\n",
              "      <td>...</td>\n",
              "      <td>...</td>\n",
              "      <td>...</td>\n",
              "      <td>...</td>\n",
              "      <td>...</td>\n",
              "      <td>...</td>\n",
              "      <td>...</td>\n",
              "      <td>...</td>\n",
              "      <td>...</td>\n",
              "      <td>...</td>\n",
              "      <td>...</td>\n",
              "      <td>...</td>\n",
              "      <td>...</td>\n",
              "      <td>...</td>\n",
              "      <td>...</td>\n",
              "      <td>...</td>\n",
              "      <td>...</td>\n",
              "      <td>...</td>\n",
              "      <td>...</td>\n",
              "    </tr>\n",
              "    <tr>\n",
              "      <th>999737</th>\n",
              "      <td>id3163537</td>\n",
              "      <td>2</td>\n",
              "      <td>2016-01-29 13:42:10</td>\n",
              "      <td>1</td>\n",
              "      <td>-73.781898</td>\n",
              "      <td>40.644650</td>\n",
              "      <td>-73.996422</td>\n",
              "      <td>40.732609</td>\n",
              "      <td>N</td>\n",
              "      <td>2609</td>\n",
              "      <td>13</td>\n",
              "      <td>1</td>\n",
              "      <td>29</td>\n",
              "      <td>Friday</td>\n",
              "      <td>42</td>\n",
              "      <td>7.867106</td>\n",
              "      <td>0</td>\n",
              "      <td>2</td>\n",
              "      <td>1</td>\n",
              "      <td>0</td>\n",
              "      <td>20.596990</td>\n",
              "      <td>298.471675</td>\n",
              "      <td>27.831235</td>\n",
              "    </tr>\n",
              "    <tr>\n",
              "      <th>999894</th>\n",
              "      <td>id0328398</td>\n",
              "      <td>1</td>\n",
              "      <td>2016-01-21 08:58:02</td>\n",
              "      <td>1</td>\n",
              "      <td>-73.997604</td>\n",
              "      <td>40.756657</td>\n",
              "      <td>-73.789085</td>\n",
              "      <td>40.641670</td>\n",
              "      <td>N</td>\n",
              "      <td>3308</td>\n",
              "      <td>8</td>\n",
              "      <td>1</td>\n",
              "      <td>21</td>\n",
              "      <td>Thursday</td>\n",
              "      <td>58</td>\n",
              "      <td>8.104401</td>\n",
              "      <td>0</td>\n",
              "      <td>3</td>\n",
              "      <td>0</td>\n",
              "      <td>0</td>\n",
              "      <td>21.763007</td>\n",
              "      <td>125.962618</td>\n",
              "      <td>30.296039</td>\n",
              "    </tr>\n",
              "    <tr>\n",
              "      <th>999929</th>\n",
              "      <td>id2898997</td>\n",
              "      <td>2</td>\n",
              "      <td>2016-04-05 22:16:15</td>\n",
              "      <td>2</td>\n",
              "      <td>-73.776741</td>\n",
              "      <td>40.645378</td>\n",
              "      <td>-73.963425</td>\n",
              "      <td>40.765919</td>\n",
              "      <td>N</td>\n",
              "      <td>1882</td>\n",
              "      <td>22</td>\n",
              "      <td>4</td>\n",
              "      <td>5</td>\n",
              "      <td>Tuesday</td>\n",
              "      <td>16</td>\n",
              "      <td>7.540622</td>\n",
              "      <td>0</td>\n",
              "      <td>1</td>\n",
              "      <td>2</td>\n",
              "      <td>1</td>\n",
              "      <td>20.689912</td>\n",
              "      <td>310.483909</td>\n",
              "      <td>29.102857</td>\n",
              "    </tr>\n",
              "    <tr>\n",
              "      <th>999974</th>\n",
              "      <td>id3977682</td>\n",
              "      <td>2</td>\n",
              "      <td>2016-01-07 23:38:32</td>\n",
              "      <td>4</td>\n",
              "      <td>-73.971069</td>\n",
              "      <td>40.758549</td>\n",
              "      <td>-73.734138</td>\n",
              "      <td>40.772141</td>\n",
              "      <td>N</td>\n",
              "      <td>2605</td>\n",
              "      <td>23</td>\n",
              "      <td>1</td>\n",
              "      <td>7</td>\n",
              "      <td>Thursday</td>\n",
              "      <td>38</td>\n",
              "      <td>7.865572</td>\n",
              "      <td>0</td>\n",
              "      <td>2</td>\n",
              "      <td>2</td>\n",
              "      <td>0</td>\n",
              "      <td>20.061604</td>\n",
              "      <td>85.591247</td>\n",
              "      <td>21.429571</td>\n",
              "    </tr>\n",
              "    <tr>\n",
              "      <th>999986</th>\n",
              "      <td>id2725234</td>\n",
              "      <td>2</td>\n",
              "      <td>2016-06-19 18:02:35</td>\n",
              "      <td>6</td>\n",
              "      <td>-73.953354</td>\n",
              "      <td>40.779510</td>\n",
              "      <td>-74.183289</td>\n",
              "      <td>40.688007</td>\n",
              "      <td>N</td>\n",
              "      <td>2890</td>\n",
              "      <td>18</td>\n",
              "      <td>6</td>\n",
              "      <td>19</td>\n",
              "      <td>Sunday</td>\n",
              "      <td>2</td>\n",
              "      <td>7.969358</td>\n",
              "      <td>1</td>\n",
              "      <td>0</td>\n",
              "      <td>2</td>\n",
              "      <td>2</td>\n",
              "      <td>21.920624</td>\n",
              "      <td>242.367640</td>\n",
              "      <td>29.483408</td>\n",
              "    </tr>\n",
              "  </tbody>\n",
              "</table>\n",
              "<p>16491 rows × 23 columns</p>\n",
              "</div>\n",
              "    <div class=\"colab-df-buttons\">\n",
              "\n",
              "  <div class=\"colab-df-container\">\n",
              "    <button class=\"colab-df-convert\" onclick=\"convertToInteractive('df-b9158ad2-c9f3-48df-b876-98413dcef562')\"\n",
              "            title=\"Convert this dataframe to an interactive table.\"\n",
              "            style=\"display:none;\">\n",
              "\n",
              "  <svg xmlns=\"http://www.w3.org/2000/svg\" height=\"24px\" viewBox=\"0 -960 960 960\">\n",
              "    <path d=\"M120-120v-720h720v720H120Zm60-500h600v-160H180v160Zm220 220h160v-160H400v160Zm0 220h160v-160H400v160ZM180-400h160v-160H180v160Zm440 0h160v-160H620v160ZM180-180h160v-160H180v160Zm440 0h160v-160H620v160Z\"/>\n",
              "  </svg>\n",
              "    </button>\n",
              "\n",
              "  <style>\n",
              "    .colab-df-container {\n",
              "      display:flex;\n",
              "      gap: 12px;\n",
              "    }\n",
              "\n",
              "    .colab-df-convert {\n",
              "      background-color: #E8F0FE;\n",
              "      border: none;\n",
              "      border-radius: 50%;\n",
              "      cursor: pointer;\n",
              "      display: none;\n",
              "      fill: #1967D2;\n",
              "      height: 32px;\n",
              "      padding: 0 0 0 0;\n",
              "      width: 32px;\n",
              "    }\n",
              "\n",
              "    .colab-df-convert:hover {\n",
              "      background-color: #E2EBFA;\n",
              "      box-shadow: 0px 1px 2px rgba(60, 64, 67, 0.3), 0px 1px 3px 1px rgba(60, 64, 67, 0.15);\n",
              "      fill: #174EA6;\n",
              "    }\n",
              "\n",
              "    .colab-df-buttons div {\n",
              "      margin-bottom: 4px;\n",
              "    }\n",
              "\n",
              "    [theme=dark] .colab-df-convert {\n",
              "      background-color: #3B4455;\n",
              "      fill: #D2E3FC;\n",
              "    }\n",
              "\n",
              "    [theme=dark] .colab-df-convert:hover {\n",
              "      background-color: #434B5C;\n",
              "      box-shadow: 0px 1px 3px 1px rgba(0, 0, 0, 0.15);\n",
              "      filter: drop-shadow(0px 1px 2px rgba(0, 0, 0, 0.3));\n",
              "      fill: #FFFFFF;\n",
              "    }\n",
              "  </style>\n",
              "\n",
              "    <script>\n",
              "      const buttonEl =\n",
              "        document.querySelector('#df-b9158ad2-c9f3-48df-b876-98413dcef562 button.colab-df-convert');\n",
              "      buttonEl.style.display =\n",
              "        google.colab.kernel.accessAllowed ? 'block' : 'none';\n",
              "\n",
              "      async function convertToInteractive(key) {\n",
              "        const element = document.querySelector('#df-b9158ad2-c9f3-48df-b876-98413dcef562');\n",
              "        const dataTable =\n",
              "          await google.colab.kernel.invokeFunction('convertToInteractive',\n",
              "                                                    [key], {});\n",
              "        if (!dataTable) return;\n",
              "\n",
              "        const docLinkHtml = 'Like what you see? Visit the ' +\n",
              "          '<a target=\"_blank\" href=https://colab.research.google.com/notebooks/data_table.ipynb>data table notebook</a>'\n",
              "          + ' to learn more about interactive tables.';\n",
              "        element.innerHTML = '';\n",
              "        dataTable['output_type'] = 'display_data';\n",
              "        await google.colab.output.renderOutput(dataTable, element);\n",
              "        const docLink = document.createElement('div');\n",
              "        docLink.innerHTML = docLinkHtml;\n",
              "        element.appendChild(docLink);\n",
              "      }\n",
              "    </script>\n",
              "  </div>\n",
              "\n",
              "\n",
              "<div id=\"df-46b293b6-d9cf-4c39-ad40-c43b7b542ffd\">\n",
              "  <button class=\"colab-df-quickchart\" onclick=\"quickchart('df-46b293b6-d9cf-4c39-ad40-c43b7b542ffd')\"\n",
              "            title=\"Suggest charts\"\n",
              "            style=\"display:none;\">\n",
              "\n",
              "<svg xmlns=\"http://www.w3.org/2000/svg\" height=\"24px\"viewBox=\"0 0 24 24\"\n",
              "     width=\"24px\">\n",
              "    <g>\n",
              "        <path d=\"M19 3H5c-1.1 0-2 .9-2 2v14c0 1.1.9 2 2 2h14c1.1 0 2-.9 2-2V5c0-1.1-.9-2-2-2zM9 17H7v-7h2v7zm4 0h-2V7h2v10zm4 0h-2v-4h2v4z\"/>\n",
              "    </g>\n",
              "</svg>\n",
              "  </button>\n",
              "\n",
              "<style>\n",
              "  .colab-df-quickchart {\n",
              "      --bg-color: #E8F0FE;\n",
              "      --fill-color: #1967D2;\n",
              "      --hover-bg-color: #E2EBFA;\n",
              "      --hover-fill-color: #174EA6;\n",
              "      --disabled-fill-color: #AAA;\n",
              "      --disabled-bg-color: #DDD;\n",
              "  }\n",
              "\n",
              "  [theme=dark] .colab-df-quickchart {\n",
              "      --bg-color: #3B4455;\n",
              "      --fill-color: #D2E3FC;\n",
              "      --hover-bg-color: #434B5C;\n",
              "      --hover-fill-color: #FFFFFF;\n",
              "      --disabled-bg-color: #3B4455;\n",
              "      --disabled-fill-color: #666;\n",
              "  }\n",
              "\n",
              "  .colab-df-quickchart {\n",
              "    background-color: var(--bg-color);\n",
              "    border: none;\n",
              "    border-radius: 50%;\n",
              "    cursor: pointer;\n",
              "    display: none;\n",
              "    fill: var(--fill-color);\n",
              "    height: 32px;\n",
              "    padding: 0;\n",
              "    width: 32px;\n",
              "  }\n",
              "\n",
              "  .colab-df-quickchart:hover {\n",
              "    background-color: var(--hover-bg-color);\n",
              "    box-shadow: 0 1px 2px rgba(60, 64, 67, 0.3), 0 1px 3px 1px rgba(60, 64, 67, 0.15);\n",
              "    fill: var(--button-hover-fill-color);\n",
              "  }\n",
              "\n",
              "  .colab-df-quickchart-complete:disabled,\n",
              "  .colab-df-quickchart-complete:disabled:hover {\n",
              "    background-color: var(--disabled-bg-color);\n",
              "    fill: var(--disabled-fill-color);\n",
              "    box-shadow: none;\n",
              "  }\n",
              "\n",
              "  .colab-df-spinner {\n",
              "    border: 2px solid var(--fill-color);\n",
              "    border-color: transparent;\n",
              "    border-bottom-color: var(--fill-color);\n",
              "    animation:\n",
              "      spin 1s steps(1) infinite;\n",
              "  }\n",
              "\n",
              "  @keyframes spin {\n",
              "    0% {\n",
              "      border-color: transparent;\n",
              "      border-bottom-color: var(--fill-color);\n",
              "      border-left-color: var(--fill-color);\n",
              "    }\n",
              "    20% {\n",
              "      border-color: transparent;\n",
              "      border-left-color: var(--fill-color);\n",
              "      border-top-color: var(--fill-color);\n",
              "    }\n",
              "    30% {\n",
              "      border-color: transparent;\n",
              "      border-left-color: var(--fill-color);\n",
              "      border-top-color: var(--fill-color);\n",
              "      border-right-color: var(--fill-color);\n",
              "    }\n",
              "    40% {\n",
              "      border-color: transparent;\n",
              "      border-right-color: var(--fill-color);\n",
              "      border-top-color: var(--fill-color);\n",
              "    }\n",
              "    60% {\n",
              "      border-color: transparent;\n",
              "      border-right-color: var(--fill-color);\n",
              "    }\n",
              "    80% {\n",
              "      border-color: transparent;\n",
              "      border-right-color: var(--fill-color);\n",
              "      border-bottom-color: var(--fill-color);\n",
              "    }\n",
              "    90% {\n",
              "      border-color: transparent;\n",
              "      border-bottom-color: var(--fill-color);\n",
              "    }\n",
              "  }\n",
              "</style>\n",
              "\n",
              "  <script>\n",
              "    async function quickchart(key) {\n",
              "      const quickchartButtonEl =\n",
              "        document.querySelector('#' + key + ' button');\n",
              "      quickchartButtonEl.disabled = true;  // To prevent multiple clicks.\n",
              "      quickchartButtonEl.classList.add('colab-df-spinner');\n",
              "      try {\n",
              "        const charts = await google.colab.kernel.invokeFunction(\n",
              "            'suggestCharts', [key], {});\n",
              "      } catch (error) {\n",
              "        console.error('Error during call to suggestCharts:', error);\n",
              "      }\n",
              "      quickchartButtonEl.classList.remove('colab-df-spinner');\n",
              "      quickchartButtonEl.classList.add('colab-df-quickchart-complete');\n",
              "    }\n",
              "    (() => {\n",
              "      let quickchartButtonEl =\n",
              "        document.querySelector('#df-46b293b6-d9cf-4c39-ad40-c43b7b542ffd button');\n",
              "      quickchartButtonEl.style.display =\n",
              "        google.colab.kernel.accessAllowed ? 'block' : 'none';\n",
              "    })();\n",
              "  </script>\n",
              "</div>\n",
              "\n",
              "    </div>\n",
              "  </div>\n"
            ],
            "application/vnd.google.colaboratory.intrinsic+json": {
              "type": "dataframe"
            }
          },
          "metadata": {},
          "execution_count": 61
        }
      ],
      "source": [
        "f=df_train['distance_haversine']>20\n",
        "df_train[f]"
      ]
    },
    {
      "cell_type": "code",
      "execution_count": 61,
      "id": "3ab3c801-0aa5-485a-872f-2f1643343862",
      "metadata": {
        "id": "3ab3c801-0aa5-485a-872f-2f1643343862"
      },
      "outputs": [],
      "source": []
    },
    {
      "cell_type": "code",
      "execution_count": 62,
      "id": "12a44a61-883c-43b4-8fa7-2e112ecb1046",
      "metadata": {
        "colab": {
          "base_uri": "https://localhost:8080/"
        },
        "id": "12a44a61-883c-43b4-8fa7-2e112ecb1046",
        "outputId": "5428f854-5e51-4031-a74f-f113c409aff8"
      },
      "outputs": [
        {
          "output_type": "execute_result",
          "data": {
            "text/plain": [
              "Index(['id', 'vendor_id', 'pickup_datetime', 'passenger_count',\n",
              "       'pickup_longitude', 'pickup_latitude', 'dropoff_longitude',\n",
              "       'dropoff_latitude', 'store_and_fwd_flag', 'trip_duration',\n",
              "       'pickup_hour', 'pickup_month', 'pickup_day', 'pickup_dayofweek',\n",
              "       'pickup_minute', 'log_trip_duration', 'is_weekend', 'range_minutes',\n",
              "       'range_hours', 'range_months', 'distance_haversine', 'direction',\n",
              "       'distance_manhattan'],\n",
              "      dtype='object')"
            ]
          },
          "metadata": {},
          "execution_count": 62
        }
      ],
      "source": [
        "df_train.columns"
      ]
    },
    {
      "cell_type": "code",
      "execution_count": 63,
      "id": "8be02504-3395-4694-92db-80e8a97946a8",
      "metadata": {
        "id": "8be02504-3395-4694-92db-80e8a97946a8"
      },
      "outputs": [],
      "source": [
        "df_train_corr=df_train[['vendor_id','passenger_count','pickup_hour', 'pickup_month', 'pickup_day','pickup_minute', 'log_trip_duration', 'is_weekend', 'range_minutes','range_hours', 'range_months', 'distance_haversine', 'direction','distance_manhattan']]"
      ]
    },
    {
      "cell_type": "code",
      "execution_count": 64,
      "id": "dfabb98a-0c8e-4ca9-acd0-c300fac934d1",
      "metadata": {
        "colab": {
          "base_uri": "https://localhost:8080/",
          "height": 564
        },
        "id": "dfabb98a-0c8e-4ca9-acd0-c300fac934d1",
        "outputId": "3e019645-6406-4984-8f53-bc60da25dcc8"
      },
      "outputs": [
        {
          "output_type": "display_data",
          "data": {
            "text/plain": [
              "<Figure size 640x480 with 2 Axes>"
            ],
            "image/png": "[encoded data removed]"
          },
          "metadata": {}
        }
      ],
      "source": [
        "sns.heatmap(df_train_corr.corr())\n",
        "plt.show()"
      ]
    },
    {
      "cell_type": "code",
      "execution_count": null,
      "id": "91f8535b-ec5c-4c0c-b943-e3e152c9cdb5",
      "metadata": {
        "id": "91f8535b-ec5c-4c0c-b943-e3e152c9cdb5"
      },
      "outputs": [],
      "source": []
    },
    {
      "cell_type": "markdown",
      "id": "b9e4c6ff-6011-441e-92b6-2457db904b8c",
      "metadata": {
        "id": "b9e4c6ff-6011-441e-92b6-2457db904b8c"
      },
      "source": [
        "# End of EDA"
      ]
    }
  ],
  "metadata": {
    "kernelspec": {
      "display_name": "Python 3 (ipykernel)",
      "language": "python",
      "name": "python3"
    },
    "language_info": {
      "codemirror_mode": {
        "name": "ipython",
        "version": 3
      },
      "file_extension": ".py",
      "mimetype": "text/x-python",
      "name": "python",
      "nbconvert_exporter": "python",
      "pygments_lexer": "ipython3",
      "version": "3.11.5"
    },
    "colab": {
      "provenance": []
    }
  },
  "nbformat": 4,
  "nbformat_minor": 5
}